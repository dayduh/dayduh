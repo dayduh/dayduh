{
  "nbformat": 4,
  "nbformat_minor": 0,
  "metadata": {
    "colab": {
      "name": "CS710 Final Project.ipynb",
      "provenance": []
    },
    "kernelspec": {
      "name": "ir",
      "display_name": "R"
    },
    "language_info": {
      "name": "R"
    }
  },
  "cells": [
    {
      "cell_type": "code",
      "source": [
        "install.packages(\"tidyverse\")\n",
        "install.packages(\"dplyr\")\n",
        "install.packages(\"stringr\")\n",
        "install.packages(\"ggplot2\")\n",
        "install.packages(\"forcats\")\n",
        "install.packages(\"here\")\n",
        "install.packages(\"formatR\")\n",
        "install.packages(\"readr\")\n",
        "install.packages('rsample')\n",
        "install.packages('plotROC')\n",
        "install.packages('glmnet')\n",
        "install.packages('glmnetUtils')\n",
        "install.packages('yardstick')\n",
        "install.packages(\"ggvoronoi\")\n",
        "install.packages(\"viridis\")\n",
        "install.packages(\"ggcorrplot\")"
      ],
      "metadata": {
        "id": "OCh5jc8sRJJu",
        "colab": {
          "base_uri": "https://localhost:8080/"
        },
        "outputId": "858863cf-be71-4fdf-ccc4-2f5850632066"
      },
      "execution_count": 5,
      "outputs": [
        {
          "output_type": "stream",
          "name": "stderr",
          "text": [
            "Installing package into ‘/usr/local/lib/R/site-library’\n",
            "(as ‘lib’ is unspecified)\n",
            "\n",
            "Installing package into ‘/usr/local/lib/R/site-library’\n",
            "(as ‘lib’ is unspecified)\n",
            "\n",
            "Installing package into ‘/usr/local/lib/R/site-library’\n",
            "(as ‘lib’ is unspecified)\n",
            "\n",
            "Installing package into ‘/usr/local/lib/R/site-library’\n",
            "(as ‘lib’ is unspecified)\n",
            "\n",
            "Installing package into ‘/usr/local/lib/R/site-library’\n",
            "(as ‘lib’ is unspecified)\n",
            "\n",
            "Installing package into ‘/usr/local/lib/R/site-library’\n",
            "(as ‘lib’ is unspecified)\n",
            "\n",
            "Installing package into ‘/usr/local/lib/R/site-library’\n",
            "(as ‘lib’ is unspecified)\n",
            "\n",
            "Installing package into ‘/usr/local/lib/R/site-library’\n",
            "(as ‘lib’ is unspecified)\n",
            "\n",
            "Installing package into ‘/usr/local/lib/R/site-library’\n",
            "(as ‘lib’ is unspecified)\n",
            "\n",
            "Installing package into ‘/usr/local/lib/R/site-library’\n",
            "(as ‘lib’ is unspecified)\n",
            "\n",
            "Installing package into ‘/usr/local/lib/R/site-library’\n",
            "(as ‘lib’ is unspecified)\n",
            "\n",
            "Installing package into ‘/usr/local/lib/R/site-library’\n",
            "(as ‘lib’ is unspecified)\n",
            "\n",
            "Installing package into ‘/usr/local/lib/R/site-library’\n",
            "(as ‘lib’ is unspecified)\n",
            "\n",
            "Installing package into ‘/usr/local/lib/R/site-library’\n",
            "(as ‘lib’ is unspecified)\n",
            "\n",
            "Installing package into ‘/usr/local/lib/R/site-library’\n",
            "(as ‘lib’ is unspecified)\n",
            "\n",
            "Installing package into ‘/usr/local/lib/R/site-library’\n",
            "(as ‘lib’ is unspecified)\n",
            "\n"
          ]
        }
      ]
    },
    {
      "cell_type": "code",
      "source": [
        "install.packages(\"ggthemes\")"
      ],
      "metadata": {
        "id": "hUu8Xei1xlN5",
        "colab": {
          "base_uri": "https://localhost:8080/"
        },
        "outputId": "b7e2f826-7fa1-42df-f50b-bf99cc7f4c3e"
      },
      "execution_count": 6,
      "outputs": [
        {
          "output_type": "stream",
          "name": "stderr",
          "text": [
            "Installing package into ‘/usr/local/lib/R/site-library’\n",
            "(as ‘lib’ is unspecified)\n",
            "\n"
          ]
        }
      ]
    },
    {
      "cell_type": "code",
      "source": [
        "library(dplyr)\n",
        "library(stringr)\n",
        "library(ggplot2)\n",
        "library(forcats)\n",
        "library(here)\n",
        "library(formatR)\n",
        "library(readr)\n",
        "library(rsample)\n",
        "library(plotROC)\n",
        "library(glmnet)\n",
        "library(glmnetUtils)\n",
        "library(yardstick)\n",
        "library(ggvoronoi)\n",
        "library(viridis)\n",
        "library(ggcorrplot)\n",
        "library(ggthemes)"
      ],
      "metadata": {
        "id": "L1NrHosJQ3wD",
        "colab": {
          "base_uri": "https://localhost:8080/"
        },
        "outputId": "f11e6c4a-29da-4da1-8d65-a1f241fcf954"
      },
      "execution_count": 7,
      "outputs": [
        {
          "output_type": "stream",
          "name": "stderr",
          "text": [
            "here() starts at /content\n",
            "\n",
            "Loading required package: Matrix\n",
            "\n",
            "Loaded glmnet 4.1-3\n",
            "\n",
            "\n",
            "Attaching package: ‘glmnetUtils’\n",
            "\n",
            "\n",
            "The following objects are masked from ‘package:glmnet’:\n",
            "\n",
            "    cv.glmnet, glmnet\n",
            "\n",
            "\n",
            "For binary classification, the first factor level is assumed to be the event.\n",
            "Use the argument `event_level = \"second\"` to alter this as needed.\n",
            "\n",
            "\n",
            "Attaching package: ‘yardstick’\n",
            "\n",
            "\n",
            "The following object is masked from ‘package:readr’:\n",
            "\n",
            "    spec\n",
            "\n",
            "\n",
            "Loading required package: viridisLite\n",
            "\n"
          ]
        }
      ]
    },
    {
      "cell_type": "code",
      "source": [
        "options(scipen = 100)"
      ],
      "metadata": {
        "id": "pm4V3sB3457P"
      },
      "execution_count": 8,
      "outputs": []
    },
    {
      "cell_type": "code",
      "source": [
        "tracking18<-read_csv(\"/content/sample_data/tracking2018.csv\")\n",
        "tracking19<-read_csv(\"/content/sample_data/tracking2019.csv\")\n",
        "tracking20<-read_csv(\"/content/sample_data/tracking2020.csv\")"
      ],
      "metadata": {
        "id": "Jm-KjFi5ZHTD",
        "colab": {
          "base_uri": "https://localhost:8080/"
        },
        "outputId": "15f1cf54-d97b-4e3a-c1c6-0eed4d33a593"
      },
      "execution_count": 29,
      "outputs": [
        {
          "output_type": "stream",
          "name": "stderr",
          "text": [
            "\u001b[1mRows: \u001b[22m\u001b[34m1413287\u001b[39m \u001b[1mColumns: \u001b[22m\u001b[34m18\u001b[39m\n",
            "\u001b[36m──\u001b[39m \u001b[1mColumn specification\u001b[22m \u001b[36m────────────────────────────────────────────────────────\u001b[39m\n",
            "\u001b[1mDelimiter:\u001b[22m \",\"\n",
            "\u001b[31mchr\u001b[39m   (5): event, displayName, position, team, playDirection\n",
            "\u001b[32mdbl\u001b[39m  (12): x, y, s, a, dis, o, dir, nflId, jerseyNumber, frameId, gameId, pl...\n",
            "\u001b[34mdttm\u001b[39m  (1): time\n",
            "\n",
            "\u001b[36mℹ\u001b[39m Use `spec()` to retrieve the full column specification for this data.\n",
            "\u001b[36mℹ\u001b[39m Specify the column types or set `show_col_types = FALSE` to quiet this message.\n",
            "\u001b[1mRows: \u001b[22m\u001b[34m1413079\u001b[39m \u001b[1mColumns: \u001b[22m\u001b[34m18\u001b[39m\n",
            "\u001b[36m──\u001b[39m \u001b[1mColumn specification\u001b[22m \u001b[36m────────────────────────────────────────────────────────\u001b[39m\n",
            "\u001b[1mDelimiter:\u001b[22m \",\"\n",
            "\u001b[31mchr\u001b[39m   (5): event, displayName, position, team, playDirection\n",
            "\u001b[32mdbl\u001b[39m  (12): x, y, s, a, dis, o, dir, nflId, jerseyNumber, frameId, gameId, pl...\n",
            "\u001b[34mdttm\u001b[39m  (1): time\n",
            "\n",
            "\u001b[36mℹ\u001b[39m Use `spec()` to retrieve the full column specification for this data.\n",
            "\u001b[36mℹ\u001b[39m Specify the column types or set `show_col_types = FALSE` to quiet this message.\n",
            "\u001b[1mRows: \u001b[22m\u001b[34m1418671\u001b[39m \u001b[1mColumns: \u001b[22m\u001b[34m18\u001b[39m\n",
            "\u001b[36m──\u001b[39m \u001b[1mColumn specification\u001b[22m \u001b[36m────────────────────────────────────────────────────────\u001b[39m\n",
            "\u001b[1mDelimiter:\u001b[22m \",\"\n",
            "\u001b[31mchr\u001b[39m   (5): event, displayName, position, team, playDirection\n",
            "\u001b[32mdbl\u001b[39m  (12): x, y, s, a, dis, o, dir, nflId, jerseyNumber, frameId, gameId, pl...\n",
            "\u001b[34mdttm\u001b[39m  (1): time\n",
            "\n",
            "\u001b[36mℹ\u001b[39m Use `spec()` to retrieve the full column specification for this data.\n",
            "\u001b[36mℹ\u001b[39m Specify the column types or set `show_col_types = FALSE` to quiet this message.\n"
          ]
        }
      ]
    },
    {
      "cell_type": "code",
      "source": [
        "scout.data<-read_csv(\"/content/sample_data/PFFScoutingData.csv\")\n",
        "games<- read_csv(\"/content/sample_data/games.csv\")\n",
        "players<- read_csv(\"/content/sample_data/players.csv\")\n",
        "plays<- read_csv(\"/content/sample_data/plays.csv\")\n"
      ],
      "metadata": {
        "id": "f_vzh2dqbSuR",
        "colab": {
          "base_uri": "https://localhost:8080/"
        },
        "outputId": "5cf6704d-3821-46ff-c5e5-b132346cca1c"
      },
      "execution_count": 30,
      "outputs": [
        {
          "output_type": "stream",
          "name": "stderr",
          "text": [
            "\u001b[1mRows: \u001b[22m\u001b[34m19979\u001b[39m \u001b[1mColumns: \u001b[22m\u001b[34m20\u001b[39m\n",
            "\u001b[36m──\u001b[39m \u001b[1mColumn specification\u001b[22m \u001b[36m────────────────────────────────────────────────────────\u001b[39m\n",
            "\u001b[1mDelimiter:\u001b[22m \",\"\n",
            "\u001b[31mchr\u001b[39m (15): snapDetail, kickType, kickDirectionIntended, kickDirectionActual, ...\n",
            "\u001b[32mdbl\u001b[39m  (5): gameId, playId, snapTime, operationTime, hangTime\n",
            "\n",
            "\u001b[36mℹ\u001b[39m Use `spec()` to retrieve the full column specification for this data.\n",
            "\u001b[36mℹ\u001b[39m Specify the column types or set `show_col_types = FALSE` to quiet this message.\n",
            "\u001b[1mRows: \u001b[22m\u001b[34m764\u001b[39m \u001b[1mColumns: \u001b[22m\u001b[34m7\u001b[39m\n",
            "\u001b[36m──\u001b[39m \u001b[1mColumn specification\u001b[22m \u001b[36m────────────────────────────────────────────────────────\u001b[39m\n",
            "\u001b[1mDelimiter:\u001b[22m \",\"\n",
            "\u001b[31mchr\u001b[39m  (3): gameDate, homeTeamAbbr, visitorTeamAbbr\n",
            "\u001b[32mdbl\u001b[39m  (3): gameId, season, week\n",
            "\u001b[34mtime\u001b[39m (1): gameTimeEastern\n",
            "\n",
            "\u001b[36mℹ\u001b[39m Use `spec()` to retrieve the full column specification for this data.\n",
            "\u001b[36mℹ\u001b[39m Specify the column types or set `show_col_types = FALSE` to quiet this message.\n",
            "\u001b[1mRows: \u001b[22m\u001b[34m2732\u001b[39m \u001b[1mColumns: \u001b[22m\u001b[34m7\u001b[39m\n",
            "\u001b[36m──\u001b[39m \u001b[1mColumn specification\u001b[22m \u001b[36m────────────────────────────────────────────────────────\u001b[39m\n",
            "\u001b[1mDelimiter:\u001b[22m \",\"\n",
            "\u001b[31mchr\u001b[39m (5): height, birthDate, collegeName, Position, displayName\n",
            "\u001b[32mdbl\u001b[39m (2): nflId, weight\n",
            "\n",
            "\u001b[36mℹ\u001b[39m Use `spec()` to retrieve the full column specification for this data.\n",
            "\u001b[36mℹ\u001b[39m Specify the column types or set `show_col_types = FALSE` to quiet this message.\n",
            "\u001b[1mRows: \u001b[22m\u001b[34m19979\u001b[39m \u001b[1mColumns: \u001b[22m\u001b[34m25\u001b[39m\n",
            "\u001b[36m──\u001b[39m \u001b[1mColumn specification\u001b[22m \u001b[36m────────────────────────────────────────────────────────\u001b[39m\n",
            "\u001b[1mDelimiter:\u001b[22m \",\"\n",
            "\u001b[31mchr\u001b[39m   (9): playDescription, possessionTeam, specialTeamsPlayType, specialTea...\n",
            "\u001b[32mdbl\u001b[39m  (15): gameId, playId, quarter, down, yardsToGo, kickerId, kickBlockerId...\n",
            "\u001b[34mtime\u001b[39m  (1): gameClock\n",
            "\n",
            "\u001b[36mℹ\u001b[39m Use `spec()` to retrieve the full column specification for this data.\n",
            "\u001b[36mℹ\u001b[39m Specify the column types or set `show_col_types = FALSE` to quiet this message.\n"
          ]
        }
      ]
    },
    {
      "cell_type": "markdown",
      "source": [
        "Now that the data is in, let's inspect it."
      ],
      "metadata": {
        "id": "V8Yij0OWWIrZ"
      }
    },
    {
      "cell_type": "code",
      "source": [
        "head(tracking18)"
      ],
      "metadata": {
        "colab": {
          "base_uri": "https://localhost:8080/",
          "height": 286
        },
        "id": "ytbgxVqfV5le",
        "outputId": "151a9773-7bfa-47ab-e8b2-f6851fd7c24b"
      },
      "execution_count": 31,
      "outputs": [
        {
          "output_type": "display_data",
          "data": {
            "text/html": [
              "<table class=\"dataframe\">\n",
              "<caption>A tibble: 6 × 18</caption>\n",
              "<thead>\n",
              "\t<tr><th scope=col>time</th><th scope=col>x</th><th scope=col>y</th><th scope=col>s</th><th scope=col>a</th><th scope=col>dis</th><th scope=col>o</th><th scope=col>dir</th><th scope=col>event</th><th scope=col>nflId</th><th scope=col>displayName</th><th scope=col>jerseyNumber</th><th scope=col>position</th><th scope=col>team</th><th scope=col>frameId</th><th scope=col>gameId</th><th scope=col>playId</th><th scope=col>playDirection</th></tr>\n",
              "\t<tr><th scope=col>&lt;dttm&gt;</th><th scope=col>&lt;dbl&gt;</th><th scope=col>&lt;dbl&gt;</th><th scope=col>&lt;dbl&gt;</th><th scope=col>&lt;dbl&gt;</th><th scope=col>&lt;dbl&gt;</th><th scope=col>&lt;dbl&gt;</th><th scope=col>&lt;dbl&gt;</th><th scope=col>&lt;chr&gt;</th><th scope=col>&lt;dbl&gt;</th><th scope=col>&lt;chr&gt;</th><th scope=col>&lt;dbl&gt;</th><th scope=col>&lt;chr&gt;</th><th scope=col>&lt;chr&gt;</th><th scope=col>&lt;dbl&gt;</th><th scope=col>&lt;dbl&gt;</th><th scope=col>&lt;dbl&gt;</th><th scope=col>&lt;chr&gt;</th></tr>\n",
              "</thead>\n",
              "<tbody>\n",
              "\t<tr><td>2018-12-30 21:25:32</td><td>41.32</td><td>29.45</td><td>4.36</td><td>1.33</td><td>0.43</td><td>130.42</td><td>128.44</td><td>None</td><td>39470</td><td>Justin Tucker</td><td>9</td><td>K</td><td>home</td><td>1</td><td>2018123000</td><td>36</td><td>right</td></tr>\n",
              "\t<tr><td>2018-12-30 21:25:32</td><td>41.68</td><td>29.17</td><td>4.59</td><td>1.24</td><td>0.45</td><td>128.59</td><td>127.81</td><td>None</td><td>39470</td><td>Justin Tucker</td><td>9</td><td>K</td><td>home</td><td>2</td><td>2018123000</td><td>36</td><td>right</td></tr>\n",
              "\t<tr><td>2018-12-30 21:25:32</td><td>42.05</td><td>28.88</td><td>4.74</td><td>0.99</td><td>0.47</td><td>124.47</td><td>128.15</td><td>None</td><td>39470</td><td>Justin Tucker</td><td>9</td><td>K</td><td>home</td><td>3</td><td>2018123000</td><td>36</td><td>right</td></tr>\n",
              "\t<tr><td>2018-12-30 21:25:32</td><td>42.43</td><td>28.59</td><td>4.87</td><td>0.71</td><td>0.48</td><td>126.02</td><td>127.35</td><td>None</td><td>39470</td><td>Justin Tucker</td><td>9</td><td>K</td><td>home</td><td>4</td><td>2018123000</td><td>36</td><td>right</td></tr>\n",
              "\t<tr><td>2018-12-30 21:25:32</td><td>42.84</td><td>28.31</td><td>4.96</td><td>0.79</td><td>0.50</td><td>131.71</td><td>124.75</td><td>None</td><td>39470</td><td>Justin Tucker</td><td>9</td><td>K</td><td>home</td><td>5</td><td>2018123000</td><td>36</td><td>right</td></tr>\n",
              "\t<tr><td>2018-12-30 21:25:32</td><td>43.26</td><td>28.05</td><td>4.98</td><td>1.07</td><td>0.50</td><td>136.68</td><td>122.28</td><td>None</td><td>39470</td><td>Justin Tucker</td><td>9</td><td>K</td><td>home</td><td>6</td><td>2018123000</td><td>36</td><td>right</td></tr>\n",
              "</tbody>\n",
              "</table>\n"
            ],
            "text/markdown": "\nA tibble: 6 × 18\n\n| time &lt;dttm&gt; | x &lt;dbl&gt; | y &lt;dbl&gt; | s &lt;dbl&gt; | a &lt;dbl&gt; | dis &lt;dbl&gt; | o &lt;dbl&gt; | dir &lt;dbl&gt; | event &lt;chr&gt; | nflId &lt;dbl&gt; | displayName &lt;chr&gt; | jerseyNumber &lt;dbl&gt; | position &lt;chr&gt; | team &lt;chr&gt; | frameId &lt;dbl&gt; | gameId &lt;dbl&gt; | playId &lt;dbl&gt; | playDirection &lt;chr&gt; |\n|---|---|---|---|---|---|---|---|---|---|---|---|---|---|---|---|---|---|\n| 2018-12-30 21:25:32 | 41.32 | 29.45 | 4.36 | 1.33 | 0.43 | 130.42 | 128.44 | None | 39470 | Justin Tucker | 9 | K | home | 1 | 2018123000 | 36 | right |\n| 2018-12-30 21:25:32 | 41.68 | 29.17 | 4.59 | 1.24 | 0.45 | 128.59 | 127.81 | None | 39470 | Justin Tucker | 9 | K | home | 2 | 2018123000 | 36 | right |\n| 2018-12-30 21:25:32 | 42.05 | 28.88 | 4.74 | 0.99 | 0.47 | 124.47 | 128.15 | None | 39470 | Justin Tucker | 9 | K | home | 3 | 2018123000 | 36 | right |\n| 2018-12-30 21:25:32 | 42.43 | 28.59 | 4.87 | 0.71 | 0.48 | 126.02 | 127.35 | None | 39470 | Justin Tucker | 9 | K | home | 4 | 2018123000 | 36 | right |\n| 2018-12-30 21:25:32 | 42.84 | 28.31 | 4.96 | 0.79 | 0.50 | 131.71 | 124.75 | None | 39470 | Justin Tucker | 9 | K | home | 5 | 2018123000 | 36 | right |\n| 2018-12-30 21:25:32 | 43.26 | 28.05 | 4.98 | 1.07 | 0.50 | 136.68 | 122.28 | None | 39470 | Justin Tucker | 9 | K | home | 6 | 2018123000 | 36 | right |\n\n",
            "text/latex": "A tibble: 6 × 18\n\\begin{tabular}{llllllllllllllllll}\n time & x & y & s & a & dis & o & dir & event & nflId & displayName & jerseyNumber & position & team & frameId & gameId & playId & playDirection\\\\\n <dttm> & <dbl> & <dbl> & <dbl> & <dbl> & <dbl> & <dbl> & <dbl> & <chr> & <dbl> & <chr> & <dbl> & <chr> & <chr> & <dbl> & <dbl> & <dbl> & <chr>\\\\\n\\hline\n\t 2018-12-30 21:25:32 & 41.32 & 29.45 & 4.36 & 1.33 & 0.43 & 130.42 & 128.44 & None & 39470 & Justin Tucker & 9 & K & home & 1 & 2018123000 & 36 & right\\\\\n\t 2018-12-30 21:25:32 & 41.68 & 29.17 & 4.59 & 1.24 & 0.45 & 128.59 & 127.81 & None & 39470 & Justin Tucker & 9 & K & home & 2 & 2018123000 & 36 & right\\\\\n\t 2018-12-30 21:25:32 & 42.05 & 28.88 & 4.74 & 0.99 & 0.47 & 124.47 & 128.15 & None & 39470 & Justin Tucker & 9 & K & home & 3 & 2018123000 & 36 & right\\\\\n\t 2018-12-30 21:25:32 & 42.43 & 28.59 & 4.87 & 0.71 & 0.48 & 126.02 & 127.35 & None & 39470 & Justin Tucker & 9 & K & home & 4 & 2018123000 & 36 & right\\\\\n\t 2018-12-30 21:25:32 & 42.84 & 28.31 & 4.96 & 0.79 & 0.50 & 131.71 & 124.75 & None & 39470 & Justin Tucker & 9 & K & home & 5 & 2018123000 & 36 & right\\\\\n\t 2018-12-30 21:25:32 & 43.26 & 28.05 & 4.98 & 1.07 & 0.50 & 136.68 & 122.28 & None & 39470 & Justin Tucker & 9 & K & home & 6 & 2018123000 & 36 & right\\\\\n\\end{tabular}\n",
            "text/plain": [
              "  time                x     y     s    a    dis  o      dir    event nflId\n",
              "1 2018-12-30 21:25:32 41.32 29.45 4.36 1.33 0.43 130.42 128.44 None  39470\n",
              "2 2018-12-30 21:25:32 41.68 29.17 4.59 1.24 0.45 128.59 127.81 None  39470\n",
              "3 2018-12-30 21:25:32 42.05 28.88 4.74 0.99 0.47 124.47 128.15 None  39470\n",
              "4 2018-12-30 21:25:32 42.43 28.59 4.87 0.71 0.48 126.02 127.35 None  39470\n",
              "5 2018-12-30 21:25:32 42.84 28.31 4.96 0.79 0.50 131.71 124.75 None  39470\n",
              "6 2018-12-30 21:25:32 43.26 28.05 4.98 1.07 0.50 136.68 122.28 None  39470\n",
              "  displayName   jerseyNumber position team frameId gameId     playId\n",
              "1 Justin Tucker 9            K        home 1       2018123000 36    \n",
              "2 Justin Tucker 9            K        home 2       2018123000 36    \n",
              "3 Justin Tucker 9            K        home 3       2018123000 36    \n",
              "4 Justin Tucker 9            K        home 4       2018123000 36    \n",
              "5 Justin Tucker 9            K        home 5       2018123000 36    \n",
              "6 Justin Tucker 9            K        home 6       2018123000 36    \n",
              "  playDirection\n",
              "1 right        \n",
              "2 right        \n",
              "3 right        \n",
              "4 right        \n",
              "5 right        \n",
              "6 right        "
            ]
          },
          "metadata": {}
        }
      ]
    },
    {
      "cell_type": "code",
      "source": [
        "dim(tracking18)\n",
        "dim(tracking19)\n",
        "dim(tracking20)\n",
        "dim(plays)\n",
        "dim(scout.data)\n",
        "dim(players)\n",
        "dim(games)"
      ],
      "metadata": {
        "colab": {
          "base_uri": "https://localhost:8080/",
          "height": 139
        },
        "id": "MsJ_icZOWS7W",
        "outputId": "6ad41123-dbad-41f9-8286-fa65a6d9c5bb"
      },
      "execution_count": 32,
      "outputs": [
        {
          "output_type": "display_data",
          "data": {
            "text/html": [
              "<style>\n",
              ".list-inline {list-style: none; margin:0; padding: 0}\n",
              ".list-inline>li {display: inline-block}\n",
              ".list-inline>li:not(:last-child)::after {content: \"\\00b7\"; padding: 0 .5ex}\n",
              "</style>\n",
              "<ol class=list-inline><li>1413287</li><li>18</li></ol>\n"
            ],
            "text/markdown": "1. 1413287\n2. 18\n\n\n",
            "text/latex": "\\begin{enumerate*}\n\\item 1413287\n\\item 18\n\\end{enumerate*}\n",
            "text/plain": [
              "[1] 1413287      18"
            ]
          },
          "metadata": {}
        },
        {
          "output_type": "display_data",
          "data": {
            "text/html": [
              "<style>\n",
              ".list-inline {list-style: none; margin:0; padding: 0}\n",
              ".list-inline>li {display: inline-block}\n",
              ".list-inline>li:not(:last-child)::after {content: \"\\00b7\"; padding: 0 .5ex}\n",
              "</style>\n",
              "<ol class=list-inline><li>1413079</li><li>18</li></ol>\n"
            ],
            "text/markdown": "1. 1413079\n2. 18\n\n\n",
            "text/latex": "\\begin{enumerate*}\n\\item 1413079\n\\item 18\n\\end{enumerate*}\n",
            "text/plain": [
              "[1] 1413079      18"
            ]
          },
          "metadata": {}
        },
        {
          "output_type": "display_data",
          "data": {
            "text/html": [
              "<style>\n",
              ".list-inline {list-style: none; margin:0; padding: 0}\n",
              ".list-inline>li {display: inline-block}\n",
              ".list-inline>li:not(:last-child)::after {content: \"\\00b7\"; padding: 0 .5ex}\n",
              "</style>\n",
              "<ol class=list-inline><li>1418671</li><li>18</li></ol>\n"
            ],
            "text/markdown": "1. 1418671\n2. 18\n\n\n",
            "text/latex": "\\begin{enumerate*}\n\\item 1418671\n\\item 18\n\\end{enumerate*}\n",
            "text/plain": [
              "[1] 1418671      18"
            ]
          },
          "metadata": {}
        },
        {
          "output_type": "display_data",
          "data": {
            "text/html": [
              "<style>\n",
              ".list-inline {list-style: none; margin:0; padding: 0}\n",
              ".list-inline>li {display: inline-block}\n",
              ".list-inline>li:not(:last-child)::after {content: \"\\00b7\"; padding: 0 .5ex}\n",
              "</style>\n",
              "<ol class=list-inline><li>19979</li><li>25</li></ol>\n"
            ],
            "text/markdown": "1. 19979\n2. 25\n\n\n",
            "text/latex": "\\begin{enumerate*}\n\\item 19979\n\\item 25\n\\end{enumerate*}\n",
            "text/plain": [
              "[1] 19979    25"
            ]
          },
          "metadata": {}
        },
        {
          "output_type": "display_data",
          "data": {
            "text/html": [
              "<style>\n",
              ".list-inline {list-style: none; margin:0; padding: 0}\n",
              ".list-inline>li {display: inline-block}\n",
              ".list-inline>li:not(:last-child)::after {content: \"\\00b7\"; padding: 0 .5ex}\n",
              "</style>\n",
              "<ol class=list-inline><li>19979</li><li>20</li></ol>\n"
            ],
            "text/markdown": "1. 19979\n2. 20\n\n\n",
            "text/latex": "\\begin{enumerate*}\n\\item 19979\n\\item 20\n\\end{enumerate*}\n",
            "text/plain": [
              "[1] 19979    20"
            ]
          },
          "metadata": {}
        },
        {
          "output_type": "display_data",
          "data": {
            "text/html": [
              "<style>\n",
              ".list-inline {list-style: none; margin:0; padding: 0}\n",
              ".list-inline>li {display: inline-block}\n",
              ".list-inline>li:not(:last-child)::after {content: \"\\00b7\"; padding: 0 .5ex}\n",
              "</style>\n",
              "<ol class=list-inline><li>2732</li><li>7</li></ol>\n"
            ],
            "text/markdown": "1. 2732\n2. 7\n\n\n",
            "text/latex": "\\begin{enumerate*}\n\\item 2732\n\\item 7\n\\end{enumerate*}\n",
            "text/plain": [
              "[1] 2732    7"
            ]
          },
          "metadata": {}
        },
        {
          "output_type": "display_data",
          "data": {
            "text/html": [
              "<style>\n",
              ".list-inline {list-style: none; margin:0; padding: 0}\n",
              ".list-inline>li {display: inline-block}\n",
              ".list-inline>li:not(:last-child)::after {content: \"\\00b7\"; padding: 0 .5ex}\n",
              "</style>\n",
              "<ol class=list-inline><li>764</li><li>7</li></ol>\n"
            ],
            "text/markdown": "1. 764\n2. 7\n\n\n",
            "text/latex": "\\begin{enumerate*}\n\\item 764\n\\item 7\n\\end{enumerate*}\n",
            "text/plain": [
              "[1] 764   7"
            ]
          },
          "metadata": {}
        }
      ]
    },
    {
      "cell_type": "code",
      "source": [
        "sort(colSums(is.na(tracking18)))"
      ],
      "metadata": {
        "colab": {
          "base_uri": "https://localhost:8080/",
          "height": 52
        },
        "id": "XjVa7A5sWYTG",
        "outputId": "35c25149-b549-414b-fed9-e5187dbf6a57"
      },
      "execution_count": 33,
      "outputs": [
        {
          "output_type": "display_data",
          "data": {
            "text/html": [
              "<style>\n",
              ".dl-inline {width: auto; margin:0; padding: 0}\n",
              ".dl-inline>dt, .dl-inline>dd {float: none; width: auto; display: inline-block}\n",
              ".dl-inline>dt::after {content: \":\\0020\"; padding-right: .5ex}\n",
              ".dl-inline>dt:not(:first-of-type) {padding-left: .5ex}\n",
              "</style><dl class=dl-inline><dt>time</dt><dd>0</dd><dt>x</dt><dd>0</dd><dt>y</dt><dd>0</dd><dt>s</dt><dd>0</dd><dt>a</dt><dd>0</dd><dt>dis</dt><dd>0</dd><dt>event</dt><dd>0</dd><dt>displayName</dt><dd>0</dd><dt>team</dt><dd>0</dd><dt>frameId</dt><dd>0</dd><dt>gameId</dt><dd>0</dd><dt>playId</dt><dd>0</dd><dt>playDirection</dt><dd>0</dd><dt>o</dt><dd>61437</dd><dt>dir</dt><dd>61437</dd><dt>nflId</dt><dd>61437</dd><dt>jerseyNumber</dt><dd>61437</dd><dt>position</dt><dd>61437</dd></dl>\n"
            ],
            "text/markdown": "time\n:   0x\n:   0y\n:   0s\n:   0a\n:   0dis\n:   0event\n:   0displayName\n:   0team\n:   0frameId\n:   0gameId\n:   0playId\n:   0playDirection\n:   0o\n:   61437dir\n:   61437nflId\n:   61437jerseyNumber\n:   61437position\n:   61437\n\n",
            "text/latex": "\\begin{description*}\n\\item[time] 0\n\\item[x] 0\n\\item[y] 0\n\\item[s] 0\n\\item[a] 0\n\\item[dis] 0\n\\item[event] 0\n\\item[displayName] 0\n\\item[team] 0\n\\item[frameId] 0\n\\item[gameId] 0\n\\item[playId] 0\n\\item[playDirection] 0\n\\item[o] 61437\n\\item[dir] 61437\n\\item[nflId] 61437\n\\item[jerseyNumber] 61437\n\\item[position] 61437\n\\end{description*}\n",
            "text/plain": [
              "         time             x             y             s             a \n",
              "            0             0             0             0             0 \n",
              "          dis         event   displayName          team       frameId \n",
              "            0             0             0             0             0 \n",
              "       gameId        playId playDirection             o           dir \n",
              "            0             0             0         61437         61437 \n",
              "        nflId  jerseyNumber      position \n",
              "        61437         61437         61437 "
            ]
          },
          "metadata": {}
        }
      ]
    },
    {
      "cell_type": "markdown",
      "source": [
        "It appears we have 61,437 NA values under the o(orientation), dir(angle of player motion), nflid(player identification number), jerseyNumber(player jersy #), position(player position group) columns. "
      ],
      "metadata": {
        "id": "mhawlm2yYUsd"
      }
    },
    {
      "cell_type": "code",
      "source": [
        "table(tracking18[is.na(tracking18$nflId), \"displayName\"])"
      ],
      "metadata": {
        "colab": {
          "base_uri": "https://localhost:8080/",
          "height": 69
        },
        "id": "mf4-9-cTX6E1",
        "outputId": "4a1f7be9-93bc-4b45-9021-7686535b20a7"
      },
      "execution_count": 34,
      "outputs": [
        {
          "output_type": "display_data",
          "data": {
            "text/plain": [
              "\n",
              "football \n",
              "   61437 "
            ]
          },
          "metadata": {}
        }
      ]
    },
    {
      "cell_type": "markdown",
      "source": [
        "After some exploration, it turns out that the observations are coming from the football being tracked rather than the player. We will remove those now. "
      ],
      "metadata": {
        "id": "r2RBx8G6bD2C"
      }
    },
    {
      "cell_type": "code",
      "source": [
        "## 2018 \n",
        "\n",
        "kick18 <- tracking18 %>% \n",
        "  # Filtering so the football is removed\n",
        "  filter(displayName != \"football\") %>% \n",
        "  \n",
        "  # Grouping by gameId and playId\n",
        "  group_by(gameId, playId) %>% \n",
        "  \n",
        "  arrange(gameId, playId, frameId) %>% \n",
        "  \n",
        "  # Filtering so we only see the frames of the kickoff and kick received\n",
        "  filter(event == 'kick_received' | event  == 'kickoff') \n",
        "\n",
        "## 2019 \n",
        "\n",
        "kick19 <- tracking19 %>% \n",
        "  # Filtering so the football is removed\n",
        "  filter(displayName != \"football\") %>% \n",
        "  \n",
        "  # Grouping by gameId and playId\n",
        "  group_by(gameId, playId) %>% \n",
        "  \n",
        "  arrange(gameId, playId, frameId) %>% \n",
        "  \n",
        "  # Filtering so we only see the frames of the kickoff and kick received\n",
        "  filter(event == 'kick_received' | event  == 'kickoff') \n",
        "\n",
        "## 2020\n",
        "\n",
        "kick20 <- tracking20 %>% \n",
        "  # Filtering so the football is removed\n",
        "  filter(displayName != \"football\") %>% \n",
        "  \n",
        "  # Grouping by gameId and playId\n",
        "  group_by(gameId, playId) %>% \n",
        "  \n",
        "  arrange(gameId, playId, frameId) %>% \n",
        "  \n",
        "  # Filtering so we only see the frames of the kickoff and kick received\n",
        "  filter(event == 'kick_received' | event  == 'kickoff') \n",
        "\n",
        "# Removing the redundant datasets\n",
        "rm(tracking18, tracking19, tracking20)\n",
        "\n",
        "head(kick18)"
      ],
      "metadata": {
        "colab": {
          "base_uri": "https://localhost:8080/",
          "height": 286
        },
        "id": "F3ktaZLlbZ3k",
        "outputId": "492a846f-b017-4a89-f39c-da8523769ad5"
      },
      "execution_count": 35,
      "outputs": [
        {
          "output_type": "display_data",
          "data": {
            "text/html": [
              "<table class=\"dataframe\">\n",
              "<caption>A grouped_df: 6 × 18</caption>\n",
              "<thead>\n",
              "\t<tr><th scope=col>time</th><th scope=col>x</th><th scope=col>y</th><th scope=col>s</th><th scope=col>a</th><th scope=col>dis</th><th scope=col>o</th><th scope=col>dir</th><th scope=col>event</th><th scope=col>nflId</th><th scope=col>displayName</th><th scope=col>jerseyNumber</th><th scope=col>position</th><th scope=col>team</th><th scope=col>frameId</th><th scope=col>gameId</th><th scope=col>playId</th><th scope=col>playDirection</th></tr>\n",
              "\t<tr><th scope=col>&lt;dttm&gt;</th><th scope=col>&lt;dbl&gt;</th><th scope=col>&lt;dbl&gt;</th><th scope=col>&lt;dbl&gt;</th><th scope=col>&lt;dbl&gt;</th><th scope=col>&lt;dbl&gt;</th><th scope=col>&lt;dbl&gt;</th><th scope=col>&lt;dbl&gt;</th><th scope=col>&lt;chr&gt;</th><th scope=col>&lt;dbl&gt;</th><th scope=col>&lt;chr&gt;</th><th scope=col>&lt;dbl&gt;</th><th scope=col>&lt;chr&gt;</th><th scope=col>&lt;chr&gt;</th><th scope=col>&lt;dbl&gt;</th><th scope=col>&lt;dbl&gt;</th><th scope=col>&lt;dbl&gt;</th><th scope=col>&lt;chr&gt;</th></tr>\n",
              "</thead>\n",
              "<tbody>\n",
              "\t<tr><td>2018-12-22 21:30:34</td><td>75.60</td><td>24.52</td><td>4.88</td><td>2.61</td><td>0.50</td><td>291.39</td><td>286.36</td><td>kickoff</td><td>34707</td><td>Ryan Succop    </td><td> 4</td><td>K  </td><td>home</td><td>11</td><td>2018122200</td><td>37</td><td>left</td></tr>\n",
              "\t<tr><td>2018-12-22 21:30:34</td><td>76.07</td><td> 2.71</td><td>1.03</td><td>2.16</td><td>0.09</td><td>219.74</td><td>278.00</td><td>kickoff</td><td>35575</td><td>Kendrick Lewis </td><td>28</td><td>FS </td><td>home</td><td>11</td><td>2018122200</td><td>37</td><td>left</td></tr>\n",
              "\t<tr><td>2018-12-22 21:30:34</td><td>60.17</td><td> 6.83</td><td>1.92</td><td>3.05</td><td>0.17</td><td>326.49</td><td>291.12</td><td>kickoff</td><td>38543</td><td>Michael Floyd  </td><td>17</td><td>WR </td><td>away</td><td>11</td><td>2018122200</td><td>37</td><td>left</td></tr>\n",
              "\t<tr><td>2018-12-22 21:30:34</td><td>75.63</td><td>16.09</td><td>2.18</td><td>3.66</td><td>0.20</td><td>265.38</td><td>275.08</td><td>kickoff</td><td>40248</td><td>Daren Bates    </td><td>53</td><td>ILB</td><td>home</td><td>11</td><td>2018122200</td><td>37</td><td>left</td></tr>\n",
              "\t<tr><td>2018-12-22 21:30:34</td><td>75.64</td><td>13.05</td><td>1.76</td><td>3.26</td><td>0.16</td><td>262.58</td><td>284.68</td><td>kickoff</td><td>40326</td><td>Will Compton   </td><td>51</td><td>ILB</td><td>home</td><td>11</td><td>2018122200</td><td>37</td><td>left</td></tr>\n",
              "\t<tr><td>2018-12-22 21:30:34</td><td>75.70</td><td>32.78</td><td>2.19</td><td>2.49</td><td>0.23</td><td>265.26</td><td>256.88</td><td>kickoff</td><td>40473</td><td>Brynden Trawick</td><td>41</td><td>FS </td><td>home</td><td>11</td><td>2018122200</td><td>37</td><td>left</td></tr>\n",
              "</tbody>\n",
              "</table>\n"
            ],
            "text/markdown": "\nA grouped_df: 6 × 18\n\n| time &lt;dttm&gt; | x &lt;dbl&gt; | y &lt;dbl&gt; | s &lt;dbl&gt; | a &lt;dbl&gt; | dis &lt;dbl&gt; | o &lt;dbl&gt; | dir &lt;dbl&gt; | event &lt;chr&gt; | nflId &lt;dbl&gt; | displayName &lt;chr&gt; | jerseyNumber &lt;dbl&gt; | position &lt;chr&gt; | team &lt;chr&gt; | frameId &lt;dbl&gt; | gameId &lt;dbl&gt; | playId &lt;dbl&gt; | playDirection &lt;chr&gt; |\n|---|---|---|---|---|---|---|---|---|---|---|---|---|---|---|---|---|---|\n| 2018-12-22 21:30:34 | 75.60 | 24.52 | 4.88 | 2.61 | 0.50 | 291.39 | 286.36 | kickoff | 34707 | Ryan Succop     |  4 | K   | home | 11 | 2018122200 | 37 | left |\n| 2018-12-22 21:30:34 | 76.07 |  2.71 | 1.03 | 2.16 | 0.09 | 219.74 | 278.00 | kickoff | 35575 | Kendrick Lewis  | 28 | FS  | home | 11 | 2018122200 | 37 | left |\n| 2018-12-22 21:30:34 | 60.17 |  6.83 | 1.92 | 3.05 | 0.17 | 326.49 | 291.12 | kickoff | 38543 | Michael Floyd   | 17 | WR  | away | 11 | 2018122200 | 37 | left |\n| 2018-12-22 21:30:34 | 75.63 | 16.09 | 2.18 | 3.66 | 0.20 | 265.38 | 275.08 | kickoff | 40248 | Daren Bates     | 53 | ILB | home | 11 | 2018122200 | 37 | left |\n| 2018-12-22 21:30:34 | 75.64 | 13.05 | 1.76 | 3.26 | 0.16 | 262.58 | 284.68 | kickoff | 40326 | Will Compton    | 51 | ILB | home | 11 | 2018122200 | 37 | left |\n| 2018-12-22 21:30:34 | 75.70 | 32.78 | 2.19 | 2.49 | 0.23 | 265.26 | 256.88 | kickoff | 40473 | Brynden Trawick | 41 | FS  | home | 11 | 2018122200 | 37 | left |\n\n",
            "text/latex": "A grouped\\_df: 6 × 18\n\\begin{tabular}{llllllllllllllllll}\n time & x & y & s & a & dis & o & dir & event & nflId & displayName & jerseyNumber & position & team & frameId & gameId & playId & playDirection\\\\\n <dttm> & <dbl> & <dbl> & <dbl> & <dbl> & <dbl> & <dbl> & <dbl> & <chr> & <dbl> & <chr> & <dbl> & <chr> & <chr> & <dbl> & <dbl> & <dbl> & <chr>\\\\\n\\hline\n\t 2018-12-22 21:30:34 & 75.60 & 24.52 & 4.88 & 2.61 & 0.50 & 291.39 & 286.36 & kickoff & 34707 & Ryan Succop     &  4 & K   & home & 11 & 2018122200 & 37 & left\\\\\n\t 2018-12-22 21:30:34 & 76.07 &  2.71 & 1.03 & 2.16 & 0.09 & 219.74 & 278.00 & kickoff & 35575 & Kendrick Lewis  & 28 & FS  & home & 11 & 2018122200 & 37 & left\\\\\n\t 2018-12-22 21:30:34 & 60.17 &  6.83 & 1.92 & 3.05 & 0.17 & 326.49 & 291.12 & kickoff & 38543 & Michael Floyd   & 17 & WR  & away & 11 & 2018122200 & 37 & left\\\\\n\t 2018-12-22 21:30:34 & 75.63 & 16.09 & 2.18 & 3.66 & 0.20 & 265.38 & 275.08 & kickoff & 40248 & Daren Bates     & 53 & ILB & home & 11 & 2018122200 & 37 & left\\\\\n\t 2018-12-22 21:30:34 & 75.64 & 13.05 & 1.76 & 3.26 & 0.16 & 262.58 & 284.68 & kickoff & 40326 & Will Compton    & 51 & ILB & home & 11 & 2018122200 & 37 & left\\\\\n\t 2018-12-22 21:30:34 & 75.70 & 32.78 & 2.19 & 2.49 & 0.23 & 265.26 & 256.88 & kickoff & 40473 & Brynden Trawick & 41 & FS  & home & 11 & 2018122200 & 37 & left\\\\\n\\end{tabular}\n",
            "text/plain": [
              "  time                x     y     s    a    dis  o      dir    event   nflId\n",
              "1 2018-12-22 21:30:34 75.60 24.52 4.88 2.61 0.50 291.39 286.36 kickoff 34707\n",
              "2 2018-12-22 21:30:34 76.07  2.71 1.03 2.16 0.09 219.74 278.00 kickoff 35575\n",
              "3 2018-12-22 21:30:34 60.17  6.83 1.92 3.05 0.17 326.49 291.12 kickoff 38543\n",
              "4 2018-12-22 21:30:34 75.63 16.09 2.18 3.66 0.20 265.38 275.08 kickoff 40248\n",
              "5 2018-12-22 21:30:34 75.64 13.05 1.76 3.26 0.16 262.58 284.68 kickoff 40326\n",
              "6 2018-12-22 21:30:34 75.70 32.78 2.19 2.49 0.23 265.26 256.88 kickoff 40473\n",
              "  displayName     jerseyNumber position team frameId gameId     playId\n",
              "1 Ryan Succop      4           K        home 11      2018122200 37    \n",
              "2 Kendrick Lewis  28           FS       home 11      2018122200 37    \n",
              "3 Michael Floyd   17           WR       away 11      2018122200 37    \n",
              "4 Daren Bates     53           ILB      home 11      2018122200 37    \n",
              "5 Will Compton    51           ILB      home 11      2018122200 37    \n",
              "6 Brynden Trawick 41           FS       home 11      2018122200 37    \n",
              "  playDirection\n",
              "1 left         \n",
              "2 left         \n",
              "3 left         \n",
              "4 left         \n",
              "5 left         \n",
              "6 left         "
            ]
          },
          "metadata": {}
        }
      ]
    },
    {
      "cell_type": "markdown",
      "source": [
        "Now, let's combine the 2018-202 tracking data with the plays and scout data. I am filtering kickoff plays only so I will be removing the onside, squib, and punts. This will be stored as kickoffs. "
      ],
      "metadata": {
        "id": "NIg-jinhcBVc"
      }
    },
    {
      "cell_type": "code",
      "source": [
        "kicks <- rbind(kick18, kick19, kick20)\n",
        "\n",
        "#Removing redundancies \n",
        "rm(kick18, kick19, kick20)\n",
        "\n",
        "# Combining our plays data with our tracking(kicks) data\n",
        "kick_plays <- inner_join(x = kicks,\n",
        "                         y = plays, \n",
        "                         by = c('gameId', 'playId'))\n",
        "\n",
        "# Combining our tracking and plays data with our PFF Scounting Data\n",
        "kick_plays_PFF <- inner_join(x = kick_plays, \n",
        "                             y = scout.data, \n",
        "                             by  = c('gameId', 'playId'))\n",
        "\n",
        "# Filtering out only the kickoff play type  \n",
        "kickoffs <- kick_plays_PFF %>% \n",
        "  filter(specialTeamsPlayType ==  'Kickoff') %>% \n",
        "  # We are going to keep deep, flat, and pooch kicks\n",
        "  filter(kickType == 'D' | kickType == 'F' | kickType == 'P')\n",
        "\n",
        "# Changing the character variables to factors\n",
        "kickoffs <- as.data.frame(unclass(kickoffs),                     \n",
        "                                  stringsAsFactors = TRUE)\n",
        "\n",
        "rm(kick_plays, kick_plays_PFF, kick)\n",
        "  \n",
        "head(kickoffs)"
      ],
      "metadata": {
        "colab": {
          "base_uri": "https://localhost:8080/",
          "height": 549
        },
        "id": "l-bF4WaRcVcB",
        "outputId": "50e00dde-9751-4f43-ab08-67ecbbda3b69"
      },
      "execution_count": 36,
      "outputs": [
        {
          "output_type": "stream",
          "name": "stderr",
          "text": [
            "Warning message in rm(kick_plays, kick_plays_PFF, kick):\n",
            "“object 'kick' not found”\n"
          ]
        },
        {
          "output_type": "display_data",
          "data": {
            "text/html": [
              "<table class=\"dataframe\">\n",
              "<caption>A data.frame: 6 × 59</caption>\n",
              "<thead>\n",
              "\t<tr><th></th><th scope=col>time</th><th scope=col>x</th><th scope=col>y</th><th scope=col>s</th><th scope=col>a</th><th scope=col>dis</th><th scope=col>o</th><th scope=col>dir</th><th scope=col>event</th><th scope=col>nflId</th><th scope=col>⋯</th><th scope=col>returnDirectionActual</th><th scope=col>missedTackler</th><th scope=col>assistTackler</th><th scope=col>tackler</th><th scope=col>kickoffReturnFormation</th><th scope=col>gunners</th><th scope=col>puntRushers</th><th scope=col>specialTeamsSafeties</th><th scope=col>vises</th><th scope=col>kickContactType</th></tr>\n",
              "\t<tr><th></th><th scope=col>&lt;dttm&gt;</th><th scope=col>&lt;dbl&gt;</th><th scope=col>&lt;dbl&gt;</th><th scope=col>&lt;dbl&gt;</th><th scope=col>&lt;dbl&gt;</th><th scope=col>&lt;dbl&gt;</th><th scope=col>&lt;dbl&gt;</th><th scope=col>&lt;dbl&gt;</th><th scope=col>&lt;fct&gt;</th><th scope=col>&lt;dbl&gt;</th><th scope=col>⋯</th><th scope=col>&lt;fct&gt;</th><th scope=col>&lt;fct&gt;</th><th scope=col>&lt;fct&gt;</th><th scope=col>&lt;fct&gt;</th><th scope=col>&lt;fct&gt;</th><th scope=col>&lt;fct&gt;</th><th scope=col>&lt;fct&gt;</th><th scope=col>&lt;fct&gt;</th><th scope=col>&lt;fct&gt;</th><th scope=col>&lt;fct&gt;</th></tr>\n",
              "</thead>\n",
              "<tbody>\n",
              "\t<tr><th scope=row>1</th><td>2018-12-22 21:30:34</td><td>75.60</td><td>24.52</td><td>4.88</td><td>2.61</td><td>0.50</td><td>291.39</td><td>286.36</td><td>kickoff</td><td>34707</td><td>⋯</td><td>R</td><td>NA</td><td>NA</td><td>TEN 28</td><td>8-0-2</td><td>NA</td><td>NA</td><td>TEN 28; TEN 36</td><td>NA</td><td>NA</td></tr>\n",
              "\t<tr><th scope=row>2</th><td>2018-12-22 21:30:34</td><td>76.07</td><td> 2.71</td><td>1.03</td><td>2.16</td><td>0.09</td><td>219.74</td><td>278.00</td><td>kickoff</td><td>35575</td><td>⋯</td><td>R</td><td>NA</td><td>NA</td><td>TEN 28</td><td>8-0-2</td><td>NA</td><td>NA</td><td>TEN 28; TEN 36</td><td>NA</td><td>NA</td></tr>\n",
              "\t<tr><th scope=row>3</th><td>2018-12-22 21:30:34</td><td>60.17</td><td> 6.83</td><td>1.92</td><td>3.05</td><td>0.17</td><td>326.49</td><td>291.12</td><td>kickoff</td><td>38543</td><td>⋯</td><td>R</td><td>NA</td><td>NA</td><td>TEN 28</td><td>8-0-2</td><td>NA</td><td>NA</td><td>TEN 28; TEN 36</td><td>NA</td><td>NA</td></tr>\n",
              "\t<tr><th scope=row>4</th><td>2018-12-22 21:30:34</td><td>75.63</td><td>16.09</td><td>2.18</td><td>3.66</td><td>0.20</td><td>265.38</td><td>275.08</td><td>kickoff</td><td>40248</td><td>⋯</td><td>R</td><td>NA</td><td>NA</td><td>TEN 28</td><td>8-0-2</td><td>NA</td><td>NA</td><td>TEN 28; TEN 36</td><td>NA</td><td>NA</td></tr>\n",
              "\t<tr><th scope=row>5</th><td>2018-12-22 21:30:34</td><td>75.64</td><td>13.05</td><td>1.76</td><td>3.26</td><td>0.16</td><td>262.58</td><td>284.68</td><td>kickoff</td><td>40326</td><td>⋯</td><td>R</td><td>NA</td><td>NA</td><td>TEN 28</td><td>8-0-2</td><td>NA</td><td>NA</td><td>TEN 28; TEN 36</td><td>NA</td><td>NA</td></tr>\n",
              "\t<tr><th scope=row>6</th><td>2018-12-22 21:30:34</td><td>75.70</td><td>32.78</td><td>2.19</td><td>2.49</td><td>0.23</td><td>265.26</td><td>256.88</td><td>kickoff</td><td>40473</td><td>⋯</td><td>R</td><td>NA</td><td>NA</td><td>TEN 28</td><td>8-0-2</td><td>NA</td><td>NA</td><td>TEN 28; TEN 36</td><td>NA</td><td>NA</td></tr>\n",
              "</tbody>\n",
              "</table>\n"
            ],
            "text/markdown": "\nA data.frame: 6 × 59\n\n| <!--/--> | time &lt;dttm&gt; | x &lt;dbl&gt; | y &lt;dbl&gt; | s &lt;dbl&gt; | a &lt;dbl&gt; | dis &lt;dbl&gt; | o &lt;dbl&gt; | dir &lt;dbl&gt; | event &lt;fct&gt; | nflId &lt;dbl&gt; | ⋯ ⋯ | returnDirectionActual &lt;fct&gt; | missedTackler &lt;fct&gt; | assistTackler &lt;fct&gt; | tackler &lt;fct&gt; | kickoffReturnFormation &lt;fct&gt; | gunners &lt;fct&gt; | puntRushers &lt;fct&gt; | specialTeamsSafeties &lt;fct&gt; | vises &lt;fct&gt; | kickContactType &lt;fct&gt; |\n|---|---|---|---|---|---|---|---|---|---|---|---|---|---|---|---|---|---|---|---|---|---|\n| 1 | 2018-12-22 21:30:34 | 75.60 | 24.52 | 4.88 | 2.61 | 0.50 | 291.39 | 286.36 | kickoff | 34707 | ⋯ | R | NA | NA | TEN 28 | 8-0-2 | NA | NA | TEN 28; TEN 36 | NA | NA |\n| 2 | 2018-12-22 21:30:34 | 76.07 |  2.71 | 1.03 | 2.16 | 0.09 | 219.74 | 278.00 | kickoff | 35575 | ⋯ | R | NA | NA | TEN 28 | 8-0-2 | NA | NA | TEN 28; TEN 36 | NA | NA |\n| 3 | 2018-12-22 21:30:34 | 60.17 |  6.83 | 1.92 | 3.05 | 0.17 | 326.49 | 291.12 | kickoff | 38543 | ⋯ | R | NA | NA | TEN 28 | 8-0-2 | NA | NA | TEN 28; TEN 36 | NA | NA |\n| 4 | 2018-12-22 21:30:34 | 75.63 | 16.09 | 2.18 | 3.66 | 0.20 | 265.38 | 275.08 | kickoff | 40248 | ⋯ | R | NA | NA | TEN 28 | 8-0-2 | NA | NA | TEN 28; TEN 36 | NA | NA |\n| 5 | 2018-12-22 21:30:34 | 75.64 | 13.05 | 1.76 | 3.26 | 0.16 | 262.58 | 284.68 | kickoff | 40326 | ⋯ | R | NA | NA | TEN 28 | 8-0-2 | NA | NA | TEN 28; TEN 36 | NA | NA |\n| 6 | 2018-12-22 21:30:34 | 75.70 | 32.78 | 2.19 | 2.49 | 0.23 | 265.26 | 256.88 | kickoff | 40473 | ⋯ | R | NA | NA | TEN 28 | 8-0-2 | NA | NA | TEN 28; TEN 36 | NA | NA |\n\n",
            "text/latex": "A data.frame: 6 × 59\n\\begin{tabular}{r|lllllllllllllllllllll}\n  & time & x & y & s & a & dis & o & dir & event & nflId & ⋯ & returnDirectionActual & missedTackler & assistTackler & tackler & kickoffReturnFormation & gunners & puntRushers & specialTeamsSafeties & vises & kickContactType\\\\\n  & <dttm> & <dbl> & <dbl> & <dbl> & <dbl> & <dbl> & <dbl> & <dbl> & <fct> & <dbl> & ⋯ & <fct> & <fct> & <fct> & <fct> & <fct> & <fct> & <fct> & <fct> & <fct> & <fct>\\\\\n\\hline\n\t1 & 2018-12-22 21:30:34 & 75.60 & 24.52 & 4.88 & 2.61 & 0.50 & 291.39 & 286.36 & kickoff & 34707 & ⋯ & R & NA & NA & TEN 28 & 8-0-2 & NA & NA & TEN 28; TEN 36 & NA & NA\\\\\n\t2 & 2018-12-22 21:30:34 & 76.07 &  2.71 & 1.03 & 2.16 & 0.09 & 219.74 & 278.00 & kickoff & 35575 & ⋯ & R & NA & NA & TEN 28 & 8-0-2 & NA & NA & TEN 28; TEN 36 & NA & NA\\\\\n\t3 & 2018-12-22 21:30:34 & 60.17 &  6.83 & 1.92 & 3.05 & 0.17 & 326.49 & 291.12 & kickoff & 38543 & ⋯ & R & NA & NA & TEN 28 & 8-0-2 & NA & NA & TEN 28; TEN 36 & NA & NA\\\\\n\t4 & 2018-12-22 21:30:34 & 75.63 & 16.09 & 2.18 & 3.66 & 0.20 & 265.38 & 275.08 & kickoff & 40248 & ⋯ & R & NA & NA & TEN 28 & 8-0-2 & NA & NA & TEN 28; TEN 36 & NA & NA\\\\\n\t5 & 2018-12-22 21:30:34 & 75.64 & 13.05 & 1.76 & 3.26 & 0.16 & 262.58 & 284.68 & kickoff & 40326 & ⋯ & R & NA & NA & TEN 28 & 8-0-2 & NA & NA & TEN 28; TEN 36 & NA & NA\\\\\n\t6 & 2018-12-22 21:30:34 & 75.70 & 32.78 & 2.19 & 2.49 & 0.23 & 265.26 & 256.88 & kickoff & 40473 & ⋯ & R & NA & NA & TEN 28 & 8-0-2 & NA & NA & TEN 28; TEN 36 & NA & NA\\\\\n\\end{tabular}\n",
            "text/plain": [
              "  time                x     y     s    a    dis  o      dir    event   nflId ⋯\n",
              "1 2018-12-22 21:30:34 75.60 24.52 4.88 2.61 0.50 291.39 286.36 kickoff 34707 ⋯\n",
              "2 2018-12-22 21:30:34 76.07  2.71 1.03 2.16 0.09 219.74 278.00 kickoff 35575 ⋯\n",
              "3 2018-12-22 21:30:34 60.17  6.83 1.92 3.05 0.17 326.49 291.12 kickoff 38543 ⋯\n",
              "4 2018-12-22 21:30:34 75.63 16.09 2.18 3.66 0.20 265.38 275.08 kickoff 40248 ⋯\n",
              "5 2018-12-22 21:30:34 75.64 13.05 1.76 3.26 0.16 262.58 284.68 kickoff 40326 ⋯\n",
              "6 2018-12-22 21:30:34 75.70 32.78 2.19 2.49 0.23 265.26 256.88 kickoff 40473 ⋯\n",
              "  returnDirectionActual missedTackler assistTackler tackler\n",
              "1 R                     NA            NA            TEN 28 \n",
              "2 R                     NA            NA            TEN 28 \n",
              "3 R                     NA            NA            TEN 28 \n",
              "4 R                     NA            NA            TEN 28 \n",
              "5 R                     NA            NA            TEN 28 \n",
              "6 R                     NA            NA            TEN 28 \n",
              "  kickoffReturnFormation gunners puntRushers specialTeamsSafeties vises\n",
              "1 8-0-2                  NA      NA          TEN 28; TEN 36       NA   \n",
              "2 8-0-2                  NA      NA          TEN 28; TEN 36       NA   \n",
              "3 8-0-2                  NA      NA          TEN 28; TEN 36       NA   \n",
              "4 8-0-2                  NA      NA          TEN 28; TEN 36       NA   \n",
              "5 8-0-2                  NA      NA          TEN 28; TEN 36       NA   \n",
              "6 8-0-2                  NA      NA          TEN 28; TEN 36       NA   \n",
              "  kickContactType\n",
              "1 NA             \n",
              "2 NA             \n",
              "3 NA             \n",
              "4 NA             \n",
              "5 NA             \n",
              "6 NA             "
            ]
          },
          "metadata": {}
        }
      ]
    },
    {
      "cell_type": "code",
      "source": [
        "#Summary Statistics\n",
        "length(unique(kickoffs$playId))\n",
        "length(unique(kickoffs$gameId))"
      ],
      "metadata": {
        "colab": {
          "base_uri": "https://localhost:8080/",
          "height": 52
        },
        "id": "LhwecNlpd9yS",
        "outputId": "0309d602-7d80-4932-b658-8871b334f3ab"
      },
      "execution_count": 37,
      "outputs": [
        {
          "output_type": "display_data",
          "data": {
            "text/html": [
              "695"
            ],
            "text/markdown": "695",
            "text/latex": "695",
            "text/plain": [
              "[1] 695"
            ]
          },
          "metadata": {}
        },
        {
          "output_type": "display_data",
          "data": {
            "text/html": [
              "87"
            ],
            "text/markdown": "87",
            "text/latex": "87",
            "text/plain": [
              "[1] 87"
            ]
          },
          "metadata": {}
        }
      ]
    },
    {
      "cell_type": "code",
      "source": [
        "summary(kickoffs)"
      ],
      "metadata": {
        "colab": {
          "base_uri": "https://localhost:8080/",
          "height": 1000
        },
        "id": "WATaNxLmeE9t",
        "outputId": "fd7f74b4-b89e-436e-9e96-18a7552586fe"
      },
      "execution_count": 38,
      "outputs": [
        {
          "output_type": "display_data",
          "data": {
            "text/plain": [
              "      time                           x                y        \n",
              " Min.   :2018-12-22 21:30:34   Min.   :  0.00   Min.   :-2.00  \n",
              " 1st Qu.:2018-12-30 21:38:41   1st Qu.: 44.32   1st Qu.:16.68  \n",
              " Median :2019-12-29 19:07:22   Median : 60.00   Median :26.87  \n",
              " Mean   :2020-01-01 03:43:06   Mean   : 60.05   Mean   :26.81  \n",
              " 3rd Qu.:2020-12-27 20:06:37   3rd Qu.: 75.62   3rd Qu.:36.98  \n",
              " Max.   :2021-01-04 03:58:31   Max.   :119.94   Max.   :52.42  \n",
              "                                                               \n",
              "       s                a               dis               o         \n",
              " Min.   : 0.000   Min.   : 0.010   Min.   :0.0000   Min.   :  0.01  \n",
              " 1st Qu.: 0.920   1st Qu.: 1.280   1st Qu.:0.0900   1st Qu.: 91.72  \n",
              " Median : 1.760   Median : 2.040   Median :0.1700   Median :177.40  \n",
              " Mean   : 2.908   Mean   : 2.086   Mean   :0.2882   Mean   :180.92  \n",
              " 3rd Qu.: 4.350   3rd Qu.: 2.830   3rd Qu.:0.4400   3rd Qu.:271.07  \n",
              " Max.   :10.580   Max.   :10.810   Max.   :1.9400   Max.   :359.97  \n",
              "                                                                    \n",
              "      dir                   event           nflId      \n",
              " Min.   :  0.00   kick_received: 9064   Min.   :25326  \n",
              " 1st Qu.: 90.98   kickoff      :18825   1st Qu.:42759  \n",
              " Median :178.11                         Median :45223  \n",
              " Mean   :180.31                         Mean   :44848  \n",
              " 3rd Qu.:270.69                         3rd Qu.:46729  \n",
              " Max.   :359.99                         Max.   :53172  \n",
              "                                                       \n",
              "            displayName     jerseyNumber      position       team      \n",
              " Buddy Howell     :  100   Min.   : 1.00   CB     : 3462   away:13945  \n",
              " M.J. Stewart     :  100   1st Qu.:28.00   WR     : 3148   home:13944  \n",
              " Peter Kalambayi  :  100   Median :40.00   RB     : 2963               \n",
              " Clayton Fejedelem:   98   Mean   :42.73   OLB    : 2525               \n",
              " Tavierre Thomas  :   97   3rd Qu.:53.00   LB     : 2413               \n",
              " Derek Watt       :   96   Max.   :99.00   TE     : 2240               \n",
              " (Other)          :27298                   (Other):11138               \n",
              "    frameId          gameId               playId     playDirection\n",
              " Min.   : 1.00   Min.   :2018122200   Min.   :  36   left :13875  \n",
              " 1st Qu.:11.00   1st Qu.:2018123008   1st Qu.: 803   right:14014  \n",
              " Median :11.00   Median :2019122903   Median :1996                \n",
              " Mean   :23.49   Mean   :2019294230   Mean   :1912                \n",
              " 3rd Qu.:49.00   3rd Qu.:2020122706   3rd Qu.:2878                \n",
              " Max.   :80.00   Max.   :2021010315   Max.   :4946                \n",
              "                                                                  \n",
              "                                                       playDescription \n",
              " W.Lutz kicks 65 yards from NO 35 to end zone, Touchback.      :  660  \n",
              " J.Tucker kicks 65 yards from BAL 35 to end zone, Touchback.   :  572  \n",
              " K.Fairbairn kicks 65 yards from HOU 35 to end zone, Touchback.:  528  \n",
              " B.McManus kicks 65 yards from DEN 35 to end zone, Touchback.  :  506  \n",
              " G.Zuerlein kicks 65 yards from LA 35 to end zone, Touchback.  :  506  \n",
              " B.Pinion kicks 65 yards from TB 35 to end zone, Touchback.    :  440  \n",
              " (Other)                                                       :24677  \n",
              "    quarter           down     yardsToGo possessionTeam  specialTeamsPlayType\n",
              " Min.   :1.000   Min.   :0   Min.   :0   BAL    : 1276   Kickoff:27889       \n",
              " 1st Qu.:1.000   1st Qu.:0   1st Qu.:0   HOU    : 1144                       \n",
              " Median :2.000   Median :0   Median :0   IND    : 1122                       \n",
              " Mean   :2.428   Mean   :0   Mean   :0   DAL    : 1100                       \n",
              " 3rd Qu.:3.000   3rd Qu.:0   3rd Qu.:0   TB     : 1100                       \n",
              " Max.   :5.000   Max.   :0   Max.   :0   ATL    : 1056                       \n",
              "                                         (Other):21091                       \n",
              "     specialTeamsResult    kickerId       returnerId    kickBlockerId  \n",
              " Fair Catch   :   22    Min.   :25326   40130  :  440   Min.   : NA    \n",
              " Muffed       :  220    1st Qu.:39470   42051  :  396   1st Qu.: NA    \n",
              " Out of Bounds:  110    Median :43068   47605  :  396   Median : NA    \n",
              " Return       :15004    Mean   :42391   35527  :  352   Mean   :NaN    \n",
              " Touchback    :12533    3rd Qu.:45576   43663  :  352   3rd Qu.: NA    \n",
              "                        Max.   :52751   (Other):13310   Max.   : NA    \n",
              "                                        NA's   :12643   NA's   :27889  \n",
              "  yardlineSide   yardlineNumber   gameClock         penaltyCodes  \n",
              " BAL    : 1276   Min.   :20.00   Length:27889      OH     :  880  \n",
              " HOU    : 1144   1st Qu.:35.00   Class1:hms        IBW    :  176  \n",
              " IND    : 1122   Median :35.00   Class2:difftime   UNR    :  176  \n",
              " DAL    : 1100   Mean   :34.97   Mode  :numeric    IBW;OH :   88  \n",
              " TB     : 1100   3rd Qu.:35.00                     IDT    :   88  \n",
              " (Other):22015   Max.   :50.00                     (Other):  220  \n",
              " NA's   :  132                                     NA's   :26261  \n",
              " penaltyJerseyNumbers  penaltyYards     preSnapHomeScore preSnapVisitorScore\n",
              " DEN 32 :   88        Min.   :-15.000   Min.   : 0.0     Min.   : 0.00      \n",
              " NYJ 93 :   88        1st Qu.:  8.000   1st Qu.: 3.0     1st Qu.: 3.00      \n",
              " TEN 41 :   88        Median : 10.000   Median :10.0     Median :10.00      \n",
              " ATL 14 :   44        Mean   :  7.243   Mean   :12.2     Mean   :11.43      \n",
              " ATL 35 :   44        3rd Qu.: 10.000   3rd Qu.:19.0     3rd Qu.:17.00      \n",
              " (Other): 1276        Max.   : 12.000   Max.   :56.0     Max.   :47.00      \n",
              " NA's   :26261        NA's   :26261                                         \n",
              " passResult     kickLength    kickReturnYardage   playResult    \n",
              " NA's:27889   Min.   :25.00   Min.   :  0.00    Min.   :-35.00  \n",
              "              1st Qu.:63.00   1st Qu.: 18.00    1st Qu.: 40.00  \n",
              "              Median :67.00   Median : 22.00    Median : 40.00  \n",
              "              Mean   :66.61   Mean   : 23.39    Mean   : 39.76  \n",
              "              3rd Qu.:71.00   3rd Qu.: 27.00    3rd Qu.: 42.00  \n",
              "              Max.   :75.00   Max.   :104.00    Max.   : 60.00  \n",
              "                              NA's   :12665                     \n",
              " absoluteYardlineNumber snapDetail      snapTime     operationTime  \n",
              " Min.   :30.00          NA's:27889   Min.   : NA     Min.   : NA    \n",
              " 1st Qu.:45.00                       1st Qu.: NA     1st Qu.: NA    \n",
              " Median :60.00                       Median : NA     Median : NA    \n",
              " Mean   :59.91                       Mean   :NaN     Mean   :NaN    \n",
              " 3rd Qu.:75.00                       3rd Qu.: NA     3rd Qu.: NA    \n",
              " Max.   :90.00                       Max.   : NA     Max.   : NA    \n",
              "                                     NA's   :27889   NA's   :27889  \n",
              "    hangTime     kickType  kickDirectionIntended kickDirectionActual\n",
              " Min.   :2.810   D:25711   C   :19991            C   :20035         \n",
              " 1st Qu.:3.810   F: 1012   L   : 4246            L   : 4246         \n",
              " Median :3.960   P: 1166   R   : 3630            R   : 3586         \n",
              " Mean   :3.948             NA's:   22            NA's:   22         \n",
              " 3rd Qu.:4.110                                                      \n",
              " Max.   :4.560                                                      \n",
              " NA's   :1012                                                       \n",
              " returnDirectionIntended returnDirectionActual        missedTackler  \n",
              " C   : 7568              C   : 7436            BUF 15        :   88  \n",
              " L   : 4092              L   : 3784            DET 44        :   88  \n",
              " R   : 3476              R   : 3916            ATL 17; ATL 28:   44  \n",
              " NA's:12753              NA's:12753            ATL 35        :   44  \n",
              "                                               ATL 40        :   44  \n",
              "                                               (Other)       : 3212  \n",
              "                                               NA's          :24369  \n",
              " assistTackler      tackler      kickoffReturnFormation gunners     \n",
              " CIN 47 :  132   CHI 27 :  176   5-3-2:  154            NA's:27889  \n",
              " ARI 22 :   88   DET 21 :  176   6-0-4:   44                        \n",
              " CLE 52 :   88   HOU 33 :  176   6-2-2:   88                        \n",
              " HOU 58 :   88   LAC 58 :  176   8-0-1: 2068                        \n",
              " IND 30 :   88   PHI 47 :  176   8-0-2:25491                        \n",
              " (Other): 3036   (Other):12892   9-1-0:   44                        \n",
              " NA's   :24369   NA's   :14117                                      \n",
              " puntRushers      specialTeamsSafeties  vises       kickContactType\n",
              " NA's:27889   BAL 27; BAL 28:  506     NA's:27889   NA's:27889     \n",
              "              DAL 31; DAL 38:  484                                 \n",
              "              DET 21; DET 39:  440                                 \n",
              "              PIT 20; PIT 42:  440                                 \n",
              "              LAC 28; LAC 32:  418                                 \n",
              "              (Other)       :25513                                 \n",
              "              NA's          :   88                                 "
            ]
          },
          "metadata": {}
        }
      ]
    },
    {
      "cell_type": "code",
      "source": [
        "#Dimensions of the X and Y Coordinates\n",
        "min(kickoffs$x)\n",
        "max(kickoffs$x)\n",
        "min(kickoffs$y)\n",
        "max(kickoffs$y)"
      ],
      "metadata": {
        "colab": {
          "base_uri": "https://localhost:8080/",
          "height": 86
        },
        "id": "0hb5aAiYerco",
        "outputId": "2e2e2d1f-d9a1-43c8-8dcf-5519fea3a597"
      },
      "execution_count": 39,
      "outputs": [
        {
          "output_type": "display_data",
          "data": {
            "text/html": [
              "0"
            ],
            "text/markdown": "0",
            "text/latex": "0",
            "text/plain": [
              "[1] 0"
            ]
          },
          "metadata": {}
        },
        {
          "output_type": "display_data",
          "data": {
            "text/html": [
              "119.94"
            ],
            "text/markdown": "119.94",
            "text/latex": "119.94",
            "text/plain": [
              "[1] 119.94"
            ]
          },
          "metadata": {}
        },
        {
          "output_type": "display_data",
          "data": {
            "text/html": [
              "-2"
            ],
            "text/markdown": "-2",
            "text/latex": "-2",
            "text/plain": [
              "[1] -2"
            ]
          },
          "metadata": {}
        },
        {
          "output_type": "display_data",
          "data": {
            "text/html": [
              "52.42"
            ],
            "text/markdown": "52.42",
            "text/latex": "52.42",
            "text/plain": [
              "[1] 52.42"
            ]
          },
          "metadata": {}
        }
      ]
    },
    {
      "cell_type": "markdown",
      "source": [
        "## New Features\n",
        "\n",
        "Here we are creating new features:\n",
        "\n",
        "**yard_result**: The yard line the play results in, or the yard line the returner carried the ball to before being tackled. \n",
        "\n",
        "**YardResult_Over25**:  A binary indicator if the yard resulted in the 25 yard line or more.  The 25 yard line is where the ball is placed if the play result in a touchback.  \n",
        "\n",
        "**kickto_yardline**: The yard line the ball was kicked to, or the yard line the player caught(or dropped) the ball\n",
        "\n",
        "**Y_position**: The position the field a player is.  We categorize this into 4 locations:\n",
        "left = left of the hash \n",
        "right = right of the hash \n",
        "center = in between the hashes \n",
        "out of bounds = not in the boundaries of the field \n",
        "\n",
        "**kickto_5yardBin**: The 5-yard bin that the ball was kicked to.  The yard_result variable is grouped into bin of 5 yards.  \n",
        "\n",
        "**timestamp**: The time at a given frame in HH:MM:SS "
      ],
      "metadata": {
        "id": "zjuwwdvUe3M8"
      }
    },
    {
      "cell_type": "code",
      "source": [
        "kickoffs <- kickoffs %>% \n",
        "         # Creating a variable for what yard line the play resulted at \n",
        "        # \n",
        "  mutate(yard_result = (100 - yardlineNumber) - playResult,\n",
        "         \n",
        "         # Creating a binary variable for if the ball reached the 25 yard line or not\n",
        "         YardResult_over25 = ifelse(yard_result > 25 | yard_result == 25,'1','0'),\n",
        "         \n",
        "         # Creating a variable for which yard line the ball was kicked to\n",
        "         kickedto_yardline = 100 - (yardlineNumber + kickLength),\n",
        "         \n",
        "         # Creating a variable for Y position on the field\n",
        "         Y_position = ifelse(y < 23.36667 & y > 0, 'left', \n",
        "                      ifelse(y > 29.96667 & y < 53.3333, 'right',\n",
        "                      ifelse(y > 23.36667 & y < 53.3333, 'center', \n",
        "                      ifelse(y < 0 | y > 53.3333, \"out of bounds\", 'NA')))),\n",
        "         \n",
        "         # Creating a variable for 5-yard bins\n",
        "         kickedto_5yardBin =\n",
        "           ifelse(kickedto_yardline >= -10 & -5 > kickedto_yardline, \"back-half endzone\",\n",
        "           ifelse(kickedto_yardline >= -5 & 0 > kickedto_yardline, \"front-half endzone\", \n",
        "           ifelse(kickedto_yardline >= 0 & 5 > kickedto_yardline, \"0-5\",\n",
        "           ifelse(kickedto_yardline >= 5 & 10 > kickedto_yardline, \"5-10\",\n",
        "           ifelse(kickedto_yardline >= 10 & 15 > kickedto_yardline, \"10-15\", \n",
        "           ifelse(kickedto_yardline >= 15 & 20 > kickedto_yardline, \"15-20\",\n",
        "           ifelse(kickedto_yardline >= 20 & 25 > kickedto_yardline, \"20-25\",\n",
        "           ifelse(kickedto_yardline >= 25 & 30 > kickedto_yardline, \"25-30\",\n",
        "           ifelse(kickedto_yardline >= 30 & 35 > kickedto_yardline, \"30-35\",\n",
        "           ifelse(kickedto_yardline >= 35 & 40 > kickedto_yardline, \"35-40\",\n",
        "           ifelse(kickedto_yardline >= 40 & 45 > kickedto_yardline, \"40-45\",\n",
        "           ifelse(kickedto_yardline >= 45 & 50 > kickedto_yardline, \"45-50\",\n",
        "           ifelse(kickedto_yardline >= 50 & 55 > kickedto_yardline, \"50-55\",\n",
        "           ifelse(kickedto_yardline >= 55 & 60 > kickedto_yardline, \"55-60\",\n",
        "           ifelse(kickedto_yardline >= 60 & 65 > kickedto_yardline, \"60-65\",\"NA\")\n",
        "           )))))))))))))))\n",
        "\n",
        "# Changing variables to factors\n",
        "kickoffs <- as.data.frame(unclass(kickoffs),                     \n",
        "                                  stringsAsFactors = TRUE)\n",
        "\n",
        "# Creating a variable for time\n",
        "kickoffs$timestamp <- str_sub(kickoffs$time, - 12, - 1)\n",
        "\n",
        "kickoffs$timestamp <- sub(\"T\",\" \",kickoffs$time)\n",
        "kickoffs$timestamp <- strptime(kickoffs$timestamp, format = \"%Y-%m-%d %H:%M:%OS\", tz = \"\")\n",
        "\n",
        "glimpse(kickoffs)"
      ],
      "metadata": {
        "colab": {
          "base_uri": "https://localhost:8080/"
        },
        "id": "51l5ZCfafIFS",
        "outputId": "229a6597-f5bb-4c72-e0ec-fe6a2bf887c6"
      },
      "execution_count": 40,
      "outputs": [
        {
          "output_type": "stream",
          "name": "stdout",
          "text": [
            "Rows: 27,889\n",
            "Columns: 65\n",
            "$ time                    \u001b[3m\u001b[90m<dttm>\u001b[39m\u001b[23m 2018-12-22 21:30:34, 2018-12-22 21:30:34, 201…\n",
            "$ x                       \u001b[3m\u001b[90m<dbl>\u001b[39m\u001b[23m 75.60, 76.07, 60.17, 75.63, 75.64, 75.70, 60.5…\n",
            "$ y                       \u001b[3m\u001b[90m<dbl>\u001b[39m\u001b[23m 24.52, 2.71, 6.83, 16.09, 13.05, 32.78, 35.11,…\n",
            "$ s                       \u001b[3m\u001b[90m<dbl>\u001b[39m\u001b[23m 4.88, 1.03, 1.92, 2.18, 1.76, 2.19, 1.37, 0.84…\n",
            "$ a                       \u001b[3m\u001b[90m<dbl>\u001b[39m\u001b[23m 2.61, 2.16, 3.05, 3.66, 3.26, 2.49, 2.29, 1.45…\n",
            "$ dis                     \u001b[3m\u001b[90m<dbl>\u001b[39m\u001b[23m 0.50, 0.09, 0.17, 0.20, 0.16, 0.23, 0.13, 0.07…\n",
            "$ o                       \u001b[3m\u001b[90m<dbl>\u001b[39m\u001b[23m 291.39, 219.74, 326.49, 265.38, 262.58, 265.26…\n",
            "$ dir                     \u001b[3m\u001b[90m<dbl>\u001b[39m\u001b[23m 286.36, 278.00, 291.12, 275.08, 284.68, 256.88…\n",
            "$ event                   \u001b[3m\u001b[90m<fct>\u001b[39m\u001b[23m kickoff, kickoff, kickoff, kickoff, kickoff, k…\n",
            "$ nflId                   \u001b[3m\u001b[90m<dbl>\u001b[39m\u001b[23m 34707, 35575, 38543, 40248, 40326, 40473, 4275…\n",
            "$ displayName             \u001b[3m\u001b[90m<fct>\u001b[39m\u001b[23m Ryan Succop, Kendrick Lewis, Michael Floyd, Da…\n",
            "$ jerseyNumber            \u001b[3m\u001b[90m<dbl>\u001b[39m\u001b[23m 4, 28, 17, 53, 51, 41, 56, 22, 15, 44, 36, 34,…\n",
            "$ position                \u001b[3m\u001b[90m<fct>\u001b[39m\u001b[23m K, FS, WR, ILB, ILB, FS, MLB, SS, WR, ILB, CB,…\n",
            "$ team                    \u001b[3m\u001b[90m<fct>\u001b[39m\u001b[23m home, home, away, home, home, home, away, away…\n",
            "$ frameId                 \u001b[3m\u001b[90m<dbl>\u001b[39m\u001b[23m 11, 11, 11, 11, 11, 11, 11, 11, 11, 11, 11, 11…\n",
            "$ gameId                  \u001b[3m\u001b[90m<dbl>\u001b[39m\u001b[23m 2018122200, 2018122200, 2018122200, 2018122200…\n",
            "$ playId                  \u001b[3m\u001b[90m<dbl>\u001b[39m\u001b[23m 37, 37, 37, 37, 37, 37, 37, 37, 37, 37, 37, 37…\n",
            "$ playDirection           \u001b[3m\u001b[90m<fct>\u001b[39m\u001b[23m left, left, left, left, left, left, left, left…\n",
            "$ playDescription         \u001b[3m\u001b[90m<fct>\u001b[39m\u001b[23m \"R.Succop kicks 65 yards from TEN 35 to WAS 0.…\n",
            "$ quarter                 \u001b[3m\u001b[90m<dbl>\u001b[39m\u001b[23m 1, 1, 1, 1, 1, 1, 1, 1, 1, 1, 1, 1, 1, 1, 1, 1…\n",
            "$ down                    \u001b[3m\u001b[90m<dbl>\u001b[39m\u001b[23m 0, 0, 0, 0, 0, 0, 0, 0, 0, 0, 0, 0, 0, 0, 0, 0…\n",
            "$ yardsToGo               \u001b[3m\u001b[90m<dbl>\u001b[39m\u001b[23m 0, 0, 0, 0, 0, 0, 0, 0, 0, 0, 0, 0, 0, 0, 0, 0…\n",
            "$ possessionTeam          \u001b[3m\u001b[90m<fct>\u001b[39m\u001b[23m TEN, TEN, TEN, TEN, TEN, TEN, TEN, TEN, TEN, T…\n",
            "$ specialTeamsPlayType    \u001b[3m\u001b[90m<fct>\u001b[39m\u001b[23m Kickoff, Kickoff, Kickoff, Kickoff, Kickoff, K…\n",
            "$ specialTeamsResult      \u001b[3m\u001b[90m<fct>\u001b[39m\u001b[23m Return, Return, Return, Return, Return, Return…\n",
            "$ kickerId                \u001b[3m\u001b[90m<dbl>\u001b[39m\u001b[23m 34707, 34707, 34707, 34707, 34707, 34707, 3470…\n",
            "$ returnerId              \u001b[3m\u001b[90m<fct>\u001b[39m\u001b[23m 44002, 44002, 44002, 44002, 44002, 44002, 4400…\n",
            "$ kickBlockerId           \u001b[3m\u001b[90m<dbl>\u001b[39m\u001b[23m NA, NA, NA, NA, NA, NA, NA, NA, NA, NA, NA, NA…\n",
            "$ yardlineSide            \u001b[3m\u001b[90m<fct>\u001b[39m\u001b[23m TEN, TEN, TEN, TEN, TEN, TEN, TEN, TEN, TEN, T…\n",
            "$ yardlineNumber          \u001b[3m\u001b[90m<dbl>\u001b[39m\u001b[23m 35, 35, 35, 35, 35, 35, 35, 35, 35, 35, 35, 35…\n",
            "$ gameClock               \u001b[3m\u001b[90m<time>\u001b[39m\u001b[23m 15:00:00, 15:00:00, 15:00:00, 15:00:00, 15:00…\n",
            "$ penaltyCodes            \u001b[3m\u001b[90m<fct>\u001b[39m\u001b[23m NA, NA, NA, NA, NA, NA, NA, NA, NA, NA, NA, NA…\n",
            "$ penaltyJerseyNumbers    \u001b[3m\u001b[90m<fct>\u001b[39m\u001b[23m NA, NA, NA, NA, NA, NA, NA, NA, NA, NA, NA, NA…\n",
            "$ penaltyYards            \u001b[3m\u001b[90m<dbl>\u001b[39m\u001b[23m NA, NA, NA, NA, NA, NA, NA, NA, NA, NA, NA, NA…\n",
            "$ preSnapHomeScore        \u001b[3m\u001b[90m<dbl>\u001b[39m\u001b[23m 0, 0, 0, 0, 0, 0, 0, 0, 0, 0, 0, 0, 0, 0, 0, 0…\n",
            "$ preSnapVisitorScore     \u001b[3m\u001b[90m<dbl>\u001b[39m\u001b[23m 0, 0, 0, 0, 0, 0, 0, 0, 0, 0, 0, 0, 0, 0, 0, 0…\n",
            "$ passResult              \u001b[3m\u001b[90m<fct>\u001b[39m\u001b[23m NA, NA, NA, NA, NA, NA, NA, NA, NA, NA, NA, NA…\n",
            "$ kickLength              \u001b[3m\u001b[90m<dbl>\u001b[39m\u001b[23m 65, 65, 65, 65, 65, 65, 65, 65, 65, 65, 65, 65…\n",
            "$ kickReturnYardage       \u001b[3m\u001b[90m<dbl>\u001b[39m\u001b[23m 28, 28, 28, 28, 28, 28, 28, 28, 28, 28, 28, 28…\n",
            "$ playResult              \u001b[3m\u001b[90m<dbl>\u001b[39m\u001b[23m 37, 37, 37, 37, 37, 37, 37, 37, 37, 37, 37, 37…\n",
            "$ absoluteYardlineNumber  \u001b[3m\u001b[90m<dbl>\u001b[39m\u001b[23m 75, 75, 75, 75, 75, 75, 75, 75, 75, 75, 75, 75…\n",
            "$ snapDetail              \u001b[3m\u001b[90m<fct>\u001b[39m\u001b[23m NA, NA, NA, NA, NA, NA, NA, NA, NA, NA, NA, NA…\n",
            "$ snapTime                \u001b[3m\u001b[90m<dbl>\u001b[39m\u001b[23m NA, NA, NA, NA, NA, NA, NA, NA, NA, NA, NA, NA…\n",
            "$ operationTime           \u001b[3m\u001b[90m<dbl>\u001b[39m\u001b[23m NA, NA, NA, NA, NA, NA, NA, NA, NA, NA, NA, NA…\n",
            "$ hangTime                \u001b[3m\u001b[90m<dbl>\u001b[39m\u001b[23m 4.01, 4.01, 4.01, 4.01, 4.01, 4.01, 4.01, 4.01…\n",
            "$ kickType                \u001b[3m\u001b[90m<fct>\u001b[39m\u001b[23m D, D, D, D, D, D, D, D, D, D, D, D, D, D, D, D…\n",
            "$ kickDirectionIntended   \u001b[3m\u001b[90m<fct>\u001b[39m\u001b[23m L, L, L, L, L, L, L, L, L, L, L, L, L, L, L, L…\n",
            "$ kickDirectionActual     \u001b[3m\u001b[90m<fct>\u001b[39m\u001b[23m L, L, L, L, L, L, L, L, L, L, L, L, L, L, L, L…\n",
            "$ returnDirectionIntended \u001b[3m\u001b[90m<fct>\u001b[39m\u001b[23m R, R, R, R, R, R, R, R, R, R, R, R, R, R, R, R…\n",
            "$ returnDirectionActual   \u001b[3m\u001b[90m<fct>\u001b[39m\u001b[23m R, R, R, R, R, R, R, R, R, R, R, R, R, R, R, R…\n",
            "$ missedTackler           \u001b[3m\u001b[90m<fct>\u001b[39m\u001b[23m NA, NA, NA, NA, NA, NA, NA, NA, NA, NA, NA, NA…\n",
            "$ assistTackler           \u001b[3m\u001b[90m<fct>\u001b[39m\u001b[23m NA, NA, NA, NA, NA, NA, NA, NA, NA, NA, NA, NA…\n",
            "$ tackler                 \u001b[3m\u001b[90m<fct>\u001b[39m\u001b[23m TEN 28, TEN 28, TEN 28, TEN 28, TEN 28, TEN 28…\n",
            "$ kickoffReturnFormation  \u001b[3m\u001b[90m<fct>\u001b[39m\u001b[23m 8-0-2, 8-0-2, 8-0-2, 8-0-2, 8-0-2, 8-0-2, 8-0-…\n",
            "$ gunners                 \u001b[3m\u001b[90m<fct>\u001b[39m\u001b[23m NA, NA, NA, NA, NA, NA, NA, NA, NA, NA, NA, NA…\n",
            "$ puntRushers             \u001b[3m\u001b[90m<fct>\u001b[39m\u001b[23m NA, NA, NA, NA, NA, NA, NA, NA, NA, NA, NA, NA…\n",
            "$ specialTeamsSafeties    \u001b[3m\u001b[90m<fct>\u001b[39m\u001b[23m TEN 28; TEN 36, TEN 28; TEN 36, TEN 28; TEN 36…\n",
            "$ vises                   \u001b[3m\u001b[90m<fct>\u001b[39m\u001b[23m NA, NA, NA, NA, NA, NA, NA, NA, NA, NA, NA, NA…\n",
            "$ kickContactType         \u001b[3m\u001b[90m<fct>\u001b[39m\u001b[23m NA, NA, NA, NA, NA, NA, NA, NA, NA, NA, NA, NA…\n",
            "$ yard_result             \u001b[3m\u001b[90m<dbl>\u001b[39m\u001b[23m 28, 28, 28, 28, 28, 28, 28, 28, 28, 28, 28, 28…\n",
            "$ YardResult_over25       \u001b[3m\u001b[90m<fct>\u001b[39m\u001b[23m 1, 1, 1, 1, 1, 1, 1, 1, 1, 1, 1, 1, 1, 1, 1, 1…\n",
            "$ kickedto_yardline       \u001b[3m\u001b[90m<dbl>\u001b[39m\u001b[23m 0, 0, 0, 0, 0, 0, 0, 0, 0, 0, 0, 0, 0, 0, 0, 0…\n",
            "$ Y_position              \u001b[3m\u001b[90m<fct>\u001b[39m\u001b[23m center, left, left, left, left, right, right, …\n",
            "$ kickedto_5yardBin       \u001b[3m\u001b[90m<fct>\u001b[39m\u001b[23m 0-5, 0-5, 0-5, 0-5, 0-5, 0-5, 0-5, 0-5, 0-5, 0…\n",
            "$ timestamp               \u001b[3m\u001b[90m<dttm>\u001b[39m\u001b[23m 2018-12-22 21:30:34, 2018-12-22 21:30:34, 201…\n"
          ]
        }
      ]
    },
    {
      "cell_type": "code",
      "source": [
        "# Re-leveling the 5-Yard Bins so they are in order\n",
        "kickoffs <- kickoffs %>% \n",
        "  mutate(kickedto_5yardBin = fct_relevel(kickedto_5yardBin, \"back-half endzone\", \"front-half endzone\", \"0-5\", \"5-10\", \"10-15\", \"15-20\", \"20-25\", \"25-30\", \"30-35\", \"35-40\", \"40-45\", \"45-50\", \"50-55\", \"55-60\"))\n",
        "\n",
        "levels(kickoffs$kickedto_5yardBin)"
      ],
      "metadata": {
        "colab": {
          "base_uri": "https://localhost:8080/",
          "height": 69
        },
        "id": "EhfQrgV3fMD2",
        "outputId": "4c8ae8ba-bc42-4d0f-82cf-e044ab081e8b"
      },
      "execution_count": 41,
      "outputs": [
        {
          "output_type": "stream",
          "name": "stderr",
          "text": [
            "Warning message:\n",
            "“Unknown levels in `f`: 25-30, 30-35, 35-40, 45-50, 50-55, 55-60”\n"
          ]
        },
        {
          "output_type": "display_data",
          "data": {
            "text/html": [
              "<style>\n",
              ".list-inline {list-style: none; margin:0; padding: 0}\n",
              ".list-inline>li {display: inline-block}\n",
              ".list-inline>li:not(:last-child)::after {content: \"\\00b7\"; padding: 0 .5ex}\n",
              "</style>\n",
              "<ol class=list-inline><li>'back-half endzone'</li><li>'front-half endzone'</li><li>'0-5'</li><li>'5-10'</li><li>'10-15'</li><li>'15-20'</li><li>'20-25'</li><li>'40-45'</li></ol>\n"
            ],
            "text/markdown": "1. 'back-half endzone'\n2. 'front-half endzone'\n3. '0-5'\n4. '5-10'\n5. '10-15'\n6. '15-20'\n7. '20-25'\n8. '40-45'\n\n\n",
            "text/latex": "\\begin{enumerate*}\n\\item 'back-half endzone'\n\\item 'front-half endzone'\n\\item '0-5'\n\\item '5-10'\n\\item '10-15'\n\\item '15-20'\n\\item '20-25'\n\\item '40-45'\n\\end{enumerate*}\n",
            "text/plain": [
              "[1] \"back-half endzone\"  \"front-half endzone\" \"0-5\"               \n",
              "[4] \"5-10\"               \"10-15\"              \"15-20\"             \n",
              "[7] \"20-25\"              \"40-45\"             "
            ]
          },
          "metadata": {}
        }
      ]
    },
    {
      "cell_type": "code",
      "source": [
        "# Creating a dataset named 'returns'\n",
        "table(kickoffs$specialTeamsResult)\n",
        "\n",
        "returns <- kickoffs %>% \n",
        "  filter(specialTeamsResult  == 'Return' | specialTeamsResult ==  'Muffed')\n",
        "\n",
        "table(returns$specialTeamsResult)"
      ],
      "metadata": {
        "colab": {
          "base_uri": "https://localhost:8080/",
          "height": 121
        },
        "id": "kmLVQe5YfX3v",
        "outputId": "34adb094-632f-4ad7-fe99-ad25528c2697"
      },
      "execution_count": 42,
      "outputs": [
        {
          "output_type": "display_data",
          "data": {
            "text/plain": [
              "\n",
              "   Fair Catch        Muffed Out of Bounds        Return     Touchback \n",
              "           22           220           110         15004         12533 "
            ]
          },
          "metadata": {}
        },
        {
          "output_type": "display_data",
          "data": {
            "text/plain": [
              "\n",
              "   Fair Catch        Muffed Out of Bounds        Return     Touchback \n",
              "            0           220             0         15004             0 "
            ]
          },
          "metadata": {}
        }
      ]
    },
    {
      "cell_type": "code",
      "source": [
        "# Creating a new variable Opposing team because we eventually want to find the distance from the opposing players, not team players\n",
        "\n",
        "# If a player is on the away team, lets return the home team, else, let's return away\n",
        "returns$opp_team <- ifelse(returns$team == 'away', 'home', 'away')\n",
        "\n",
        "# Sanity check\n",
        "table(returns$opp_team == returns$team)\n",
        "\n",
        "# Creating a data set for the moment of the ball being caught\n",
        "received <- returns %>% \n",
        "  filter(event == 'kick_received')\n",
        "\n",
        "# Joining returns2 onto itself where team = opp_team and creating 11 rows for each player with a defender added\n",
        "\n",
        "receivedJoin <- left_join(received,\n",
        "                     received[, c(\"gameId\", \"playId\", \"nflId\", \"displayName\",                                             \"opp_team\", \"x\",\"y\",\"s\", \"a\", \"dis\")],\n",
        "                     by = c(\"gameId\" = \"gameId\", \"playId\" = \"playId\", \"team\" =                                      \"opp_team\"))\n",
        "\n",
        "# Creating a variable for distance from returner or 'ball carrier'\n",
        "receivedJoin$distance <- (((receivedJoin$x.x - receivedJoin$x.y)^2) + \n",
        "                       (receivedJoin$y.x - receivedJoin$y.y)^2)^.5\n",
        "\n",
        "# Using filter to return the only the returner \n",
        "receivedJoin <- receivedJoin  %>% \n",
        "  filter(receivedJoin$nflId.x == receivedJoin$returnerId) \n",
        "  \n",
        "\n",
        "# We are grabbing the 10 closest defenders because the kicker should be removed from the play when evaluating the kickoff team\n",
        "\n",
        "# Average Yardline\n",
        "# Average \n",
        "received10 <- receivedJoin %>% group_by(displayName.x, gameId, playId) %>% slice_min(distance, n = 5) %>% \n",
        "  # Creating average distance, speed, and acceleration variables\n",
        "  mutate(KoTeamAvgX = mean(x.x),\n",
        "         KoTeamAvgDist  = mean(distance),\n",
        "         KoTeamAvgSpeed  = mean(s.y),\n",
        "         KoTeamAvgA = mean(a.y))\n",
        "\n",
        "glimpse(received10)"
      ],
      "metadata": {
        "colab": {
          "base_uri": "https://localhost:8080/",
          "height": 1000
        },
        "id": "ecx7NTFEfovy",
        "outputId": "64109282-6175-4572-b609-3942e4d5f4f1"
      },
      "execution_count": 43,
      "outputs": [
        {
          "output_type": "display_data",
          "data": {
            "text/plain": [
              "\n",
              "FALSE \n",
              "15224 "
            ]
          },
          "metadata": {}
        },
        {
          "output_type": "stream",
          "name": "stdout",
          "text": [
            "Rows: 1,715\n",
            "Columns: 78\n",
            "Groups: displayName.x, gameId, playId [343]\n",
            "$ time                    \u001b[3m\u001b[90m<dttm>\u001b[39m\u001b[23m 2018-12-23 18:59:29, 2018-12-23 18:59:29, 201…\n",
            "$ x.x                     \u001b[3m\u001b[90m<dbl>\u001b[39m\u001b[23m 107.31, 107.31, 107.31, 107.31, 107.31, 111.21…\n",
            "$ y.x                     \u001b[3m\u001b[90m<dbl>\u001b[39m\u001b[23m 13.70, 13.70, 13.70, 13.70, 13.70, 21.26, 21.2…\n",
            "$ s.x                     \u001b[3m\u001b[90m<dbl>\u001b[39m\u001b[23m 4.29, 4.29, 4.29, 4.29, 4.29, 2.88, 2.88, 2.88…\n",
            "$ a.x                     \u001b[3m\u001b[90m<dbl>\u001b[39m\u001b[23m 2.50, 2.50, 2.50, 2.50, 2.50, 2.42, 2.42, 2.42…\n",
            "$ dis.x                   \u001b[3m\u001b[90m<dbl>\u001b[39m\u001b[23m 0.44, 0.44, 0.44, 0.44, 0.44, 0.28, 0.28, 0.28…\n",
            "$ o                       \u001b[3m\u001b[90m<dbl>\u001b[39m\u001b[23m 274.11, 274.11, 274.11, 274.11, 274.11, 271.02…\n",
            "$ dir                     \u001b[3m\u001b[90m<dbl>\u001b[39m\u001b[23m 230.03, 230.03, 230.03, 230.03, 230.03, 267.13…\n",
            "$ event                   \u001b[3m\u001b[90m<fct>\u001b[39m\u001b[23m kick_received, kick_received, kick_received, k…\n",
            "$ nflId.x                 \u001b[3m\u001b[90m<dbl>\u001b[39m\u001b[23m 43663, 43663, 43663, 43663, 43663, 43663, 4366…\n",
            "$ displayName.x           \u001b[3m\u001b[90m<fct>\u001b[39m\u001b[23m Alex Erickson, Alex Erickson, Alex Erickson, A…\n",
            "$ jerseyNumber            \u001b[3m\u001b[90m<dbl>\u001b[39m\u001b[23m 12, 12, 12, 12, 12, 12, 12, 12, 12, 12, 12, 12…\n",
            "$ position                \u001b[3m\u001b[90m<fct>\u001b[39m\u001b[23m WR, WR, WR, WR, WR, WR, WR, WR, WR, WR, WR, WR…\n",
            "$ team                    \u001b[3m\u001b[90m<chr>\u001b[39m\u001b[23m \"away\", \"away\", \"away\", \"away\", \"away\", \"away\"…\n",
            "$ frameId                 \u001b[3m\u001b[90m<dbl>\u001b[39m\u001b[23m 50, 50, 50, 50, 50, 55, 55, 55, 55, 55, 52, 52…\n",
            "$ gameId                  \u001b[3m\u001b[90m<dbl>\u001b[39m\u001b[23m 2018122305, 2018122305, 2018122305, 2018122305…\n",
            "$ playId                  \u001b[3m\u001b[90m<dbl>\u001b[39m\u001b[23m 1345, 1345, 1345, 1345, 1345, 2407, 2407, 2407…\n",
            "$ playDirection           \u001b[3m\u001b[90m<fct>\u001b[39m\u001b[23m right, right, right, right, right, right, righ…\n",
            "$ playDescription         \u001b[3m\u001b[90m<fct>\u001b[39m\u001b[23m \"G.Joseph kicks 62 yards from CLE 35 to CIN 3.…\n",
            "$ quarter                 \u001b[3m\u001b[90m<dbl>\u001b[39m\u001b[23m 2, 2, 2, 2, 2, 3, 3, 3, 3, 3, 4, 4, 4, 4, 4, 3…\n",
            "$ down                    \u001b[3m\u001b[90m<dbl>\u001b[39m\u001b[23m 0, 0, 0, 0, 0, 0, 0, 0, 0, 0, 0, 0, 0, 0, 0, 0…\n",
            "$ yardsToGo               \u001b[3m\u001b[90m<dbl>\u001b[39m\u001b[23m 0, 0, 0, 0, 0, 0, 0, 0, 0, 0, 0, 0, 0, 0, 0, 0…\n",
            "$ possessionTeam          \u001b[3m\u001b[90m<fct>\u001b[39m\u001b[23m CLE, CLE, CLE, CLE, CLE, CLE, CLE, CLE, CLE, C…\n",
            "$ specialTeamsPlayType    \u001b[3m\u001b[90m<fct>\u001b[39m\u001b[23m Kickoff, Kickoff, Kickoff, Kickoff, Kickoff, K…\n",
            "$ specialTeamsResult      \u001b[3m\u001b[90m<fct>\u001b[39m\u001b[23m Return, Return, Return, Return, Return, Return…\n",
            "$ kickerId                \u001b[3m\u001b[90m<dbl>\u001b[39m\u001b[23m 46634, 46634, 46634, 46634, 46634, 46634, 4663…\n",
            "$ returnerId              \u001b[3m\u001b[90m<fct>\u001b[39m\u001b[23m 43663, 43663, 43663, 43663, 43663, 43663, 4366…\n",
            "$ kickBlockerId           \u001b[3m\u001b[90m<dbl>\u001b[39m\u001b[23m NA, NA, NA, NA, NA, NA, NA, NA, NA, NA, NA, NA…\n",
            "$ yardlineSide            \u001b[3m\u001b[90m<fct>\u001b[39m\u001b[23m CLE, CLE, CLE, CLE, CLE, CLE, CLE, CLE, CLE, C…\n",
            "$ yardlineNumber          \u001b[3m\u001b[90m<dbl>\u001b[39m\u001b[23m 35, 35, 35, 35, 35, 35, 35, 35, 35, 35, 35, 35…\n",
            "$ gameClock               \u001b[3m\u001b[90m<time>\u001b[39m\u001b[23m 07:12:00, 07:12:00, 07:12:00, 07:12:00, 07:12…\n",
            "$ penaltyCodes            \u001b[3m\u001b[90m<fct>\u001b[39m\u001b[23m NA, NA, NA, NA, NA, NA, NA, NA, NA, NA, NA, NA…\n",
            "$ penaltyJerseyNumbers    \u001b[3m\u001b[90m<fct>\u001b[39m\u001b[23m NA, NA, NA, NA, NA, NA, NA, NA, NA, NA, NA, NA…\n",
            "$ penaltyYards            \u001b[3m\u001b[90m<dbl>\u001b[39m\u001b[23m NA, NA, NA, NA, NA, NA, NA, NA, NA, NA, NA, NA…\n",
            "$ preSnapHomeScore        \u001b[3m\u001b[90m<dbl>\u001b[39m\u001b[23m 13, 13, 13, 13, 13, 23, 23, 23, 23, 23, 26, 26…\n",
            "$ preSnapVisitorScore     \u001b[3m\u001b[90m<dbl>\u001b[39m\u001b[23m 0, 0, 0, 0, 0, 0, 0, 0, 0, 0, 3, 3, 3, 3, 3, 1…\n",
            "$ passResult              \u001b[3m\u001b[90m<fct>\u001b[39m\u001b[23m NA, NA, NA, NA, NA, NA, NA, NA, NA, NA, NA, NA…\n",
            "$ kickLength              \u001b[3m\u001b[90m<dbl>\u001b[39m\u001b[23m 62, 62, 62, 62, 62, 67, 67, 67, 67, 67, 66, 66…\n",
            "$ kickReturnYardage       \u001b[3m\u001b[90m<dbl>\u001b[39m\u001b[23m 18, 18, 18, 18, 18, 33, 33, 33, 33, 33, 26, 26…\n",
            "$ playResult              \u001b[3m\u001b[90m<dbl>\u001b[39m\u001b[23m 44, 44, 44, 44, 44, 34, 34, 34, 34, 34, 40, 40…\n",
            "$ absoluteYardlineNumber  \u001b[3m\u001b[90m<dbl>\u001b[39m\u001b[23m 45, 45, 45, 45, 45, 45, 45, 45, 45, 45, 75, 75…\n",
            "$ snapDetail              \u001b[3m\u001b[90m<fct>\u001b[39m\u001b[23m NA, NA, NA, NA, NA, NA, NA, NA, NA, NA, NA, NA…\n",
            "$ snapTime                \u001b[3m\u001b[90m<dbl>\u001b[39m\u001b[23m NA, NA, NA, NA, NA, NA, NA, NA, NA, NA, NA, NA…\n",
            "$ operationTime           \u001b[3m\u001b[90m<dbl>\u001b[39m\u001b[23m NA, NA, NA, NA, NA, NA, NA, NA, NA, NA, NA, NA…\n",
            "$ hangTime                \u001b[3m\u001b[90m<dbl>\u001b[39m\u001b[23m 3.99, 3.99, 3.99, 3.99, 3.99, 4.22, 4.22, 4.22…\n",
            "$ kickType                \u001b[3m\u001b[90m<fct>\u001b[39m\u001b[23m D, D, D, D, D, D, D, D, D, D, D, D, D, D, D, D…\n",
            "$ kickDirectionIntended   \u001b[3m\u001b[90m<fct>\u001b[39m\u001b[23m R, R, R, R, R, C, C, C, C, C, C, C, C, C, C, C…\n",
            "$ kickDirectionActual     \u001b[3m\u001b[90m<fct>\u001b[39m\u001b[23m R, R, R, R, R, C, C, C, C, C, C, C, C, C, C, C…\n",
            "$ returnDirectionIntended \u001b[3m\u001b[90m<fct>\u001b[39m\u001b[23m C, C, C, C, C, C, C, C, C, C, L, L, L, L, L, C…\n",
            "$ returnDirectionActual   \u001b[3m\u001b[90m<fct>\u001b[39m\u001b[23m C, C, C, C, C, C, C, C, C, C, L, L, L, L, L, R…\n",
            "$ missedTackler           \u001b[3m\u001b[90m<fct>\u001b[39m\u001b[23m NA, NA, NA, NA, NA, CLE 59, CLE 59, CLE 59, CL…\n",
            "$ assistTackler           \u001b[3m\u001b[90m<fct>\u001b[39m\u001b[23m NA, NA, NA, NA, NA, NA, NA, NA, NA, NA, NA, NA…\n",
            "$ tackler                 \u001b[3m\u001b[90m<fct>\u001b[39m\u001b[23m CLE 56, CLE 56, CLE 56, CLE 56, CLE 56, CLE 26…\n",
            "$ kickoffReturnFormation  \u001b[3m\u001b[90m<fct>\u001b[39m\u001b[23m 8-0-2, 8-0-2, 8-0-2, 8-0-2, 8-0-2, 8-0-2, 8-0-…\n",
            "$ gunners                 \u001b[3m\u001b[90m<fct>\u001b[39m\u001b[23m NA, NA, NA, NA, NA, NA, NA, NA, NA, NA, NA, NA…\n",
            "$ puntRushers             \u001b[3m\u001b[90m<fct>\u001b[39m\u001b[23m NA, NA, NA, NA, NA, NA, NA, NA, NA, NA, NA, NA…\n",
            "$ specialTeamsSafeties    \u001b[3m\u001b[90m<fct>\u001b[39m\u001b[23m CLE 26; CLE 38, CLE 26; CLE 38, CLE 26; CLE 38…\n",
            "$ vises                   \u001b[3m\u001b[90m<fct>\u001b[39m\u001b[23m NA, NA, NA, NA, NA, NA, NA, NA, NA, NA, NA, NA…\n",
            "$ kickContactType         \u001b[3m\u001b[90m<fct>\u001b[39m\u001b[23m NA, NA, NA, NA, NA, NA, NA, NA, NA, NA, NA, NA…\n",
            "$ yard_result             \u001b[3m\u001b[90m<dbl>\u001b[39m\u001b[23m 21, 21, 21, 21, 21, 31, 31, 31, 31, 31, 25, 25…\n",
            "$ YardResult_over25       \u001b[3m\u001b[90m<fct>\u001b[39m\u001b[23m 0, 0, 0, 0, 0, 1, 1, 1, 1, 1, 1, 1, 1, 1, 1, 0…\n",
            "$ kickedto_yardline       \u001b[3m\u001b[90m<dbl>\u001b[39m\u001b[23m 3, 3, 3, 3, 3, -2, -2, -2, -2, -2, -1, -1, -1,…\n",
            "$ Y_position              \u001b[3m\u001b[90m<fct>\u001b[39m\u001b[23m left, left, left, left, left, left, left, left…\n",
            "$ kickedto_5yardBin       \u001b[3m\u001b[90m<fct>\u001b[39m\u001b[23m 0-5, 0-5, 0-5, 0-5, 0-5, front-half endzone, f…\n",
            "$ timestamp               \u001b[3m\u001b[90m<dttm>\u001b[39m\u001b[23m 2018-12-23 18:59:29, 2018-12-23 18:59:29, 201…\n",
            "$ opp_team                \u001b[3m\u001b[90m<chr>\u001b[39m\u001b[23m \"home\", \"home\", \"home\", \"home\", \"home\", \"home\"…\n",
            "$ nflId.y                 \u001b[3m\u001b[90m<dbl>\u001b[39m\u001b[23m 43407, 42608, 46506, 45350, 46244, 46672, 4624…\n",
            "$ displayName.y           \u001b[3m\u001b[90m<fct>\u001b[39m\u001b[23m Juston Burris, Jermaine Whitehead, Dontrell Hi…\n",
            "$ x.y                     \u001b[3m\u001b[90m<dbl>\u001b[39m\u001b[23m 74.22, 74.10, 72.76, 72.39, 73.00, 79.63, 78.9…\n",
            "$ y.y                     \u001b[3m\u001b[90m<dbl>\u001b[39m\u001b[23m 10.53, 22.08, 18.74, 14.02, 26.45, 11.77, 29.6…\n",
            "$ s.y                     \u001b[3m\u001b[90m<dbl>\u001b[39m\u001b[23m 9.44, 9.33, 8.92, 8.86, 8.95, 9.86, 8.39, 8.92…\n",
            "$ a.y                     \u001b[3m\u001b[90m<dbl>\u001b[39m\u001b[23m 1.44, 1.59, 1.51, 1.86, 2.09, 1.25, 3.06, 1.51…\n",
            "$ dis.y                   \u001b[3m\u001b[90m<dbl>\u001b[39m\u001b[23m 0.96, 0.94, 0.90, 0.89, 0.90, 0.99, 0.85, 0.90…\n",
            "$ distance                \u001b[3m\u001b[90m<dbl>\u001b[39m\u001b[23m 33.24150, 34.25096, 34.91567, 34.92147, 36.602…\n",
            "$ KoTeamAvgX              \u001b[3m\u001b[90m<dbl>\u001b[39m\u001b[23m 107.31, 107.31, 107.31, 107.31, 107.31, 111.21…\n",
            "$ KoTeamAvgDist           \u001b[3m\u001b[90m<dbl>\u001b[39m\u001b[23m 34.78641, 34.78641, 34.78641, 34.78641, 34.786…\n",
            "$ KoTeamAvgSpeed          \u001b[3m\u001b[90m<dbl>\u001b[39m\u001b[23m 9.100, 9.100, 9.100, 9.100, 9.100, 8.838, 8.83…\n",
            "$ KoTeamAvgA              \u001b[3m\u001b[90m<dbl>\u001b[39m\u001b[23m 1.698, 1.698, 1.698, 1.698, 1.698, 1.700, 1.70…\n"
          ]
        }
      ]
    },
    {
      "cell_type": "code",
      "source": [
        "# Bringing it all back together\n",
        "clean <- received10 %>% \n",
        "  select(time, x.x, y.x, event, displayName.x, nflId.x, returnerId, position, gameId, \n",
        "         playId, frameId, playDescription, kickReturnYardage, yard_result,\n",
        "         YardResult_over25,kickedto_yardline, kickedto_5yardBin, Y_position, KoTeamAvgX,\n",
        "         KoTeamAvgDist,KoTeamAvgSpeed, KoTeamAvgA, specialTeamsPlayType, \n",
        "         specialTeamsResult, kickType, hangTime, kickDirectionIntended,  \n",
        "         kickDirectionActual, returnDirectionIntended, returnDirectionActual, \n",
        "         kickoffReturnFormation) \n",
        "\n",
        "clean2 <- unique(clean)"
      ],
      "metadata": {
        "id": "FCTLpSEGf7bq"
      },
      "execution_count": 44,
      "outputs": []
    },
    {
      "cell_type": "code",
      "source": [
        "# Visualizing the data\n",
        "\n",
        "ggplot(data = clean2, aes(x = kickedto_yardline, y = kickReturnYardage)) + \n",
        "  geom_point(alpha = .2) + \n",
        "  labs( x = 'Yard Line Kicked To', y = 'Kick Return Yardage')\n",
        "\n",
        "ggplot(data = clean, aes(x = KoTeamAvgDist, y = kickReturnYardage)) + \n",
        "  geom_point(alpha = .10) + \n",
        "  labs( x = 'Avg Distance of Defenders', y = 'Kick Return Yardage')\n",
        "  \n",
        "ggplot(data = clean2, aes(x = KoTeamAvgSpeed, y = kickReturnYardage)) + \n",
        "  geom_point(alpha = .20) +\n",
        "  labs( x = 'Avg Speed of Defenders', y = 'Kick Return Yardage')\n",
        "  \n",
        "ggplot(data = clean2, aes(x = KoTeamAvgA, y = kickReturnYardage)) + \n",
        "  geom_point(alpha = .20) +\n",
        "  labs( x = 'Avg Speed^2 of Defenders', y = 'Kick Return Yardage')"
      ],
      "metadata": {
        "colab": {
          "base_uri": "https://localhost:8080/",
          "height": 1000
        },
        "id": "MTBgS_5EgCE-",
        "outputId": "02186c60-bdcb-469d-f07d-437513a3a5bc"
      },
      "execution_count": 49,
      "outputs": [
        {
          "output_type": "display_data",
          "data": {
            "text/plain": [
              "plot without title"
            ],
            "image/png": "[encoded data removed]"
          },
          "metadata": {
            "image/png": {
              "width": 420,
              "height": 420
            }
          }
        },
        {
          "output_type": "display_data",
          "data": {
            "text/plain": [
              "plot without title"
            ],
            "image/png": "[encoded data removed]"
          },
          "metadata": {
            "image/png": {
              "width": 420,
              "height": 420
            }
          }
        },
        {
          "output_type": "display_data",
          "data": {
            "text/plain": [
              "plot without title"
            ],
            "image/png": "[encoded data removed]"
          },
          "metadata": {
            "image/png": {
              "width": 420,
              "height": 420
            }
          }
        },
        {
          "output_type": "display_data",
          "data": {
            "text/plain": [
              "plot without title"
            ],
            "image/png": "[encoded data removed]"
          },
          "metadata": {
            "image/png": {
              "width": 420,
              "height": 420
            }
          }
        }
      ]
    },
    {
      "cell_type": "markdown",
      "source": [
        "Next, I am creating a plot to show the frequency of where the ball was kicked to."
      ],
      "metadata": {
        "id": "INQZQX0bhUlX"
      }
    },
    {
      "cell_type": "code",
      "source": [
        "ggplot(kickoffs, aes(x = kickedto_5yardBin)) +\n",
        "  geom_histogram(stat = \"count\") + \n",
        "  coord_flip() + \n",
        "  xlab('5-Yard Bin Kicked To') +\n",
        "  ylab('frequency') + \n",
        "  theme(axis.text=element_text(size=12),\n",
        "        axis.title = element_text(size=12))"
      ],
      "metadata": {
        "colab": {
          "base_uri": "https://localhost:8080/",
          "height": 472
        },
        "id": "PYU8xaPLhnLT",
        "outputId": "144f3911-3f84-4bcb-d658-3cb37930f44b"
      },
      "execution_count": 53,
      "outputs": [
        {
          "output_type": "stream",
          "name": "stderr",
          "text": [
            "Warning message:\n",
            "“Ignoring unknown parameters: binwidth, bins, pad”\n"
          ]
        },
        {
          "output_type": "display_data",
          "data": {
            "text/plain": [
              "plot without title"
            ],
            "image/png": "[encoded data removed]"
          },
          "metadata": {
            "image/png": {
              "width": 420,
              "height": 420
            }
          }
        }
      ]
    },
    {
      "cell_type": "code",
      "source": [
        "ggplot(returns, aes(x = kickedto_5yardBin)) +\n",
        "  geom_histogram(stat = \"count\") + \n",
        "  coord_flip() + \n",
        "  xlab('5-Yard Bin Kicked To') +\n",
        "  ylab('frequency') + \n",
        "  theme(axis.text=element_text(size=12),\n",
        "        axis.title = element_text(size=12))"
      ],
      "metadata": {
        "colab": {
          "base_uri": "https://localhost:8080/",
          "height": 472
        },
        "id": "hdn5Hz42ivI6",
        "outputId": "50606e85-1d17-4f62-cd42-5f3ef1461f15"
      },
      "execution_count": 54,
      "outputs": [
        {
          "output_type": "stream",
          "name": "stderr",
          "text": [
            "Warning message:\n",
            "“Ignoring unknown parameters: binwidth, bins, pad”\n"
          ]
        },
        {
          "output_type": "display_data",
          "data": {
            "text/plain": [
              "plot without title"
            ],
            "image/png": "[encoded data removed]"
          },
          "metadata": {
            "image/png": {
              "width": 420,
              "height": 420
            }
          }
        }
      ]
    },
    {
      "cell_type": "code",
      "source": [
        "summary(kickoffs$kickedto_yardline)\n",
        "# On average, every kickoff landed roughly 1 yard past the endzone (-1.577)"
      ],
      "metadata": {
        "colab": {
          "base_uri": "https://localhost:8080/",
          "height": 52
        },
        "id": "zJc90m32jDg9",
        "outputId": "028cf7e7-2c23-40e4-c9a4-341cb48409d5"
      },
      "execution_count": 55,
      "outputs": [
        {
          "output_type": "display_data",
          "data": {
            "text/plain": [
              "   Min. 1st Qu.  Median    Mean 3rd Qu.    Max. \n",
              "-10.000  -7.000  -2.000  -1.577   2.000  40.000 "
            ]
          },
          "metadata": {}
        }
      ]
    },
    {
      "cell_type": "code",
      "source": [
        "summary(returns$yard_result)\n",
        "# The average kickoff return is 25.4 yards. Barely above the touchback placement (25yd)"
      ],
      "metadata": {
        "colab": {
          "base_uri": "https://localhost:8080/",
          "height": 52
        },
        "id": "fwaisePnjKFo",
        "outputId": "4df4839d-0fcd-44d5-a040-49369d68c2ff"
      },
      "execution_count": 56,
      "outputs": [
        {
          "output_type": "display_data",
          "data": {
            "text/plain": [
              "   Min. 1st Qu.  Median    Mean 3rd Qu.    Max. \n",
              "    5.0    20.0    24.0    25.4    29.0   100.0 "
            ]
          },
          "metadata": {}
        }
      ]
    },
    {
      "cell_type": "code",
      "source": [
        "g <- ggplot(returns, aes(x = kickedto_5yardBin, y = yard_result, size = kickedto_5yardBin)) + \n",
        "     labs(x = '5-Yard Bin Kicked To', y = 'Yard Result')\n",
        "\n",
        "#Since Boxplots are boring, I made a violin plot instead\n",
        "g + geom_violin(aes(fill = kickedto_5yardBin), size = 1, alpha = .5) +\n",
        "  scale_fill_brewer(palette = \"viridisLite\", guide = \"none\") +\n",
        "  coord_flip()"
      ],
      "metadata": {
        "colab": {
          "base_uri": "https://localhost:8080/",
          "height": 472
        },
        "id": "awqPwpF0j8Ju",
        "outputId": "35b67f5a-deb9-4802-938a-3b52d9761ba9"
      },
      "execution_count": 59,
      "outputs": [
        {
          "output_type": "stream",
          "name": "stderr",
          "text": [
            "Warning message in pal_name(palette, type):\n",
            "“Unknown palette viridisLite”\n"
          ]
        },
        {
          "output_type": "display_data",
          "data": {
            "text/plain": [
              "plot without title"
            ],
            "image/png": "[encoded data removed]"
          },
          "metadata": {
            "image/png": {
              "width": 420,
              "height": 420
            }
          }
        }
      ]
    },
    {
      "cell_type": "code",
      "source": [
        "# Creating a split with 75% of the data in the training set\n",
        "df_split <- initial_split(clean2, prop = .75)\n",
        "df_train <- training(df_split)\n",
        "df_test <- testing(df_split)\n",
        "\n",
        "mod1 <- lm(kickReturn ~ kickedto_yardline + KoTeamAvgDist + KoTeamAvgX + y.x,\n",
        "data  = clean2)\n",
        "\n",
        "# Generating in-sample (training) predictions\n",
        "preds_test <- predict(mod1, newdata = df_test)\n",
        "\n",
        "# Generating out-of-sample (testing) predictions\n",
        "preds_train <- predict(mod1, newdata = df_train)\n",
        "\n",
        "# Mean Squared Error\n",
        "get_rmse <- function(true, predictions){\n",
        "  sqrt(mean((true - predictions)^2))\n",
        "}\n",
        "\n",
        "\n",
        "get_rmse(df_train$yard_result, preds_train)\n",
        "get_rmse(df_test$yard_result, preds_test)\n",
        "\n",
        "# Test Error > Training Error means model is overfit \n",
        "# Test Error < Training Error means model is underfit\n",
        "# We want test error to ~ training "
      ],
      "metadata": {
        "colab": {
          "base_uri": "https://localhost:8080/",
          "height": 52
        },
        "id": "PHOP0mcshG22",
        "outputId": "9cd1a6a3-cf17-4e8e-9985-f527c958b2b6"
      },
      "execution_count": 75,
      "outputs": [
        {
          "output_type": "display_data",
          "data": {
            "text/html": [
              "10.9389378679356"
            ],
            "text/markdown": "10.9389378679356",
            "text/latex": "10.9389378679356",
            "text/plain": [
              "[1] 10.93894"
            ]
          },
          "metadata": {}
        },
        {
          "output_type": "display_data",
          "data": {
            "text/html": [
              "9.65314857754598"
            ],
            "text/markdown": "9.65314857754598",
            "text/latex": "9.65314857754598",
            "text/plain": [
              "[1] 9.653149"
            ]
          },
          "metadata": {}
        }
      ]
    },
    {
      "cell_type": "code",
      "source": [
        "summary(preds_train)"
      ],
      "metadata": {
        "colab": {
          "base_uri": "https://localhost:8080/",
          "height": 52
        },
        "id": "4_1qwqOOkvpi",
        "outputId": "ecdff4d9-37fd-4b78-ea9f-031774b69768"
      },
      "execution_count": 61,
      "outputs": [
        {
          "output_type": "display_data",
          "data": {
            "text/plain": [
              "   Min. 1st Qu.  Median    Mean 3rd Qu.    Max. \n",
              "  4.204  21.495  24.002  23.526  26.252  33.261 "
            ]
          },
          "metadata": {}
        }
      ]
    },
    {
      "cell_type": "code",
      "source": [
        "mod2 <- lm(kickReturnYardage ~ kickedto_yardline + KoTeamAvgDist + KoTeamAvgA + Y_position + kickType + specialTeamsResult,\n",
        "           data = clean2)\n",
        "\n",
        "\n",
        "summary(mod2)\n",
        "tab_model(mod2)\n",
        "\n",
        "summary(clean2$KoTeamAvgSpeed)"
      ],
      "metadata": {
        "colab": {
          "base_uri": "https://localhost:8080/",
          "height": 564
        },
        "id": "E4lDalcBg00o",
        "outputId": "e6b57abe-9e6e-4329-a733-b454ebf16dc9"
      },
      "execution_count": 76,
      "outputs": [
        {
          "output_type": "display_data",
          "data": {
            "text/plain": [
              "\n",
              "Call:\n",
              "lm(formula = kickReturnYardage ~ kickedto_yardline + KoTeamAvgDist + \n",
              "    KoTeamAvgA + Y_position + kickType + specialTeamsResult, \n",
              "    data = clean2)\n",
              "\n",
              "Residuals:\n",
              "    Min      1Q  Median      3Q     Max \n",
              "-14.529  -5.176  -1.847   2.765  73.994 \n",
              "\n",
              "Coefficients:\n",
              "                          Estimate Std. Error t value Pr(>|t|)   \n",
              "(Intercept)              -1.380991   8.704727  -0.159  0.87404   \n",
              "kickedto_yardline        -0.095637   0.171557  -0.557  0.57758   \n",
              "KoTeamAvgDist             0.545691   0.177792   3.069  0.00232 **\n",
              "KoTeamAvgA                0.003368   1.222566   0.003  0.99780   \n",
              "Y_positionleft           -3.258977   1.487586  -2.191  0.02916 * \n",
              "Y_positionright          -2.818115   1.497150  -1.882  0.06066 . \n",
              "kickTypeF                -2.218807   3.408138  -0.651  0.51547   \n",
              "kickTypeP                -0.796027   2.493031  -0.319  0.74970   \n",
              "specialTeamsResultReturn  9.437118   4.661349   2.025  0.04371 * \n",
              "---\n",
              "Signif. codes:  0 ‘***’ 0.001 ‘**’ 0.01 ‘*’ 0.05 ‘.’ 0.1 ‘ ’ 1\n",
              "\n",
              "Residual standard error: 9.825 on 334 degrees of freedom\n",
              "Multiple R-squared:  0.1579,\tAdjusted R-squared:  0.1377 \n",
              "F-statistic: 7.826 on 8 and 334 DF,  p-value: 0.000000001208\n"
            ]
          },
          "metadata": {}
        },
        {
          "output_type": "error",
          "ename": "ERROR",
          "evalue": "ignored",
          "traceback": [
            "Error in tab_model(mod2): could not find function \"tab_model\"\nTraceback:\n"
          ]
        }
      ]
    },
    {
      "cell_type": "code",
      "source": [
        "logit1 <- glm(YardResult_over25 ~ kickedto_yardline + hangTime + returnDirectionActual,  \n",
        "           family = binomial,\n",
        "           data = receivedJoin)\n",
        "\n",
        "summary(logit1)"
      ],
      "metadata": {
        "colab": {
          "base_uri": "https://localhost:8080/",
          "height": 486
        },
        "id": "UvnMtNvllDvY",
        "outputId": "701eb4b3-23c6-4987-d153-37d7bb6171fc"
      },
      "execution_count": 73,
      "outputs": [
        {
          "output_type": "display_data",
          "data": {
            "text/plain": [
              "\n",
              "Call:\n",
              "glm(formula = YardResult_over25 ~ kickedto_yardline + hangTime + \n",
              "    returnDirectionActual, family = binomial, data = receivedJoin)\n",
              "\n",
              "Deviance Residuals: \n",
              "    Min       1Q   Median       3Q      Max  \n",
              "-1.7766  -1.0697  -0.8182   1.1759   1.6308  \n",
              "\n",
              "Coefficients:\n",
              "                        Estimate Std. Error z value             Pr(>|z|)    \n",
              "(Intercept)             1.817532   0.597985   3.039              0.00237 ** \n",
              "kickedto_yardline       0.120831   0.008504  14.208 < 0.0000000000000002 ***\n",
              "hangTime               -0.594111   0.150706  -3.942            0.0000807 ***\n",
              "returnDirectionActualL  0.089261   0.084199   1.060              0.28909    \n",
              "returnDirectionActualR  0.353141   0.084669   4.171            0.0000303 ***\n",
              "---\n",
              "Signif. codes:  0 ‘***’ 0.001 ‘**’ 0.01 ‘*’ 0.05 ‘.’ 0.1 ‘ ’ 1\n",
              "\n",
              "(Dispersion parameter for binomial family taken to be 1)\n",
              "\n",
              "    Null deviance: 5049.5  on 3651  degrees of freedom\n",
              "Residual deviance: 4771.7  on 3647  degrees of freedom\n",
              "  (121 observations deleted due to missingness)\n",
              "AIC: 4781.7\n",
              "\n",
              "Number of Fisher Scoring iterations: 4\n"
            ]
          },
          "metadata": {}
        }
      ]
    },
    {
      "cell_type": "code",
      "source": [
        "enet_mod <- cva.glmnet(kickReturnYardage ~ kickedto_yardline + x.x  + y.x + KoTeamAvgDist,\n",
        "     data = df_train,\n",
        "     alpha = seq(0,1, by = 0.05))\n",
        "\n",
        "plot(enet_mod)"
      ],
      "metadata": {
        "colab": {
          "base_uri": "https://localhost:8080/",
          "height": 437
        },
        "id": "qW2qOkNQpxbn",
        "outputId": "aceed3a9-95f1-4a66-ba96-c0ef98a195d7"
      },
      "execution_count": 91,
      "outputs": [
        {
          "output_type": "display_data",
          "data": {
            "text/plain": [
              "plot without title"
            ],
            "image/png": "[encoded data removed]"
          },
          "metadata": {
            "image/png": {
              "width": 420,
              "height": 420
            }
          }
        }
      ]
    },
    {
      "cell_type": "code",
      "source": [
        "# now enet_mod holds a list with all of the sub models, \n",
        "# each with alpha = whatever sequence the model was estimated with\n",
        "\n",
        "minlossplot(enet_mod, \n",
        "            cv.type = \"min\")\n",
        "\n",
        "\n",
        "str(enet_mod$modlist)"
      ],
      "metadata": {
        "colab": {
          "base_uri": "https://localhost:8080/",
          "height": 1000
        },
        "id": "dnAoJNx7rCFH",
        "outputId": "f49f5301-4c4a-44a7-9c7d-1d145e3ac171"
      },
      "execution_count": 92,
      "outputs": [
        {
          "output_type": "stream",
          "name": "stdout",
          "text": [
            "List of 21\n",
            " $ :List of 12\n",
            "  ..$ lambda    : num [1:100] 4237 3861 3518 3206 2921 ...\n",
            "  ..$ cvm       : num [1:100] 120 120 120 120 120 ...\n",
            "  ..$ cvsd      : num [1:100] 39.1 39.1 39.1 39 39 ...\n",
            "  ..$ cvup      : num [1:100] 159 159 159 159 159 ...\n",
            "  ..$ cvlo      : num [1:100] 80.7 80.7 80.6 80.6 80.6 ...\n",
            "  ..$ nzero     : Named int [1:100] 4 4 4 4 4 4 4 4 4 4 ...\n",
            "  .. ..- attr(*, \"names\")= chr [1:100] \"s0\" \"s1\" \"s2\" \"s3\" ...\n",
            "  ..$ call      : language glmnet::cv.glmnet(x = x, y = y, weights = ..1, offset = ..2, nfolds = nfolds,      foldid = foldid, alpha = a)\n",
            "  ..$ name      : Named chr \"Mean-Squared Error\"\n",
            "  .. ..- attr(*, \"names\")= chr \"mse\"\n",
            "  ..$ glmnet.fit:List of 12\n",
            "  .. ..$ a0       : Named num [1:100] 23.7 23.6 23.6 23.6 23.6 ...\n",
            "  .. .. ..- attr(*, \"names\")= chr [1:100] \"s0\" \"s1\" \"s2\" \"s3\" ...\n",
            "  .. ..$ beta     :Formal class 'dgCMatrix' [package \"Matrix\"] with 6 slots\n",
            "  .. .. .. ..@ i       : int [1:400] 0 1 2 3 0 1 2 3 0 1 ...\n",
            "  .. .. .. ..@ p       : int [1:101] 0 4 8 12 16 20 24 28 32 36 ...\n",
            "  .. .. .. ..@ Dim     : int [1:2] 4 100\n",
            "  .. .. .. ..@ Dimnames:List of 2\n",
            "  .. .. .. .. ..$ : chr [1:4] \"kickedto_yardline\" \"x.x\" \"y.x\" \"KoTeamAvgDist\"\n",
            "  .. .. .. .. ..$ : chr [1:100] \"s0\" \"s1\" \"s2\" \"s3\" ...\n",
            "  .. .. .. ..@ x       : num [1:400] -0.0000000000000000000000000000000000007011 0.0000000000000000000000000000000000000065 0.000000000000000000000000| __truncated__ ...\n",
            "  .. .. .. ..@ factors : list()\n",
            "  .. ..$ df       : int [1:100] 4 4 4 4 4 4 4 4 4 4 ...\n",
            "  .. ..$ dim      : int [1:2] 4 100\n",
            "  .. ..$ lambda   : num [1:100] 4237 3861 3518 3206 2921 ...\n",
            "  .. ..$ dev.ratio: num [1:100] 0.000000000000000000000000000000000000483 0.001338266418523286621633516801921359729 0.001467721162028542882665993| __truncated__ ...\n",
            "  .. ..$ nulldev  : num 30458\n",
            "  .. ..$ npasses  : int 389\n",
            "  .. ..$ jerr     : int 0\n",
            "  .. ..$ offset   : logi FALSE\n",
            "  .. ..$ call     : language glmnet(x = x, y = y, weights = ..1, offset = ..2, alpha = a)\n",
            "  .. ..$ nobs     : int 257\n",
            "  .. ..- attr(*, \"class\")= chr [1:2] \"elnet\" \"glmnet\"\n",
            "  ..$ lambda.min: num 0.741\n",
            "  ..$ lambda.1se: num 4237\n",
            "  ..$ index     : int [1:2, 1] 94 1\n",
            "  .. ..- attr(*, \"dimnames\")=List of 2\n",
            "  .. .. ..$ : chr [1:2] \"min\" \"1se\"\n",
            "  .. .. ..$ : chr \"Lambda\"\n",
            "  ..- attr(*, \"class\")= chr \"cv.glmnet\"\n",
            " $ :List of 12\n",
            "  ..$ lambda    : num [1:81] 84.7 77.2 70.4 64.1 58.4 ...\n",
            "  ..$ cvm       : num [1:81] 120 120 119 119 118 ...\n",
            "  ..$ cvsd      : num [1:81] 39.1 39.1 39.1 39 38.9 ...\n",
            "  ..$ cvup      : num [1:81] 159 159 158 158 157 ...\n",
            "  ..$ cvlo      : num [1:81] 80.7 80.4 80.1 79.8 79.4 ...\n",
            "  ..$ nzero     : Named int [1:81] 0 1 1 1 2 2 2 2 2 2 ...\n",
            "  .. ..- attr(*, \"names\")= chr [1:81] \"s0\" \"s1\" \"s2\" \"s3\" ...\n",
            "  ..$ call      : language glmnet::cv.glmnet(x = x, y = y, weights = ..1, offset = ..2, nfolds = nfolds,      foldid = foldid, alpha = a)\n",
            "  ..$ name      : Named chr \"Mean-Squared Error\"\n",
            "  .. ..- attr(*, \"names\")= chr \"mse\"\n",
            "  ..$ glmnet.fit:List of 12\n",
            "  .. ..$ a0       : Named num [1:81] 23.7 23.4 23 22.7 22.4 ...\n",
            "  .. .. ..- attr(*, \"names\")= chr [1:81] \"s0\" \"s1\" \"s2\" \"s3\" ...\n",
            "  .. ..$ beta     :Formal class 'dgCMatrix' [package \"Matrix\"] with 6 slots\n",
            "  .. .. .. ..@ i       : int [1:259] 3 3 3 0 3 0 3 0 3 0 ...\n",
            "  .. .. .. ..@ p       : int [1:82] 0 0 1 2 3 5 7 9 11 13 ...\n",
            "  .. .. .. ..@ Dim     : int [1:2] 4 81\n",
            "  .. .. .. ..@ Dimnames:List of 2\n",
            "  .. .. .. .. ..$ : chr [1:4] \"kickedto_yardline\" \"x.x\" \"y.x\" \"KoTeamAvgDist\"\n",
            "  .. .. .. .. ..$ : chr [1:81] \"s0\" \"s1\" \"s2\" \"s3\" ...\n",
            "  .. .. .. ..@ x       : num [1:259] 0.00891 0.01845 0.02866 -0.00426 0.03912 ...\n",
            "  .. .. .. ..@ factors : list()\n",
            "  .. ..$ df       : int [1:81] 0 1 1 1 2 2 2 2 2 2 ...\n",
            "  .. ..$ dim      : int [1:2] 4 81\n",
            "  .. ..$ lambda   : num [1:81] 84.7 77.2 70.4 64.1 58.4 ...\n",
            "  .. ..$ dev.ratio: num [1:81] 0 0.00346 0.00712 0.01098 0.01589 ...\n",
            "  .. ..$ nulldev  : num 30458\n",
            "  .. ..$ npasses  : int 316\n",
            "  .. ..$ jerr     : int 0\n",
            "  .. ..$ offset   : logi FALSE\n",
            "  .. ..$ call     : language glmnet(x = x, y = y, weights = ..1, offset = ..2, alpha = a)\n",
            "  .. ..$ nobs     : int 257\n",
            "  .. ..- attr(*, \"class\")= chr [1:2] \"elnet\" \"glmnet\"\n",
            "  ..$ lambda.min: num 0.558\n",
            "  ..$ lambda.1se: num 84.7\n",
            "  ..$ index     : int [1:2, 1] 55 1\n",
            "  .. ..- attr(*, \"dimnames\")=List of 2\n",
            "  .. .. ..$ : chr [1:2] \"min\" \"1se\"\n",
            "  .. .. ..$ : chr \"Lambda\"\n",
            "  ..- attr(*, \"class\")= chr \"cv.glmnet\"\n",
            " $ :List of 12\n",
            "  ..$ lambda    : num [1:74] 42.4 38.6 35.2 32.1 29.2 ...\n",
            "  ..$ cvm       : num [1:74] 120 119 119 118 117 ...\n",
            "  ..$ cvsd      : num [1:74] 39.1 39.1 39.1 38.9 38.8 ...\n",
            "  ..$ cvup      : num [1:74] 159 158 158 157 156 ...\n",
            "  ..$ cvlo      : num [1:74] 80.6 80.2 79.7 79.1 78.5 ...\n",
            "  ..$ nzero     : Named int [1:74] 0 1 1 1 1 2 2 2 2 2 ...\n",
            "  .. ..- attr(*, \"names\")= chr [1:74] \"s0\" \"s1\" \"s2\" \"s3\" ...\n",
            "  ..$ call      : language glmnet::cv.glmnet(x = x, y = y, weights = ..1, offset = ..2, nfolds = nfolds,      foldid = foldid, alpha = a)\n",
            "  ..$ name      : Named chr \"Mean-Squared Error\"\n",
            "  .. ..- attr(*, \"names\")= chr \"mse\"\n",
            "  ..$ glmnet.fit:List of 12\n",
            "  .. ..$ a0       : Named num [1:74] 23.7 23.1 22.5 21.9 21.3 ...\n",
            "  .. .. ..- attr(*, \"names\")= chr [1:74] \"s0\" \"s1\" \"s2\" \"s3\" ...\n",
            "  .. ..$ beta     :Formal class 'dgCMatrix' [package \"Matrix\"] with 6 slots\n",
            "  .. .. .. ..@ i       : int [1:231] 3 3 3 3 0 3 0 3 0 3 ...\n",
            "  .. .. .. ..@ p       : int [1:75] 0 0 1 2 3 4 6 8 10 12 ...\n",
            "  .. .. .. ..@ Dim     : int [1:2] 4 74\n",
            "  .. .. .. ..@ Dimnames:List of 2\n",
            "  .. .. .. .. ..$ : chr [1:4] \"kickedto_yardline\" \"x.x\" \"y.x\" \"KoTeamAvgDist\"\n",
            "  .. .. .. .. ..$ : chr [1:74] \"s0\" \"s1\" \"s2\" \"s3\" ...\n",
            "  .. .. .. ..@ x       : num [1:231] 0.0164 0.0337 0.0518 0.0706 -0.0125 ...\n",
            "  .. .. .. ..@ factors : list()\n",
            "  .. ..$ df       : int [1:74] 0 1 1 1 1 2 2 2 2 2 ...\n",
            "  .. ..$ dim      : int [1:2] 4 74\n",
            "  .. ..$ lambda   : num [1:74] 42.4 38.6 35.2 32.1 29.2 ...\n",
            "  .. ..$ dev.ratio: num [1:74] 0 0.00635 0.01288 0.01954 0.02632 ...\n",
            "  .. ..$ nulldev  : num 30458\n",
            "  .. ..$ npasses  : int 283\n",
            "  .. ..$ jerr     : int 0\n",
            "  .. ..$ offset   : logi FALSE\n",
            "  .. ..$ call     : language glmnet(x = x, y = y, weights = ..1, offset = ..2, alpha = a)\n",
            "  .. ..$ nobs     : int 257\n",
            "  .. ..- attr(*, \"class\")= chr [1:2] \"elnet\" \"glmnet\"\n",
            "  ..$ lambda.min: num 0.444\n",
            "  ..$ lambda.1se: num 42.4\n",
            "  ..$ index     : int [1:2, 1] 50 1\n",
            "  .. ..- attr(*, \"dimnames\")=List of 2\n",
            "  .. .. ..$ : chr [1:2] \"min\" \"1se\"\n",
            "  .. .. ..$ : chr \"Lambda\"\n",
            "  ..- attr(*, \"class\")= chr \"cv.glmnet\"\n",
            " $ :List of 12\n",
            "  ..$ lambda    : num [1:70] 28.2 25.7 23.5 21.4 19.5 ...\n",
            "  ..$ cvm       : num [1:70] 120 119 118 117 116 ...\n",
            "  ..$ cvsd      : num [1:70] 39.1 39.1 39.1 38.9 38.7 ...\n",
            "  ..$ cvup      : num [1:70] 159 158 157 156 155 ...\n",
            "  ..$ cvlo      : num [1:70] 80.6 80 79.3 78.5 77.8 ...\n",
            "  ..$ nzero     : Named int [1:70] 0 1 1 1 1 2 2 2 2 2 ...\n",
            "  .. ..- attr(*, \"names\")= chr [1:70] \"s0\" \"s1\" \"s2\" \"s3\" ...\n",
            "  ..$ call      : language glmnet::cv.glmnet(x = x, y = y, weights = ..1, offset = ..2, nfolds = nfolds,      foldid = foldid, alpha = a)\n",
            "  ..$ name      : Named chr \"Mean-Squared Error\"\n",
            "  .. ..- attr(*, \"names\")= chr \"mse\"\n",
            "  ..$ glmnet.fit:List of 12\n",
            "  .. ..$ a0       : Named num [1:70] 23.7 22.9 22.1 21.3 20.4 ...\n",
            "  .. .. ..- attr(*, \"names\")= chr [1:70] \"s0\" \"s1\" \"s2\" \"s3\" ...\n",
            "  .. ..$ beta     :Formal class 'dgCMatrix' [package \"Matrix\"] with 6 slots\n",
            "  .. .. .. ..@ i       : int [1:216] 3 3 3 3 0 3 0 3 0 3 ...\n",
            "  .. .. .. ..@ p       : int [1:71] 0 0 1 2 3 4 6 8 10 12 ...\n",
            "  .. .. .. ..@ Dim     : int [1:2] 4 70\n",
            "  .. .. .. ..@ Dimnames:List of 2\n",
            "  .. .. .. .. ..$ : chr [1:4] \"kickedto_yardline\" \"x.x\" \"y.x\" \"KoTeamAvgDist\"\n",
            "  .. .. .. .. ..$ : chr [1:70] \"s0\" \"s1\" \"s2\" \"s3\" ...\n",
            "  .. .. .. ..@ x       : num [1:216] 0.02291 0.04654 0.07082 0.09568 -0.00508 ...\n",
            "  .. .. .. ..@ factors : list()\n",
            "  .. ..$ df       : int [1:70] 0 1 1 1 1 2 2 2 2 2 ...\n",
            "  .. ..$ dim      : int [1:2] 4 70\n",
            "  .. ..$ lambda   : num [1:70] 28.2 25.7 23.5 21.4 19.5 ...\n",
            "  .. ..$ dev.ratio: num [1:70] 0 0.00881 0.01763 0.02639 0.03506 ...\n",
            "  .. ..$ nulldev  : num 30458\n",
            "  .. ..$ npasses  : int 259\n",
            "  .. ..$ jerr     : int 0\n",
            "  .. ..$ offset   : logi FALSE\n",
            "  .. ..$ call     : language glmnet(x = x, y = y, weights = ..1, offset = ..2, alpha = a)\n",
            "  .. ..$ nobs     : int 257\n",
            "  .. ..- attr(*, \"class\")= chr [1:2] \"elnet\" \"glmnet\"\n",
            "  ..$ lambda.min: num 1.73\n",
            "  ..$ lambda.1se: num 28.2\n",
            "  ..$ index     : int [1:2, 1] 31 1\n",
            "  .. ..- attr(*, \"dimnames\")=List of 2\n",
            "  .. .. ..$ : chr [1:2] \"min\" \"1se\"\n",
            "  .. .. ..$ : chr \"Lambda\"\n",
            "  ..- attr(*, \"class\")= chr \"cv.glmnet\"\n",
            " $ :List of 12\n",
            "  ..$ lambda    : num [1:68] 21.2 19.3 17.6 16 14.6 ...\n",
            "  ..$ cvm       : num [1:68] 120 119 118 117 116 ...\n",
            "  ..$ cvsd      : num [1:68] 39.1 39.1 39.1 38.8 38.6 ...\n",
            "  ..$ cvup      : num [1:68] 159 158 157 156 154 ...\n",
            "  ..$ cvlo      : num [1:68] 80.5 79.8 79 78.1 77.2 ...\n",
            "  ..$ nzero     : Named int [1:68] 0 1 1 1 1 1 2 2 2 2 ...\n",
            "  .. ..- attr(*, \"names\")= chr [1:68] \"s0\" \"s1\" \"s2\" \"s3\" ...\n",
            "  ..$ call      : language glmnet::cv.glmnet(x = x, y = y, weights = ..1, offset = ..2, nfolds = nfolds,      foldid = foldid, alpha = a)\n",
            "  ..$ name      : Named chr \"Mean-Squared Error\"\n",
            "  .. ..- attr(*, \"names\")= chr \"mse\"\n",
            "  ..$ glmnet.fit:List of 12\n",
            "  .. ..$ a0       : Named num [1:68] 23.7 22.7 21.7 20.7 19.7 ...\n",
            "  .. .. ..- attr(*, \"names\")= chr [1:68] \"s0\" \"s1\" \"s2\" \"s3\" ...\n",
            "  .. ..$ beta     :Formal class 'dgCMatrix' [package \"Matrix\"] with 6 slots\n",
            "  .. .. .. ..@ i       : int [1:207] 3 3 3 3 3 0 3 0 3 0 ...\n",
            "  .. .. .. ..@ p       : int [1:69] 0 0 1 2 3 4 5 7 9 11 ...\n",
            "  .. .. .. ..@ Dim     : int [1:2] 4 68\n",
            "  .. .. .. ..@ Dimnames:List of 2\n",
            "  .. .. .. .. ..$ : chr [1:4] \"kickedto_yardline\" \"x.x\" \"y.x\" \"KoTeamAvgDist\"\n",
            "  .. .. .. .. ..$ : chr [1:68] \"s0\" \"s1\" \"s2\" \"s3\" ...\n",
            "  .. .. .. ..@ x       : num [1:207] 0.0285 0.0575 0.0868 0.1163 0.146 ...\n",
            "  .. .. .. ..@ factors : list()\n",
            "  .. ..$ df       : int [1:68] 0 1 1 1 1 1 2 2 2 2 ...\n",
            "  .. ..$ dim      : int [1:2] 4 68\n",
            "  .. ..$ lambda   : num [1:68] 21.2 19.3 17.6 16 14.6 ...\n",
            "  .. ..$ dev.ratio: num [1:68] 0 0.0109 0.0216 0.032 0.042 ...\n",
            "  .. ..$ nulldev  : num 30458\n",
            "  .. ..$ npasses  : int 245\n",
            "  .. ..$ jerr     : int 0\n",
            "  .. ..$ offset   : logi FALSE\n",
            "  .. ..$ call     : language glmnet(x = x, y = y, weights = ..1, offset = ..2, alpha = a)\n",
            "  .. ..$ nobs     : int 257\n",
            "  .. ..- attr(*, \"class\")= chr [1:2] \"elnet\" \"glmnet\"\n",
            "  ..$ lambda.min: num 1.57\n",
            "  ..$ lambda.1se: num 21.2\n",
            "  ..$ index     : int [1:2, 1] 29 1\n",
            "  .. ..- attr(*, \"dimnames\")=List of 2\n",
            "  .. .. ..$ : chr [1:2] \"min\" \"1se\"\n",
            "  .. .. ..$ : chr \"Lambda\"\n",
            "  ..- attr(*, \"class\")= chr \"cv.glmnet\"\n",
            " $ :List of 12\n",
            "  ..$ lambda    : num [1:66] 16.9 15.4 14.1 12.8 11.7 ...\n",
            "  ..$ cvm       : num [1:66] 120 119 118 116 115 ...\n",
            "  ..$ cvsd      : num [1:66] 39.1 39.2 39.1 38.8 38.5 ...\n",
            "  ..$ cvup      : num [1:66] 159 158 157 155 154 ...\n",
            "  ..$ cvlo      : num [1:66] 80.5 79.7 78.7 77.7 76.7 ...\n",
            "  ..$ nzero     : Named int [1:66] 0 1 1 1 1 1 1 2 2 2 ...\n",
            "  .. ..- attr(*, \"names\")= chr [1:66] \"s0\" \"s1\" \"s2\" \"s3\" ...\n",
            "  ..$ call      : language glmnet::cv.glmnet(x = x, y = y, weights = ..1, offset = ..2, nfolds = nfolds,      foldid = foldid, alpha = a)\n",
            "  ..$ name      : Named chr \"Mean-Squared Error\"\n",
            "  .. ..- attr(*, \"names\")= chr \"mse\"\n",
            "  ..$ glmnet.fit:List of 12\n",
            "  .. ..$ a0       : Named num [1:66] 23.7 22.5 21.4 20.3 19.2 ...\n",
            "  .. .. ..- attr(*, \"names\")= chr [1:66] \"s0\" \"s1\" \"s2\" \"s3\" ...\n",
            "  .. ..$ beta     :Formal class 'dgCMatrix' [package \"Matrix\"] with 6 slots\n",
            "  .. .. .. ..@ i       : int [1:197] 3 3 3 3 3 3 0 3 0 3 ...\n",
            "  .. .. .. ..@ p       : int [1:67] 0 0 1 2 3 4 5 6 8 10 ...\n",
            "  .. .. .. ..@ Dim     : int [1:2] 4 66\n",
            "  .. .. .. ..@ Dimnames:List of 2\n",
            "  .. .. .. .. ..$ : chr [1:4] \"kickedto_yardline\" \"x.x\" \"y.x\" \"KoTeamAvgDist\"\n",
            "  .. .. .. .. ..$ : chr [1:66] \"s0\" \"s1\" \"s2\" \"s3\" ...\n",
            "  .. .. .. ..@ x       : num [1:197] 0.0334 0.0669 0.1004 0.1336 0.1665 ...\n",
            "  .. .. .. ..@ factors : list()\n",
            "  .. ..$ df       : int [1:66] 0 1 1 1 1 1 1 2 2 2 ...\n",
            "  .. ..$ dim      : int [1:2] 4 66\n",
            "  .. ..$ lambda   : num [1:66] 16.9 15.4 14.1 12.8 11.7 ...\n",
            "  .. ..$ dev.ratio: num [1:66] 0 0.0128 0.025 0.0367 0.0477 ...\n",
            "  .. ..$ nulldev  : num 30458\n",
            "  .. ..$ npasses  : int 232\n",
            "  .. ..$ jerr     : int 0\n",
            "  .. ..$ offset   : logi FALSE\n",
            "  .. ..$ call     : language glmnet(x = x, y = y, weights = ..1, offset = ..2, alpha = a)\n",
            "  .. ..$ nobs     : int 257\n",
            "  .. ..- attr(*, \"class\")= chr [1:2] \"elnet\" \"glmnet\"\n",
            "  ..$ lambda.min: num 1.37\n",
            "  ..$ lambda.1se: num 16.9\n",
            "  ..$ index     : int [1:2, 1] 28 1\n",
            "  .. ..- attr(*, \"dimnames\")=List of 2\n",
            "  .. .. ..$ : chr [1:2] \"min\" \"1se\"\n",
            "  .. .. ..$ : chr \"Lambda\"\n",
            "  ..- attr(*, \"class\")= chr \"cv.glmnet\"\n",
            " $ :List of 12\n",
            "  ..$ lambda    : num [1:65] 14.12 12.87 11.73 10.69 9.74 ...\n",
            "  ..$ cvm       : num [1:65] 120 119 118 116 115 ...\n",
            "  ..$ cvsd      : num [1:65] 39.1 39.2 39.1 38.8 38.4 ...\n",
            "  ..$ cvup      : num [1:65] 159 158 157 155 153 ...\n",
            "  ..$ cvlo      : num [1:65] 80.4 79.5 78.5 77.3 76.3 ...\n",
            "  ..$ nzero     : Named int [1:65] 0 1 1 1 1 1 1 1 2 2 ...\n",
            "  .. ..- attr(*, \"names\")= chr [1:65] \"s0\" \"s1\" \"s2\" \"s3\" ...\n",
            "  ..$ call      : language glmnet::cv.glmnet(x = x, y = y, weights = ..1, offset = ..2, nfolds = nfolds,      foldid = foldid, alpha = a)\n",
            "  ..$ name      : Named chr \"Mean-Squared Error\"\n",
            "  .. ..- attr(*, \"names\")= chr \"mse\"\n",
            "  ..$ glmnet.fit:List of 12\n",
            "  .. ..$ a0       : Named num [1:65] 23.7 22.4 21.1 19.9 18.7 ...\n",
            "  .. .. ..- attr(*, \"names\")= chr [1:65] \"s0\" \"s1\" \"s2\" \"s3\" ...\n",
            "  .. ..$ beta     :Formal class 'dgCMatrix' [package \"Matrix\"] with 6 slots\n",
            "  .. .. .. ..@ i       : int [1:193] 3 3 3 3 3 3 3 0 3 0 ...\n",
            "  .. .. .. ..@ p       : int [1:66] 0 0 1 2 3 4 5 6 7 9 ...\n",
            "  .. .. .. ..@ Dim     : int [1:2] 4 65\n",
            "  .. .. .. ..@ Dimnames:List of 2\n",
            "  .. .. .. .. ..$ : chr [1:4] \"kickedto_yardline\" \"x.x\" \"y.x\" \"KoTeamAvgDist\"\n",
            "  .. .. .. .. ..$ : chr [1:65] \"s0\" \"s1\" \"s2\" \"s3\" ...\n",
            "  .. .. .. ..@ x       : num [1:193] 0.0377 0.0751 0.112 0.1483 0.1838 ...\n",
            "  .. .. .. ..@ factors : list()\n",
            "  .. ..$ df       : int [1:65] 0 1 1 1 1 1 1 1 2 2 ...\n",
            "  .. ..$ dim      : int [1:2] 4 65\n",
            "  .. ..$ lambda   : num [1:65] 14.12 12.87 11.73 10.69 9.74 ...\n",
            "  .. ..$ dev.ratio: num [1:65] 0 0.0144 0.0279 0.0406 0.0524 ...\n",
            "  .. ..$ nulldev  : num 30458\n",
            "  .. ..$ npasses  : int 223\n",
            "  .. ..$ jerr     : int 0\n",
            "  .. ..$ offset   : logi FALSE\n",
            "  .. ..$ call     : language glmnet(x = x, y = y, weights = ..1, offset = ..2, alpha = a)\n",
            "  .. ..$ nobs     : int 257\n",
            "  .. ..- attr(*, \"class\")= chr [1:2] \"elnet\" \"glmnet\"\n",
            "  ..$ lambda.min: num 1.66\n",
            "  ..$ lambda.1se: num 14.1\n",
            "  ..$ index     : int [1:2, 1] 24 1\n",
            "  .. ..- attr(*, \"dimnames\")=List of 2\n",
            "  .. .. ..$ : chr [1:2] \"min\" \"1se\"\n",
            "  .. .. ..$ : chr \"Lambda\"\n",
            "  ..- attr(*, \"class\")= chr \"cv.glmnet\"\n",
            " $ :List of 12\n",
            "  ..$ lambda    : num [1:64] 12.11 11.03 10.05 9.16 8.34 ...\n",
            "  ..$ cvm       : num [1:64] 120 119 117 116 114 ...\n",
            "  ..$ cvsd      : num [1:64] 39.1 39.2 39.1 38.7 38.4 ...\n",
            "  ..$ cvup      : num [1:64] 159 158 156 155 153 ...\n",
            "  ..$ cvlo      : num [1:64] 80.4 79.4 78.3 77.1 76 ...\n",
            "  ..$ nzero     : Named int [1:64] 0 1 1 1 1 1 1 1 1 2 ...\n",
            "  .. ..- attr(*, \"names\")= chr [1:64] \"s0\" \"s1\" \"s2\" \"s3\" ...\n",
            "  ..$ call      : language glmnet::cv.glmnet(x = x, y = y, weights = ..1, offset = ..2, nfolds = nfolds,      foldid = foldid, alpha = a)\n",
            "  ..$ name      : Named chr \"Mean-Squared Error\"\n",
            "  .. ..- attr(*, \"names\")= chr \"mse\"\n",
            "  ..$ glmnet.fit:List of 12\n",
            "  .. ..$ a0       : Named num [1:64] 23.7 22.3 20.9 19.5 18.2 ...\n",
            "  .. .. ..- attr(*, \"names\")= chr [1:64] \"s0\" \"s1\" \"s2\" \"s3\" ...\n",
            "  .. ..$ beta     :Formal class 'dgCMatrix' [package \"Matrix\"] with 6 slots\n",
            "  .. .. .. ..@ i       : int [1:188] 3 3 3 3 3 3 3 3 0 3 ...\n",
            "  .. .. .. ..@ p       : int [1:65] 0 0 1 2 3 4 5 6 7 8 ...\n",
            "  .. .. .. ..@ Dim     : int [1:2] 4 64\n",
            "  .. .. .. ..@ Dimnames:List of 2\n",
            "  .. .. .. .. ..$ : chr [1:4] \"kickedto_yardline\" \"x.x\" \"y.x\" \"KoTeamAvgDist\"\n",
            "  .. .. .. .. ..$ : chr [1:64] \"s0\" \"s1\" \"s2\" \"s3\" ...\n",
            "  .. .. .. ..@ x       : num [1:188] 0.0416 0.0823 0.1222 0.161 0.1985 ...\n",
            "  .. .. .. ..@ factors : list()\n",
            "  .. ..$ df       : int [1:64] 0 1 1 1 1 1 1 1 1 2 ...\n",
            "  .. ..$ dim      : int [1:2] 4 64\n",
            "  .. ..$ lambda   : num [1:64] 12.11 11.03 10.05 9.16 8.34 ...\n",
            "  .. ..$ dev.ratio: num [1:64] 0 0.0158 0.0304 0.044 0.0563 ...\n",
            "  .. ..$ nulldev  : num 30458\n",
            "  .. ..$ npasses  : int 211\n",
            "  .. ..$ jerr     : int 0\n",
            "  .. ..$ offset   : logi FALSE\n",
            "  .. ..$ call     : language glmnet(x = x, y = y, weights = ..1, offset = ..2, alpha = a)\n",
            "  .. ..$ nobs     : int 257\n",
            "  .. ..- attr(*, \"class\")= chr [1:2] \"elnet\" \"glmnet\"\n",
            "  ..$ lambda.min: num 1.56\n",
            "  ..$ lambda.1se: num 12.1\n",
            "  ..$ index     : int [1:2, 1] 23 1\n",
            "  .. ..- attr(*, \"dimnames\")=List of 2\n",
            "  .. .. ..$ : chr [1:2] \"min\" \"1se\"\n",
            "  .. .. ..$ : chr \"Lambda\"\n",
            "  ..- attr(*, \"class\")= chr \"cv.glmnet\"\n",
            " $ :List of 12\n",
            "  ..$ lambda    : num [1:63] 10.59 9.65 8.8 8.01 7.3 ...\n",
            "  ..$ cvm       : num [1:63] 119 119 117 116 114 ...\n",
            "  ..$ cvsd      : num [1:63] 39.1 39.2 39.1 38.7 38.3 ...\n",
            "  ..$ cvup      : num [1:63] 159 158 156 154 152 ...\n",
            "  ..$ cvlo      : num [1:63] 80.4 79.3 78.1 76.8 75.7 ...\n",
            "  ..$ nzero     : Named int [1:63] 0 1 1 1 1 1 1 1 1 1 ...\n",
            "  .. ..- attr(*, \"names\")= chr [1:63] \"s0\" \"s1\" \"s2\" \"s3\" ...\n",
            "  ..$ call      : language glmnet::cv.glmnet(x = x, y = y, weights = ..1, offset = ..2, nfolds = nfolds,      foldid = foldid, alpha = a)\n",
            "  ..$ name      : Named chr \"Mean-Squared Error\"\n",
            "  .. ..- attr(*, \"names\")= chr \"mse\"\n",
            "  ..$ glmnet.fit:List of 12\n",
            "  .. ..$ a0       : Named num [1:63] 23.7 22.1 20.7 19.2 17.9 ...\n",
            "  .. .. ..- attr(*, \"names\")= chr [1:63] \"s0\" \"s1\" \"s2\" \"s3\" ...\n",
            "  .. ..$ beta     :Formal class 'dgCMatrix' [package \"Matrix\"] with 6 slots\n",
            "  .. .. .. ..@ i       : int [1:182] 3 3 3 3 3 3 3 3 3 3 ...\n",
            "  .. .. .. ..@ p       : int [1:64] 0 0 1 2 3 4 5 6 7 8 ...\n",
            "  .. .. .. ..@ Dim     : int [1:2] 4 63\n",
            "  .. .. .. ..@ Dimnames:List of 2\n",
            "  .. .. .. .. ..$ : chr [1:4] \"kickedto_yardline\" \"x.x\" \"y.x\" \"KoTeamAvgDist\"\n",
            "  .. .. .. .. ..$ : chr [1:63] \"s0\" \"s1\" \"s2\" \"s3\" ...\n",
            "  .. .. .. ..@ x       : num [1:182] 0.045 0.0887 0.1311 0.172 0.2112 ...\n",
            "  .. .. .. ..@ factors : list()\n",
            "  .. ..$ df       : int [1:63] 0 1 1 1 1 1 1 1 1 1 ...\n",
            "  .. ..$ dim      : int [1:2] 4 63\n",
            "  .. ..$ lambda   : num [1:63] 10.59 9.65 8.8 8.01 7.3 ...\n",
            "  .. ..$ dev.ratio: num [1:63] 0 0.0171 0.0327 0.0469 0.0597 ...\n",
            "  .. ..$ nulldev  : num 30458\n",
            "  .. ..$ npasses  : int 201\n",
            "  .. ..$ jerr     : int 0\n",
            "  .. ..$ offset   : logi FALSE\n",
            "  .. ..$ call     : language glmnet(x = x, y = y, weights = ..1, offset = ..2, alpha = a)\n",
            "  .. ..$ nobs     : int 257\n",
            "  .. ..- attr(*, \"class\")= chr [1:2] \"elnet\" \"glmnet\"\n",
            "  ..$ lambda.min: num 1.37\n",
            "  ..$ lambda.1se: num 10.6\n",
            "  ..$ index     : int [1:2, 1] 23 1\n",
            "  .. ..- attr(*, \"dimnames\")=List of 2\n",
            "  .. .. ..$ : chr [1:2] \"min\" \"1se\"\n",
            "  .. .. ..$ : chr \"Lambda\"\n",
            "  ..- attr(*, \"class\")= chr \"cv.glmnet\"\n",
            " $ :List of 12\n",
            "  ..$ lambda    : num [1:63] 9.42 8.58 7.82 7.12 6.49 ...\n",
            "  ..$ cvm       : num [1:63] 119 118 117 115 114 ...\n",
            "  ..$ cvsd      : num [1:63] 39.1 39.2 39.1 38.7 38.3 ...\n",
            "  ..$ cvup      : num [1:63] 159 158 156 154 152 ...\n",
            "  ..$ cvlo      : num [1:63] 80.4 79.2 78 76.6 75.5 ...\n",
            "  ..$ nzero     : Named int [1:63] 0 1 1 1 1 1 1 1 1 1 ...\n",
            "  .. ..- attr(*, \"names\")= chr [1:63] \"s0\" \"s1\" \"s2\" \"s3\" ...\n",
            "  ..$ call      : language glmnet::cv.glmnet(x = x, y = y, weights = ..1, offset = ..2, nfolds = nfolds,      foldid = foldid, alpha = a)\n",
            "  ..$ name      : Named chr \"Mean-Squared Error\"\n",
            "  .. ..- attr(*, \"names\")= chr \"mse\"\n",
            "  ..$ glmnet.fit:List of 12\n",
            "  .. ..$ a0       : Named num [1:63] 23.7 22 20.5 19 17.5 ...\n",
            "  .. .. ..- attr(*, \"names\")= chr [1:63] \"s0\" \"s1\" \"s2\" \"s3\" ...\n",
            "  .. ..$ beta     :Formal class 'dgCMatrix' [package \"Matrix\"] with 6 slots\n",
            "  .. .. .. ..@ i       : int [1:180] 3 3 3 3 3 3 3 3 3 3 ...\n",
            "  .. .. .. ..@ p       : int [1:64] 0 0 1 2 3 4 5 6 7 8 ...\n",
            "  .. .. .. ..@ Dim     : int [1:2] 4 63\n",
            "  .. .. .. ..@ Dimnames:List of 2\n",
            "  .. .. .. .. ..$ : chr [1:4] \"kickedto_yardline\" \"x.x\" \"y.x\" \"KoTeamAvgDist\"\n",
            "  .. .. .. .. ..$ : chr [1:63] \"s0\" \"s1\" \"s2\" \"s3\" ...\n",
            "  .. .. .. ..@ x       : num [1:180] 0.0481 0.0945 0.139 0.1816 0.2223 ...\n",
            "  .. .. .. ..@ factors : list()\n",
            "  .. ..$ df       : int [1:63] 0 1 1 1 1 1 1 1 1 1 ...\n",
            "  .. ..$ dim      : int [1:2] 4 63\n",
            "  .. ..$ lambda   : num [1:63] 9.42 8.58 7.82 7.12 6.49 ...\n",
            "  .. ..$ dev.ratio: num [1:63] 0 0.0182 0.0346 0.0494 0.0626 ...\n",
            "  .. ..$ nulldev  : num 30458\n",
            "  .. ..$ npasses  : int 199\n",
            "  .. ..$ jerr     : int 0\n",
            "  .. ..$ offset   : logi FALSE\n",
            "  .. ..$ call     : language glmnet(x = x, y = y, weights = ..1, offset = ..2, alpha = a)\n",
            "  .. ..$ nobs     : int 257\n",
            "  .. ..- attr(*, \"class\")= chr [1:2] \"elnet\" \"glmnet\"\n",
            "  ..$ lambda.min: num 1.33\n",
            "  ..$ lambda.1se: num 9.42\n",
            "  ..$ index     : int [1:2, 1] 22 1\n",
            "  .. ..- attr(*, \"dimnames\")=List of 2\n",
            "  .. .. ..$ : chr [1:2] \"min\" \"1se\"\n",
            "  .. .. ..$ : chr \"Lambda\"\n",
            "  ..- attr(*, \"class\")= chr \"cv.glmnet\"\n",
            " $ :List of 12\n",
            "  ..$ lambda    : num [1:62] 8.47 7.72 7.04 6.41 5.84 ...\n",
            "  ..$ cvm       : num [1:62] 119 118 117 115 113 ...\n",
            "  ..$ cvsd      : num [1:62] 39.1 39.2 39.1 38.7 38.2 ...\n",
            "  ..$ cvup      : num [1:62] 159 158 156 154 152 ...\n",
            "  ..$ cvlo      : num [1:62] 80.3 79.2 77.8 76.5 75.3 ...\n",
            "  ..$ nzero     : Named int [1:62] 0 1 1 1 1 1 1 1 1 1 ...\n",
            "  .. ..- attr(*, \"names\")= chr [1:62] \"s0\" \"s1\" \"s2\" \"s3\" ...\n",
            "  ..$ call      : language glmnet::cv.glmnet(x = x, y = y, weights = ..1, offset = ..2, nfolds = nfolds,      foldid = foldid, alpha = a)\n",
            "  ..$ name      : Named chr \"Mean-Squared Error\"\n",
            "  .. ..- attr(*, \"names\")= chr \"mse\"\n",
            "  ..$ glmnet.fit:List of 12\n",
            "  .. ..$ a0       : Named num [1:62] 23.7 21.9 20.3 18.7 17.2 ...\n",
            "  .. .. ..- attr(*, \"names\")= chr [1:62] \"s0\" \"s1\" \"s2\" \"s3\" ...\n",
            "  .. ..$ beta     :Formal class 'dgCMatrix' [package \"Matrix\"] with 6 slots\n",
            "  .. .. .. ..@ i       : int [1:174] 3 3 3 3 3 3 3 3 3 3 ...\n",
            "  .. .. .. ..@ p       : int [1:63] 0 0 1 2 3 4 5 6 7 8 ...\n",
            "  .. .. .. ..@ Dim     : int [1:2] 4 62\n",
            "  .. .. .. ..@ Dimnames:List of 2\n",
            "  .. .. .. .. ..$ : chr [1:4] \"kickedto_yardline\" \"x.x\" \"y.x\" \"KoTeamAvgDist\"\n",
            "  .. .. .. .. ..$ : chr [1:62] \"s0\" \"s1\" \"s2\" \"s3\" ...\n",
            "  .. .. .. ..@ x       : num [1:174] 0.0509 0.0996 0.146 0.1901 0.232 ...\n",
            "  .. .. .. ..@ factors : list()\n",
            "  .. ..$ df       : int [1:62] 0 1 1 1 1 1 1 1 1 1 ...\n",
            "  .. ..$ dim      : int [1:2] 4 62\n",
            "  .. ..$ lambda   : num [1:62] 8.47 7.72 7.04 6.41 5.84 ...\n",
            "  .. ..$ dev.ratio: num [1:62] 0 0.0192 0.0364 0.0516 0.0651 ...\n",
            "  .. ..$ nulldev  : num 30458\n",
            "  .. ..$ npasses  : int 194\n",
            "  .. ..$ jerr     : int 0\n",
            "  .. ..$ offset   : logi FALSE\n",
            "  .. ..$ call     : language glmnet(x = x, y = y, weights = ..1, offset = ..2, alpha = a)\n",
            "  .. ..$ nobs     : int 257\n",
            "  .. ..- attr(*, \"class\")= chr [1:2] \"elnet\" \"glmnet\"\n",
            "  ..$ lambda.min: num 1.2\n",
            "  ..$ lambda.1se: num 8.47\n",
            "  ..$ index     : int [1:2, 1] 22 1\n",
            "  .. ..- attr(*, \"dimnames\")=List of 2\n",
            "  .. .. ..$ : chr [1:2] \"min\" \"1se\"\n",
            "  .. .. ..$ : chr \"Lambda\"\n",
            "  ..- attr(*, \"class\")= chr \"cv.glmnet\"\n",
            " $ :List of 12\n",
            "  ..$ lambda    : num [1:62] 7.7 7.02 6.4 5.83 5.31 ...\n",
            "  ..$ cvm       : num [1:62] 119 118 117 115 113 ...\n",
            "  ..$ cvsd      : num [1:62] 39.1 39.2 39.1 38.6 38.2 ...\n",
            "  ..$ cvup      : num [1:62] 159 158 156 154 151 ...\n",
            "  ..$ cvlo      : num [1:62] 80.3 79.1 77.7 76.3 75.1 ...\n",
            "  ..$ nzero     : Named int [1:62] 0 1 1 1 1 1 1 1 1 1 ...\n",
            "  .. ..- attr(*, \"names\")= chr [1:62] \"s0\" \"s1\" \"s2\" \"s3\" ...\n",
            "  ..$ call      : language glmnet::cv.glmnet(x = x, y = y, weights = ..1, offset = ..2, nfolds = nfolds,      foldid = foldid, alpha = a)\n",
            "  ..$ name      : Named chr \"Mean-Squared Error\"\n",
            "  .. ..- attr(*, \"names\")= chr \"mse\"\n",
            "  ..$ glmnet.fit:List of 12\n",
            "  .. ..$ a0       : Named num [1:62] 23.7 21.9 20.1 18.5 17 ...\n",
            "  .. .. ..- attr(*, \"names\")= chr [1:62] \"s0\" \"s1\" \"s2\" \"s3\" ...\n",
            "  .. ..$ beta     :Formal class 'dgCMatrix' [package \"Matrix\"] with 6 slots\n",
            "  .. .. .. ..@ i       : int [1:172] 3 3 3 3 3 3 3 3 3 3 ...\n",
            "  .. .. .. ..@ p       : int [1:63] 0 0 1 2 3 4 5 6 7 8 ...\n",
            "  .. .. .. ..@ Dim     : int [1:2] 4 62\n",
            "  .. .. .. ..@ Dimnames:List of 2\n",
            "  .. .. .. .. ..$ : chr [1:4] \"kickedto_yardline\" \"x.x\" \"y.x\" \"KoTeamAvgDist\"\n",
            "  .. .. .. .. ..$ : chr [1:62] \"s0\" \"s1\" \"s2\" \"s3\" ...\n",
            "  .. .. .. ..@ x       : num [1:172] 0.0534 0.1042 0.1523 0.1977 0.2406 ...\n",
            "  .. .. .. ..@ factors : list()\n",
            "  .. ..$ df       : int [1:62] 0 1 1 1 1 1 1 1 1 1 ...\n",
            "  .. ..$ dim      : int [1:2] 4 62\n",
            "  .. ..$ lambda   : num [1:62] 7.7 7.02 6.4 5.83 5.31 ...\n",
            "  .. ..$ dev.ratio: num [1:62] 0 0.0201 0.038 0.0536 0.0674 ...\n",
            "  .. ..$ nulldev  : num 30458\n",
            "  .. ..$ npasses  : int 191\n",
            "  .. ..$ jerr     : int 0\n",
            "  .. ..$ offset   : logi FALSE\n",
            "  .. ..$ call     : language glmnet(x = x, y = y, weights = ..1, offset = ..2, alpha = a)\n",
            "  .. ..$ nobs     : int 257\n",
            "  .. ..- attr(*, \"class\")= chr [1:2] \"elnet\" \"glmnet\"\n",
            "  ..$ lambda.min: num 1.2\n",
            "  ..$ lambda.1se: num 7.7\n",
            "  ..$ index     : int [1:2, 1] 21 1\n",
            "  .. ..- attr(*, \"dimnames\")=List of 2\n",
            "  .. .. ..$ : chr [1:2] \"min\" \"1se\"\n",
            "  .. .. ..$ : chr \"Lambda\"\n",
            "  ..- attr(*, \"class\")= chr \"cv.glmnet\"\n",
            " $ :List of 12\n",
            "  ..$ lambda    : num [1:62] 7.06 6.44 5.86 5.34 4.87 ...\n",
            "  ..$ cvm       : num [1:62] 119 118 117 115 113 ...\n",
            "  ..$ cvsd      : num [1:62] 39.1 39.2 39.1 38.6 38.2 ...\n",
            "  ..$ cvup      : num [1:62] 159 157 156 153 151 ...\n",
            "  ..$ cvlo      : num [1:62] 80.3 79 77.6 76.2 74.9 ...\n",
            "  ..$ nzero     : Named int [1:62] 0 1 1 1 1 1 1 1 1 1 ...\n",
            "  .. ..- attr(*, \"names\")= chr [1:62] \"s0\" \"s1\" \"s2\" \"s3\" ...\n",
            "  ..$ call      : language glmnet::cv.glmnet(x = x, y = y, weights = ..1, offset = ..2, nfolds = nfolds,      foldid = foldid, alpha = a)\n",
            "  ..$ name      : Named chr \"Mean-Squared Error\"\n",
            "  .. ..- attr(*, \"names\")= chr \"mse\"\n",
            "  ..$ glmnet.fit:List of 12\n",
            "  .. ..$ a0       : Named num [1:62] 23.7 21.8 20 18.3 16.8 ...\n",
            "  .. .. ..- attr(*, \"names\")= chr [1:62] \"s0\" \"s1\" \"s2\" \"s3\" ...\n",
            "  .. ..$ beta     :Formal class 'dgCMatrix' [package \"Matrix\"] with 6 slots\n",
            "  .. .. .. ..@ i       : int [1:170] 3 3 3 3 3 3 3 3 3 3 ...\n",
            "  .. .. .. ..@ p       : int [1:63] 0 0 1 2 3 4 5 6 7 8 ...\n",
            "  .. .. .. ..@ Dim     : int [1:2] 4 62\n",
            "  .. .. .. ..@ Dimnames:List of 2\n",
            "  .. .. .. .. ..$ : chr [1:4] \"kickedto_yardline\" \"x.x\" \"y.x\" \"KoTeamAvgDist\"\n",
            "  .. .. .. .. ..$ : chr [1:62] \"s0\" \"s1\" \"s2\" \"s3\" ...\n",
            "  .. .. .. ..@ x       : num [1:170] 0.0558 0.1084 0.158 0.2046 0.2482 ...\n",
            "  .. .. .. ..@ factors : list()\n",
            "  .. ..$ df       : int [1:62] 0 1 1 1 1 1 1 1 1 1 ...\n",
            "  .. ..$ dim      : int [1:2] 4 62\n",
            "  .. ..$ lambda   : num [1:62] 7.06 6.44 5.86 5.34 4.87 ...\n",
            "  .. ..$ dev.ratio: num [1:62] 0 0.021 0.0394 0.0554 0.0693 ...\n",
            "  .. ..$ nulldev  : num 30458\n",
            "  .. ..$ npasses  : int 189\n",
            "  .. ..$ jerr     : int 0\n",
            "  .. ..$ offset   : logi FALSE\n",
            "  .. ..$ call     : language glmnet(x = x, y = y, weights = ..1, offset = ..2, alpha = a)\n",
            "  .. ..$ nobs     : int 257\n",
            "  .. ..- attr(*, \"class\")= chr [1:2] \"elnet\" \"glmnet\"\n",
            "  ..$ lambda.min: num 1.1\n",
            "  ..$ lambda.1se: num 7.06\n",
            "  ..$ index     : int [1:2, 1] 21 1\n",
            "  .. ..- attr(*, \"dimnames\")=List of 2\n",
            "  .. .. ..$ : chr [1:2] \"min\" \"1se\"\n",
            "  .. .. ..$ : chr \"Lambda\"\n",
            "  ..- attr(*, \"class\")= chr \"cv.glmnet\"\n",
            " $ :List of 12\n",
            "  ..$ lambda    : num [1:62] 6.52 5.94 5.41 4.93 4.49 ...\n",
            "  ..$ cvm       : num [1:62] 119 118 117 115 113 ...\n",
            "  ..$ cvsd      : num [1:62] 39.1 39.2 39.1 38.6 38.1 ...\n",
            "  ..$ cvup      : num [1:62] 159 157 156 153 151 ...\n",
            "  ..$ cvlo      : num [1:62] 80.3 79 77.5 76 74.8 ...\n",
            "  ..$ nzero     : Named int [1:62] 0 1 1 1 1 1 1 1 1 1 ...\n",
            "  .. ..- attr(*, \"names\")= chr [1:62] \"s0\" \"s1\" \"s2\" \"s3\" ...\n",
            "  ..$ call      : language glmnet::cv.glmnet(x = x, y = y, weights = ..1, offset = ..2, nfolds = nfolds,      foldid = foldid, alpha = a)\n",
            "  ..$ name      : Named chr \"Mean-Squared Error\"\n",
            "  .. ..- attr(*, \"names\")= chr \"mse\"\n",
            "  ..$ glmnet.fit:List of 12\n",
            "  .. ..$ a0       : Named num [1:62] 23.7 21.7 19.9 18.2 16.6 ...\n",
            "  .. .. ..- attr(*, \"names\")= chr [1:62] \"s0\" \"s1\" \"s2\" \"s3\" ...\n",
            "  .. ..$ beta     :Formal class 'dgCMatrix' [package \"Matrix\"] with 6 slots\n",
            "  .. .. .. ..@ i       : int [1:168] 3 3 3 3 3 3 3 3 3 3 ...\n",
            "  .. .. .. ..@ p       : int [1:63] 0 0 1 2 3 4 5 6 7 8 ...\n",
            "  .. .. .. ..@ Dim     : int [1:2] 4 62\n",
            "  .. .. .. ..@ Dimnames:List of 2\n",
            "  .. .. .. .. ..$ : chr [1:4] \"kickedto_yardline\" \"x.x\" \"y.x\" \"KoTeamAvgDist\"\n",
            "  .. .. .. .. ..$ : chr [1:62] \"s0\" \"s1\" \"s2\" \"s3\" ...\n",
            "  .. .. .. ..@ x       : num [1:168] 0.0579 0.1122 0.1631 0.2107 0.2551 ...\n",
            "  .. .. .. ..@ factors : list()\n",
            "  .. ..$ df       : int [1:62] 0 1 1 1 1 1 1 1 1 1 ...\n",
            "  .. ..$ dim      : int [1:2] 4 62\n",
            "  .. ..$ lambda   : num [1:62] 6.52 5.94 5.41 4.93 4.49 ...\n",
            "  .. ..$ dev.ratio: num [1:62] 0 0.0218 0.0407 0.057 0.0711 ...\n",
            "  .. ..$ nulldev  : num 30458\n",
            "  .. ..$ npasses  : int 186\n",
            "  .. ..$ jerr     : int 0\n",
            "  .. ..$ offset   : logi FALSE\n",
            "  .. ..$ call     : language glmnet(x = x, y = y, weights = ..1, offset = ..2, alpha = a)\n",
            "  .. ..$ nobs     : int 257\n",
            "  .. ..- attr(*, \"class\")= chr [1:2] \"elnet\" \"glmnet\"\n",
            "  ..$ lambda.min: num 1.01\n",
            "  ..$ lambda.1se: num 6.52\n",
            "  ..$ index     : int [1:2, 1] 21 1\n",
            "  .. ..- attr(*, \"dimnames\")=List of 2\n",
            "  .. .. ..$ : chr [1:2] \"min\" \"1se\"\n",
            "  .. .. ..$ : chr \"Lambda\"\n",
            "  ..- attr(*, \"class\")= chr \"cv.glmnet\"\n",
            " $ :List of 12\n",
            "  ..$ lambda    : num [1:61] 6.05 5.52 5.03 4.58 4.17 ...\n",
            "  ..$ cvm       : num [1:61] 119 118 117 115 113 ...\n",
            "  ..$ cvsd      : num [1:61] 39.1 39.2 39.1 38.6 38.1 ...\n",
            "  ..$ cvup      : num [1:61] 159 157 156 153 151 ...\n",
            "  ..$ cvlo      : num [1:61] 80.3 78.9 77.4 75.9 74.7 ...\n",
            "  ..$ nzero     : Named int [1:61] 0 1 1 1 1 1 1 1 1 1 ...\n",
            "  .. ..- attr(*, \"names\")= chr [1:61] \"s0\" \"s1\" \"s2\" \"s3\" ...\n",
            "  ..$ call      : language glmnet::cv.glmnet(x = x, y = y, weights = ..1, offset = ..2, nfolds = nfolds,      foldid = foldid, alpha = a)\n",
            "  ..$ name      : Named chr \"Mean-Squared Error\"\n",
            "  .. ..- attr(*, \"names\")= chr \"mse\"\n",
            "  ..$ glmnet.fit:List of 12\n",
            "  .. ..$ a0       : Named num [1:61] 23.7 21.6 19.8 18 16.4 ...\n",
            "  .. .. ..- attr(*, \"names\")= chr [1:61] \"s0\" \"s1\" \"s2\" \"s3\" ...\n",
            "  .. ..$ beta     :Formal class 'dgCMatrix' [package \"Matrix\"] with 6 slots\n",
            "  .. .. .. ..@ i       : int [1:162] 3 3 3 3 3 3 3 3 3 3 ...\n",
            "  .. .. .. ..@ p       : int [1:62] 0 0 1 2 3 4 5 6 7 8 ...\n",
            "  .. .. .. ..@ Dim     : int [1:2] 4 61\n",
            "  .. .. .. ..@ Dimnames:List of 2\n",
            "  .. .. .. .. ..$ : chr [1:4] \"kickedto_yardline\" \"x.x\" \"y.x\" \"KoTeamAvgDist\"\n",
            "  .. .. .. .. ..$ : chr [1:61] \"s0\" \"s1\" \"s2\" \"s3\" ...\n",
            "  .. .. .. ..@ x       : num [1:162] 0.0598 0.1157 0.1678 0.2163 0.2613 ...\n",
            "  .. .. .. ..@ factors : list()\n",
            "  .. ..$ df       : int [1:61] 0 1 1 1 1 1 1 1 1 1 ...\n",
            "  .. ..$ dim      : int [1:2] 4 61\n",
            "  .. ..$ lambda   : num [1:61] 6.05 5.52 5.03 4.58 4.17 ...\n",
            "  .. ..$ dev.ratio: num [1:61] 0 0.0225 0.0418 0.0584 0.0727 ...\n",
            "  .. ..$ nulldev  : num 30458\n",
            "  .. ..$ npasses  : int 183\n",
            "  .. ..$ jerr     : int 0\n",
            "  .. ..$ offset   : logi FALSE\n",
            "  .. ..$ call     : language glmnet(x = x, y = y, weights = ..1, offset = ..2, alpha = a)\n",
            "  .. ..$ nobs     : int 257\n",
            "  .. ..- attr(*, \"class\")= chr [1:2] \"elnet\" \"glmnet\"\n",
            "  ..$ lambda.min: num 0.942\n",
            "  ..$ lambda.1se: num 6.05\n",
            "  ..$ index     : int [1:2, 1] 21 1\n",
            "  .. ..- attr(*, \"dimnames\")=List of 2\n",
            "  .. .. ..$ : chr [1:2] \"min\" \"1se\"\n",
            "  .. .. ..$ : chr \"Lambda\"\n",
            "  ..- attr(*, \"class\")= chr \"cv.glmnet\"\n",
            " $ :List of 12\n",
            "  ..$ lambda    : num [1:61] 5.65 5.15 4.69 4.27 3.89 ...\n",
            "  ..$ cvm       : num [1:61] 119 118 116 114 113 ...\n",
            "  ..$ cvsd      : num [1:61] 39.1 39.2 39.1 38.5 38.1 ...\n",
            "  ..$ cvup      : num [1:61] 159 157 156 153 151 ...\n",
            "  ..$ cvlo      : num [1:61] 80.3 78.9 77.4 75.8 74.6 ...\n",
            "  ..$ nzero     : Named int [1:61] 0 1 1 1 1 1 1 1 1 1 ...\n",
            "  .. ..- attr(*, \"names\")= chr [1:61] \"s0\" \"s1\" \"s2\" \"s3\" ...\n",
            "  ..$ call      : language glmnet::cv.glmnet(x = x, y = y, weights = ..1, offset = ..2, nfolds = nfolds,      foldid = foldid, alpha = a)\n",
            "  ..$ name      : Named chr \"Mean-Squared Error\"\n",
            "  .. ..- attr(*, \"names\")= chr \"mse\"\n",
            "  ..$ glmnet.fit:List of 12\n",
            "  .. ..$ a0       : Named num [1:61] 23.7 21.6 19.6 17.9 16.2 ...\n",
            "  .. .. ..- attr(*, \"names\")= chr [1:61] \"s0\" \"s1\" \"s2\" \"s3\" ...\n",
            "  .. ..$ beta     :Formal class 'dgCMatrix' [package \"Matrix\"] with 6 slots\n",
            "  .. .. .. ..@ i       : int [1:162] 3 3 3 3 3 3 3 3 3 3 ...\n",
            "  .. .. .. ..@ p       : int [1:62] 0 0 1 2 3 4 5 6 7 8 ...\n",
            "  .. .. .. ..@ Dim     : int [1:2] 4 61\n",
            "  .. .. .. ..@ Dimnames:List of 2\n",
            "  .. .. .. .. ..$ : chr [1:4] \"kickedto_yardline\" \"x.x\" \"y.x\" \"KoTeamAvgDist\"\n",
            "  .. .. .. .. ..$ : chr [1:61] \"s0\" \"s1\" \"s2\" \"s3\" ...\n",
            "  .. .. .. ..@ x       : num [1:162] 0.0617 0.1189 0.1721 0.2214 0.2669 ...\n",
            "  .. .. .. ..@ factors : list()\n",
            "  .. ..$ df       : int [1:61] 0 1 1 1 1 1 1 1 1 1 ...\n",
            "  .. ..$ dim      : int [1:2] 4 61\n",
            "  .. ..$ lambda   : num [1:61] 5.65 5.15 4.69 4.27 3.89 ...\n",
            "  .. ..$ dev.ratio: num [1:61] 0 0.0231 0.0429 0.0598 0.0741 ...\n",
            "  .. ..$ nulldev  : num 30458\n",
            "  .. ..$ npasses  : int 178\n",
            "  .. ..$ jerr     : int 0\n",
            "  .. ..$ offset   : logi FALSE\n",
            "  .. ..$ call     : language glmnet(x = x, y = y, weights = ..1, offset = ..2, alpha = a)\n",
            "  .. ..$ nobs     : int 257\n",
            "  .. ..- attr(*, \"class\")= chr [1:2] \"elnet\" \"glmnet\"\n",
            "  ..$ lambda.min: num 0.879\n",
            "  ..$ lambda.1se: num 5.65\n",
            "  ..$ index     : int [1:2, 1] 21 1\n",
            "  .. ..- attr(*, \"dimnames\")=List of 2\n",
            "  .. .. ..$ : chr [1:2] \"min\" \"1se\"\n",
            "  .. .. ..$ : chr \"Lambda\"\n",
            "  ..- attr(*, \"class\")= chr \"cv.glmnet\"\n",
            " $ :List of 12\n",
            "  ..$ lambda    : num [1:61] 5.3 4.83 4.4 4.01 3.65 ...\n",
            "  ..$ cvm       : num [1:61] 119 118 116 114 113 ...\n",
            "  ..$ cvsd      : num [1:61] 39.1 39.2 39.1 38.5 38 ...\n",
            "  ..$ cvup      : num [1:61] 159 157 155 153 151 ...\n",
            "  ..$ cvlo      : num [1:61] 80.2 78.8 77.3 75.8 74.5 ...\n",
            "  ..$ nzero     : Named int [1:61] 0 1 1 1 1 1 1 1 1 1 ...\n",
            "  .. ..- attr(*, \"names\")= chr [1:61] \"s0\" \"s1\" \"s2\" \"s3\" ...\n",
            "  ..$ call      : language glmnet::cv.glmnet(x = x, y = y, weights = ..1, offset = ..2, nfolds = nfolds,      foldid = foldid, alpha = a)\n",
            "  ..$ name      : Named chr \"Mean-Squared Error\"\n",
            "  .. ..- attr(*, \"names\")= chr \"mse\"\n",
            "  ..$ glmnet.fit:List of 12\n",
            "  .. ..$ a0       : Named num [1:61] 23.7 21.5 19.5 17.7 16 ...\n",
            "  .. .. ..- attr(*, \"names\")= chr [1:61] \"s0\" \"s1\" \"s2\" \"s3\" ...\n",
            "  .. ..$ beta     :Formal class 'dgCMatrix' [package \"Matrix\"] with 6 slots\n",
            "  .. .. .. ..@ i       : int [1:161] 3 3 3 3 3 3 3 3 3 3 ...\n",
            "  .. .. .. ..@ p       : int [1:62] 0 0 1 2 3 4 5 6 7 8 ...\n",
            "  .. .. .. ..@ Dim     : int [1:2] 4 61\n",
            "  .. .. .. ..@ Dimnames:List of 2\n",
            "  .. .. .. .. ..$ : chr [1:4] \"kickedto_yardline\" \"x.x\" \"y.x\" \"KoTeamAvgDist\"\n",
            "  .. .. .. .. ..$ : chr [1:61] \"s0\" \"s1\" \"s2\" \"s3\" ...\n",
            "  .. .. .. ..@ x       : num [1:161] 0.0633 0.1219 0.176 0.226 0.272 ...\n",
            "  .. .. .. ..@ factors : list()\n",
            "  .. ..$ df       : int [1:61] 0 1 1 1 1 1 1 1 1 1 ...\n",
            "  .. ..$ dim      : int [1:2] 4 61\n",
            "  .. ..$ lambda   : num [1:61] 5.3 4.83 4.4 4.01 3.65 ...\n",
            "  .. ..$ dev.ratio: num [1:61] 0 0.0237 0.0439 0.0609 0.0754 ...\n",
            "  .. ..$ nulldev  : num 30458\n",
            "  .. ..$ npasses  : int 175\n",
            "  .. ..$ jerr     : int 0\n",
            "  .. ..$ offset   : logi FALSE\n",
            "  .. ..$ call     : language glmnet(x = x, y = y, weights = ..1, offset = ..2, alpha = a)\n",
            "  .. ..$ nobs     : int 257\n",
            "  .. ..- attr(*, \"class\")= chr [1:2] \"elnet\" \"glmnet\"\n",
            "  ..$ lambda.min: num 0.824\n",
            "  ..$ lambda.1se: num 5.3\n",
            "  ..$ index     : int [1:2, 1] 21 1\n",
            "  .. ..- attr(*, \"dimnames\")=List of 2\n",
            "  .. .. ..$ : chr [1:2] \"min\" \"1se\"\n",
            "  .. .. ..$ : chr \"Lambda\"\n",
            "  ..- attr(*, \"class\")= chr \"cv.glmnet\"\n",
            " $ :List of 12\n",
            "  ..$ lambda    : num [1:61] 4.99 4.54 4.14 3.77 3.44 ...\n",
            "  ..$ cvm       : num [1:61] 119 118 116 114 112 ...\n",
            "  ..$ cvsd      : num [1:61] 39.1 39.2 39.1 38.5 38 ...\n",
            "  ..$ cvup      : num [1:61] 159 157 155 153 150 ...\n",
            "  ..$ cvlo      : num [1:61] 80.2 78.8 77.2 75.7 74.4 ...\n",
            "  ..$ nzero     : Named int [1:61] 0 1 1 1 1 1 1 1 1 1 ...\n",
            "  .. ..- attr(*, \"names\")= chr [1:61] \"s0\" \"s1\" \"s2\" \"s3\" ...\n",
            "  ..$ call      : language glmnet::cv.glmnet(x = x, y = y, weights = ..1, offset = ..2, nfolds = nfolds,      foldid = foldid, alpha = a)\n",
            "  ..$ name      : Named chr \"Mean-Squared Error\"\n",
            "  .. ..- attr(*, \"names\")= chr \"mse\"\n",
            "  ..$ glmnet.fit:List of 12\n",
            "  .. ..$ a0       : Named num [1:61] 23.7 21.5 19.5 17.6 15.9 ...\n",
            "  .. .. ..- attr(*, \"names\")= chr [1:61] \"s0\" \"s1\" \"s2\" \"s3\" ...\n",
            "  .. ..$ beta     :Formal class 'dgCMatrix' [package \"Matrix\"] with 6 slots\n",
            "  .. .. .. ..@ i       : int [1:159] 3 3 3 3 3 3 3 3 3 3 ...\n",
            "  .. .. .. ..@ p       : int [1:62] 0 0 1 2 3 4 5 6 7 8 ...\n",
            "  .. .. .. ..@ Dim     : int [1:2] 4 61\n",
            "  .. .. .. ..@ Dimnames:List of 2\n",
            "  .. .. .. .. ..$ : chr [1:4] \"kickedto_yardline\" \"x.x\" \"y.x\" \"KoTeamAvgDist\"\n",
            "  .. .. .. .. ..$ : chr [1:61] \"s0\" \"s1\" \"s2\" \"s3\" ...\n",
            "  .. .. .. ..@ x       : num [1:159] 0.0649 0.1247 0.1797 0.2303 0.2767 ...\n",
            "  .. .. .. ..@ factors : list()\n",
            "  .. ..$ df       : int [1:61] 0 1 1 1 1 1 1 1 1 1 ...\n",
            "  .. ..$ dim      : int [1:2] 4 61\n",
            "  .. ..$ lambda   : num [1:61] 4.99 4.54 4.14 3.77 3.44 ...\n",
            "  .. ..$ dev.ratio: num [1:61] 0 0.0243 0.0448 0.062 0.0766 ...\n",
            "  .. ..$ nulldev  : num 30458\n",
            "  .. ..$ npasses  : int 176\n",
            "  .. ..$ jerr     : int 0\n",
            "  .. ..$ offset   : logi FALSE\n",
            "  .. ..$ call     : language glmnet(x = x, y = y, weights = ..1, offset = ..2, alpha = a)\n",
            "  .. ..$ nobs     : int 257\n",
            "  .. ..- attr(*, \"class\")= chr [1:2] \"elnet\" \"glmnet\"\n",
            "  ..$ lambda.min: num 0.776\n",
            "  ..$ lambda.1se: num 4.99\n",
            "  ..$ index     : int [1:2, 1] 21 1\n",
            "  .. ..- attr(*, \"dimnames\")=List of 2\n",
            "  .. .. ..$ : chr [1:2] \"min\" \"1se\"\n",
            "  .. .. ..$ : chr \"Lambda\"\n",
            "  ..- attr(*, \"class\")= chr \"cv.glmnet\"\n",
            " $ :List of 12\n",
            "  ..$ lambda    : num [1:61] 4.71 4.29 3.91 3.56 3.25 ...\n",
            "  ..$ cvm       : num [1:61] 119 118 116 114 112 ...\n",
            "  ..$ cvsd      : num [1:61] 39.1 39.2 39.1 38.5 38 ...\n",
            "  ..$ cvup      : num [1:61] 159 157 155 153 150 ...\n",
            "  ..$ cvlo      : num [1:61] 80.2 78.8 77.2 75.6 74.3 ...\n",
            "  ..$ nzero     : Named int [1:61] 0 1 1 1 1 1 1 1 1 1 ...\n",
            "  .. ..- attr(*, \"names\")= chr [1:61] \"s0\" \"s1\" \"s2\" \"s3\" ...\n",
            "  ..$ call      : language glmnet::cv.glmnet(x = x, y = y, weights = ..1, offset = ..2, nfolds = nfolds,      foldid = foldid, alpha = a)\n",
            "  ..$ name      : Named chr \"Mean-Squared Error\"\n",
            "  .. ..- attr(*, \"names\")= chr \"mse\"\n",
            "  ..$ glmnet.fit:List of 12\n",
            "  .. ..$ a0       : Named num [1:61] 23.7 21.4 19.4 17.5 15.8 ...\n",
            "  .. .. ..- attr(*, \"names\")= chr [1:61] \"s0\" \"s1\" \"s2\" \"s3\" ...\n",
            "  .. ..$ beta     :Formal class 'dgCMatrix' [package \"Matrix\"] with 6 slots\n",
            "  .. .. .. ..@ i       : int [1:158] 3 3 3 3 3 3 3 3 3 3 ...\n",
            "  .. .. .. ..@ p       : int [1:62] 0 0 1 2 3 4 5 6 7 8 ...\n",
            "  .. .. .. ..@ Dim     : int [1:2] 4 61\n",
            "  .. .. .. ..@ Dimnames:List of 2\n",
            "  .. .. .. .. ..$ : chr [1:4] \"kickedto_yardline\" \"x.x\" \"y.x\" \"KoTeamAvgDist\"\n",
            "  .. .. .. .. ..$ : chr [1:61] \"s0\" \"s1\" \"s2\" \"s3\" ...\n",
            "  .. .. .. ..@ x       : num [1:158] 0.0663 0.1272 0.183 0.2342 0.281 ...\n",
            "  .. .. .. ..@ factors : list()\n",
            "  .. ..$ df       : int [1:61] 0 1 1 1 1 1 1 1 1 1 ...\n",
            "  .. ..$ dim      : int [1:2] 4 61\n",
            "  .. ..$ lambda   : num [1:61] 4.71 4.29 3.91 3.56 3.25 ...\n",
            "  .. ..$ dev.ratio: num [1:61] 0 0.0248 0.0456 0.063 0.0776 ...\n",
            "  .. ..$ nulldev  : num 30458\n",
            "  .. ..$ npasses  : int 176\n",
            "  .. ..$ jerr     : int 0\n",
            "  .. ..$ offset   : logi FALSE\n",
            "  .. ..$ call     : language glmnet(x = x, y = y, weights = ..1, offset = ..2, alpha = a)\n",
            "  .. ..$ nobs     : int 257\n",
            "  .. ..- attr(*, \"class\")= chr [1:2] \"elnet\" \"glmnet\"\n",
            "  ..$ lambda.min: num 0.732\n",
            "  ..$ lambda.1se: num 4.71\n",
            "  ..$ index     : int [1:2, 1] 21 1\n",
            "  .. ..- attr(*, \"dimnames\")=List of 2\n",
            "  .. .. ..$ : chr [1:2] \"min\" \"1se\"\n",
            "  .. .. ..$ : chr \"Lambda\"\n",
            "  ..- attr(*, \"class\")= chr \"cv.glmnet\"\n",
            " $ :List of 12\n",
            "  ..$ lambda    : num [1:61] 4.46 4.06 3.7 3.37 3.07 ...\n",
            "  ..$ cvm       : num [1:61] 119 118 116 114 112 ...\n",
            "  ..$ cvsd      : num [1:61] 39.1 39.2 39.1 38.5 38 ...\n",
            "  ..$ cvup      : num [1:61] 159 157 155 153 150 ...\n",
            "  ..$ cvlo      : num [1:61] 80.2 78.7 77.1 75.5 74.2 ...\n",
            "  ..$ nzero     : Named int [1:61] 0 1 1 1 1 1 1 1 1 1 ...\n",
            "  .. ..- attr(*, \"names\")= chr [1:61] \"s0\" \"s1\" \"s2\" \"s3\" ...\n",
            "  ..$ call      : language glmnet::cv.glmnet(x = x, y = y, weights = ..1, offset = ..2, nfolds = nfolds,      foldid = foldid, alpha = a)\n",
            "  ..$ name      : Named chr \"Mean-Squared Error\"\n",
            "  .. ..- attr(*, \"names\")= chr \"mse\"\n",
            "  ..$ glmnet.fit:List of 12\n",
            "  .. ..$ a0       : Named num [1:61] 23.7 21.4 19.3 17.4 15.6 ...\n",
            "  .. .. ..- attr(*, \"names\")= chr [1:61] \"s0\" \"s1\" \"s2\" \"s3\" ...\n",
            "  .. ..$ beta     :Formal class 'dgCMatrix' [package \"Matrix\"] with 6 slots\n",
            "  .. .. .. ..@ i       : int [1:157] 3 3 3 3 3 3 3 3 3 3 ...\n",
            "  .. .. .. ..@ p       : int [1:62] 0 0 1 2 3 4 5 6 7 8 ...\n",
            "  .. .. .. ..@ Dim     : int [1:2] 4 61\n",
            "  .. .. .. ..@ Dimnames:List of 2\n",
            "  .. .. .. .. ..$ : chr [1:4] \"kickedto_yardline\" \"x.x\" \"y.x\" \"KoTeamAvgDist\"\n",
            "  .. .. .. .. ..$ : chr [1:61] \"s0\" \"s1\" \"s2\" \"s3\" ...\n",
            "  .. .. .. ..@ x       : num [1:157] 0.0677 0.1296 0.1861 0.2378 0.285 ...\n",
            "  .. .. .. ..@ factors : list()\n",
            "  .. ..$ df       : int [1:61] 0 1 1 1 1 1 1 1 1 1 ...\n",
            "  .. ..$ dim      : int [1:2] 4 61\n",
            "  .. ..$ lambda   : num [1:61] 4.46 4.06 3.7 3.37 3.07 ...\n",
            "  .. ..$ dev.ratio: num [1:61] 0 0.0253 0.0464 0.064 0.0786 ...\n",
            "  .. ..$ nulldev  : num 30458\n",
            "  .. ..$ npasses  : int 176\n",
            "  .. ..$ jerr     : int 0\n",
            "  .. ..$ offset   : logi FALSE\n",
            "  .. ..$ call     : language glmnet(x = x, y = y, weights = ..1, offset = ..2, alpha = a)\n",
            "  .. ..$ nobs     : int 257\n",
            "  .. ..- attr(*, \"class\")= chr [1:2] \"elnet\" \"glmnet\"\n",
            "  ..$ lambda.min: num 0.694\n",
            "  ..$ lambda.1se: num 4.46\n",
            "  ..$ index     : int [1:2, 1] 21 1\n",
            "  .. ..- attr(*, \"dimnames\")=List of 2\n",
            "  .. .. ..$ : chr [1:2] \"min\" \"1se\"\n",
            "  .. .. ..$ : chr \"Lambda\"\n",
            "  ..- attr(*, \"class\")= chr \"cv.glmnet\"\n",
            " $ :List of 12\n",
            "  ..$ lambda    : num [1:61] 4.24 3.86 3.52 3.21 2.92 ...\n",
            "  ..$ cvm       : num [1:61] 119 118 116 114 112 ...\n",
            "  ..$ cvsd      : num [1:61] 39.1 39.2 39.1 38.5 37.9 ...\n",
            "  ..$ cvup      : num [1:61] 158 157 155 152 150 ...\n",
            "  ..$ cvlo      : num [1:61] 80.2 78.7 77.1 75.5 74.2 ...\n",
            "  ..$ nzero     : Named int [1:61] 0 1 1 1 1 1 1 1 1 1 ...\n",
            "  .. ..- attr(*, \"names\")= chr [1:61] \"s0\" \"s1\" \"s2\" \"s3\" ...\n",
            "  ..$ call      : language glmnet::cv.glmnet(x = x, y = y, weights = ..1, offset = ..2, nfolds = nfolds,      foldid = foldid, alpha = a)\n",
            "  ..$ name      : Named chr \"Mean-Squared Error\"\n",
            "  .. ..- attr(*, \"names\")= chr \"mse\"\n",
            "  ..$ glmnet.fit:List of 12\n",
            "  .. ..$ a0       : Named num [1:61] 23.7 21.3 19.2 17.3 15.5 ...\n",
            "  .. .. ..- attr(*, \"names\")= chr [1:61] \"s0\" \"s1\" \"s2\" \"s3\" ...\n",
            "  .. ..$ beta     :Formal class 'dgCMatrix' [package \"Matrix\"] with 6 slots\n",
            "  .. .. .. ..@ i       : int [1:156] 3 3 3 3 3 3 3 3 3 3 ...\n",
            "  .. .. .. ..@ p       : int [1:62] 0 0 1 2 3 4 5 6 7 8 ...\n",
            "  .. .. .. ..@ Dim     : int [1:2] 4 61\n",
            "  .. .. .. ..@ Dimnames:List of 2\n",
            "  .. .. .. .. ..$ : chr [1:4] \"kickedto_yardline\" \"x.x\" \"y.x\" \"KoTeamAvgDist\"\n",
            "  .. .. .. .. ..$ : chr [1:61] \"s0\" \"s1\" \"s2\" \"s3\" ...\n",
            "  .. .. .. ..@ x       : num [1:156] 0.0689 0.1318 0.189 0.2412 0.2887 ...\n",
            "  .. .. .. ..@ factors : list()\n",
            "  .. ..$ df       : int [1:61] 0 1 1 1 1 1 1 1 1 1 ...\n",
            "  .. ..$ dim      : int [1:2] 4 61\n",
            "  .. ..$ lambda   : num [1:61] 4.24 3.86 3.52 3.21 2.92 ...\n",
            "  .. ..$ dev.ratio: num [1:61] 0 0.0257 0.0471 0.0648 0.0795 ...\n",
            "  .. ..$ nulldev  : num 30458\n",
            "  .. ..$ npasses  : int 180\n",
            "  .. ..$ jerr     : int 0\n",
            "  .. ..$ offset   : logi FALSE\n",
            "  .. ..$ call     : language glmnet(x = x, y = y, weights = ..1, offset = ..2, alpha = a)\n",
            "  .. ..$ nobs     : int 257\n",
            "  .. ..- attr(*, \"class\")= chr [1:2] \"elnet\" \"glmnet\"\n",
            "  ..$ lambda.min: num 0.659\n",
            "  ..$ lambda.1se: num 4.24\n",
            "  ..$ index     : int [1:2, 1] 21 1\n",
            "  .. ..- attr(*, \"dimnames\")=List of 2\n",
            "  .. .. ..$ : chr [1:2] \"min\" \"1se\"\n",
            "  .. .. ..$ : chr \"Lambda\"\n",
            "  ..- attr(*, \"class\")= chr \"cv.glmnet\"\n"
          ]
        },
        {
          "output_type": "display_data",
          "data": {
            "text/plain": [
              "plot without title"
            ],
            "image/png": "[encoded data removed]"
          },
          "metadata": {
            "image/png": {
              "width": 420,
              "height": 420
            }
          }
        }
      ]
    },
    {
      "cell_type": "code",
      "source": [
        "# Use this function to find the best alpha\n",
        "get_alpha <- function(fit) {\n",
        "  alpha <- fit$alpha\n",
        "  error <- sapply(fit$modlist, \n",
        "                  function(mod) {min(mod$cvm)})\n",
        "  alpha[which.min(error)]\n",
        "}"
      ],
      "metadata": {
        "id": "HdBAZV4CrJyl"
      },
      "execution_count": 87,
      "outputs": []
    },
    {
      "cell_type": "code",
      "source": [
        "# Get all parameters.\n",
        "get_model_params <- function(fit) {\n",
        "  alpha <- fit$alpha\n",
        "  lambdaMin <- sapply(fit$modlist, `[[`, \"lambda.min\")\n",
        "  lambdaSE <- sapply(fit$modlist, `[[`, \"lambda.1se\")\n",
        "  error <- sapply(fit$modlist, function(mod) {min(mod$cvm)})\n",
        "  best <- which.min(error)\n",
        "  data.frame(alpha = alpha[best], lambdaMin = lambdaMin[best],\n",
        "             lambdaSE = lambdaSE[best], eror = error[best])\n",
        "}"
      ],
      "metadata": {
        "id": "TxMxkKZ9rPng"
      },
      "execution_count": 88,
      "outputs": []
    },
    {
      "cell_type": "code",
      "source": [
        "# extract the best alpha value and model parameters\n",
        "best_alpha <- get_alpha(enet_mod)\n",
        "print(best_alpha)\n",
        "get_model_params(enet_mod)"
      ],
      "metadata": {
        "colab": {
          "base_uri": "https://localhost:8080/",
          "height": 147
        },
        "id": "cKHD5j4CrTj5",
        "outputId": "07152f22-2601-4437-a7d8-f7f19976f508"
      },
      "execution_count": 89,
      "outputs": [
        {
          "output_type": "stream",
          "name": "stdout",
          "text": [
            "[1] 1\n"
          ]
        },
        {
          "output_type": "display_data",
          "data": {
            "text/html": [
              "<table class=\"dataframe\">\n",
              "<caption>A data.frame: 1 × 4</caption>\n",
              "<thead>\n",
              "\t<tr><th scope=col>alpha</th><th scope=col>lambdaMin</th><th scope=col>lambdaSE</th><th scope=col>eror</th></tr>\n",
              "\t<tr><th scope=col>&lt;dbl&gt;</th><th scope=col>&lt;dbl&gt;</th><th scope=col>&lt;dbl&gt;</th><th scope=col>&lt;dbl&gt;</th></tr>\n",
              "</thead>\n",
              "<tbody>\n",
              "\t<tr><td>1</td><td>0.5472939</td><td>4.237498</td><td>102.8762</td></tr>\n",
              "</tbody>\n",
              "</table>\n"
            ],
            "text/markdown": "\nA data.frame: 1 × 4\n\n| alpha &lt;dbl&gt; | lambdaMin &lt;dbl&gt; | lambdaSE &lt;dbl&gt; | eror &lt;dbl&gt; |\n|---|---|---|---|\n| 1 | 0.5472939 | 4.237498 | 102.8762 |\n\n",
            "text/latex": "A data.frame: 1 × 4\n\\begin{tabular}{llll}\n alpha & lambdaMin & lambdaSE & eror\\\\\n <dbl> & <dbl> & <dbl> & <dbl>\\\\\n\\hline\n\t 1 & 0.5472939 & 4.237498 & 102.8762\\\\\n\\end{tabular}\n",
            "text/plain": [
              "  alpha lambdaMin lambdaSE eror    \n",
              "1 1     0.5472939 4.237498 102.8762"
            ]
          },
          "metadata": {}
        }
      ]
    },
    {
      "cell_type": "code",
      "source": [
        "# extract the best model object\n",
        "best_mod <- enet_mod$modlist[[which(enet_mod$alpha == best_alpha)]]\n",
        "\n",
        "print(best_mod)"
      ],
      "metadata": {
        "colab": {
          "base_uri": "https://localhost:8080/"
        },
        "id": "4BigQ8_HrWU8",
        "outputId": "7a5c97e4-7ac0-4c13-df1d-41dff70d9818"
      },
      "execution_count": 90,
      "outputs": [
        {
          "output_type": "stream",
          "name": "stdout",
          "text": [
            "\n",
            "Call:  glmnet::cv.glmnet(x = x, y = y, weights = ..1, offset = ..2,      nfolds = nfolds, foldid = foldid, alpha = a) \n",
            "\n",
            "Measure: Mean-Squared Error \n",
            "\n",
            "    Lambda Index Measure    SE Nonzero\n",
            "min  0.547    23   102.9 27.15       1\n",
            "1se  4.237     1   119.2 30.07       0\n"
          ]
        }
      ]
    },
    {
      "cell_type": "code",
      "source": [
        "# Let's see how well our predictions do. \n",
        "logit_preds_train <- predict(logit, newdata = df_train)\n",
        "\n",
        "logit_preds_test <- predict(logit, newdata = df_test)\n",
        "\n",
        "head(logit_preds_test)\n",
        "head(logit_preds_train)"
      ],
      "metadata": {
        "colab": {
          "base_uri": "https://localhost:8080/",
          "height": 52
        },
        "id": "Yj0GC9uru0FS",
        "outputId": "32b8a71f-2d56-4bfd-e89f-659990132c71"
      },
      "execution_count": 93,
      "outputs": [
        {
          "output_type": "display_data",
          "data": {
            "text/html": [
              "<style>\n",
              ".dl-inline {width: auto; margin:0; padding: 0}\n",
              ".dl-inline>dt, .dl-inline>dd {float: none; width: auto; display: inline-block}\n",
              ".dl-inline>dt::after {content: \":\\0020\"; padding-right: .5ex}\n",
              ".dl-inline>dt:not(:first-of-type) {padding-left: .5ex}\n",
              "</style><dl class=dl-inline><dt>1</dt><dd>-0.190478781621895</dd><dt>2</dt><dd>-0.527053616228743</dd><dt>3</dt><dd>-0.134856246236891</dd><dt>4</dt><dd>0.942661278839654</dd><dt>5</dt><dd>-1.02240239821893</dd><dt>6</dt><dd>-0.83607545214726</dd></dl>\n"
            ],
            "text/markdown": "1\n:   -0.1904787816218952\n:   -0.5270536162287433\n:   -0.1348562462368914\n:   0.9426612788396545\n:   -1.022402398218936\n:   -0.83607545214726\n\n",
            "text/latex": "\\begin{description*}\n\\item[1] -0.190478781621895\n\\item[2] -0.527053616228743\n\\item[3] -0.134856246236891\n\\item[4] 0.942661278839654\n\\item[5] -1.02240239821893\n\\item[6] -0.83607545214726\n\\end{description*}\n",
            "text/plain": [
              "         1          2          3          4          5          6 \n",
              "-0.1904788 -0.5270536 -0.1348562  0.9426613 -1.0224024 -0.8360755 "
            ]
          },
          "metadata": {}
        },
        {
          "output_type": "display_data",
          "data": {
            "text/html": [
              "<style>\n",
              ".dl-inline {width: auto; margin:0; padding: 0}\n",
              ".dl-inline>dt, .dl-inline>dd {float: none; width: auto; display: inline-block}\n",
              ".dl-inline>dt::after {content: \":\\0020\"; padding-right: .5ex}\n",
              ".dl-inline>dt:not(:first-of-type) {padding-left: .5ex}\n",
              "</style><dl class=dl-inline><dt>1</dt><dd>2.42425839306138</dd><dt>2</dt><dd>-0.947032256199604</dd><dt>3</dt><dd>-0.321183192308564</dd><dt>4</dt><dd>0.449320912685635</dd><dt>5</dt><dd>0.255188574559957</dd><dt>6</dt><dd>-1.01252859490177</dd></dl>\n"
            ],
            "text/markdown": "1\n:   2.424258393061382\n:   -0.9470322561996043\n:   -0.3211831923085644\n:   0.4493209126856355\n:   0.2551885745599576\n:   -1.01252859490177\n\n",
            "text/latex": "\\begin{description*}\n\\item[1] 2.42425839306138\n\\item[2] -0.947032256199604\n\\item[3] -0.321183192308564\n\\item[4] 0.449320912685635\n\\item[5] 0.255188574559957\n\\item[6] -1.01252859490177\n\\end{description*}\n",
            "text/plain": [
              "         1          2          3          4          5          6 \n",
              " 2.4242584 -0.9470323 -0.3211832  0.4493209  0.2551886 -1.0125286 "
            ]
          },
          "metadata": {}
        }
      ]
    },
    {
      "cell_type": "code",
      "source": [
        "# Generating results dataframes. \n",
        "\n",
        "results_train <- data.frame( `truth`= df_train %>% \n",
        "                               select(YardResult_over25) %>% \n",
        "                               mutate(YardResult_over25 = as.numeric(YardResult_over25)),\n",
        "                               `Class1` =  logit_preds_train,\n",
        "                               `type` = rep(\"train\", length(logit_preds_train))\n",
        ")\n",
        "\n",
        "results_test <- data.frame(\n",
        "    `truth` = df_test %>% \n",
        "    select(YardResult_over25) %>% \n",
        "    mutate(YardResult_over25 = as.numeric(YardResult_over25)),\n",
        "    `Class1` =  logit_preds_test,\n",
        "    `type` = rep(\"test\",length(logit_preds_test))\n",
        ")\n",
        "\n",
        "results <- bind_rows(results_train, results_test)\n",
        "\n",
        "slice(results)"
      ],
      "metadata": {
        "colab": {
          "base_uri": "https://localhost:8080/",
          "height": 1000
        },
        "id": "iRjxPidiw3yC",
        "outputId": "a9cba1ab-040a-495e-97af-10807652c6f5"
      },
      "execution_count": 96,
      "outputs": [
        {
          "output_type": "stream",
          "name": "stderr",
          "text": [
            "\u001b[1m\u001b[22mAdding missing grouping variables: `displayName.x`, `gameId`, `playId`\n",
            "\u001b[1m\u001b[22mAdding missing grouping variables: `displayName.x`, `gameId`, `playId`\n"
          ]
        },
        {
          "output_type": "display_data",
          "data": {
            "text/html": [
              "<table class=\"dataframe\">\n",
              "<caption>A data.frame: 343 × 6</caption>\n",
              "<thead>\n",
              "\t<tr><th></th><th scope=col>truth.displayName.x</th><th scope=col>truth.gameId</th><th scope=col>truth.playId</th><th scope=col>truth.YardResult_over25</th><th scope=col>Class1</th><th scope=col>type</th></tr>\n",
              "\t<tr><th></th><th scope=col>&lt;fct&gt;</th><th scope=col>&lt;dbl&gt;</th><th scope=col>&lt;dbl&gt;</th><th scope=col>&lt;dbl&gt;</th><th scope=col>&lt;dbl&gt;</th><th scope=col>&lt;chr&gt;</th></tr>\n",
              "</thead>\n",
              "<tbody>\n",
              "\t<tr><th scope=row>1...1</th><td>Chris Herndon        </td><td>2018123006</td><td>2312</td><td>2</td><td> 2.424258393</td><td>train</td></tr>\n",
              "\t<tr><th scope=row>2...2</th><td>Brandon Wilson       </td><td>2020122706</td><td>2718</td><td>1</td><td>-0.947032256</td><td>train</td></tr>\n",
              "\t<tr><th scope=row>3...3</th><td>Boston Scott         </td><td>2019122911</td><td>  36</td><td>1</td><td>-0.321183192</td><td>train</td></tr>\n",
              "\t<tr><th scope=row>4...4</th><td>Ashton Dulin         </td><td>2020122709</td><td> 988</td><td>1</td><td> 0.449320913</td><td>train</td></tr>\n",
              "\t<tr><th scope=row>5...5</th><td>Corey Coleman        </td><td>2018123008</td><td>2797</td><td>2</td><td> 0.255188575</td><td>train</td></tr>\n",
              "\t<tr><th scope=row>6...6</th><td>Michael Walker       </td><td>2019122205</td><td>2081</td><td>1</td><td>-1.012528595</td><td>train</td></tr>\n",
              "\t<tr><th scope=row>7...7</th><td>Kalif Raymond        </td><td>2019122210</td><td>3262</td><td>1</td><td>-0.903580207</td><td>train</td></tr>\n",
              "\t<tr><th scope=row>8...8</th><td>Rashard Higgins      </td><td>2019122206</td><td>2220</td><td>1</td><td> 1.231791375</td><td>train</td></tr>\n",
              "\t<tr><th scope=row>9...9</th><td>D'Ernest Johnson     </td><td>2021010304</td><td>2225</td><td>2</td><td> 0.003569419</td><td>train</td></tr>\n",
              "\t<tr><th scope=row>10...10</th><td>Pharoh Cooper        </td><td>2019122914</td><td>1649</td><td>1</td><td>-0.753044051</td><td>train</td></tr>\n",
              "\t<tr><th scope=row>11...11</th><td>Cordarrelle Patterson</td><td>2018122308</td><td>2010</td><td>1</td><td>-0.796496101</td><td>train</td></tr>\n",
              "\t<tr><th scope=row>12...12</th><td>J'Mon Moore          </td><td>2018122309</td><td>2871</td><td>1</td><td>-0.646104079</td><td>train</td></tr>\n",
              "\t<tr><th scope=row>13...13</th><td>Darius Phillips      </td><td>2019122208</td><td>3596</td><td>2</td><td>-0.679598187</td><td>train</td></tr>\n",
              "\t<tr><th scope=row>14...14</th><td>Troymaine Pope       </td><td>2019122908</td><td>2439</td><td>1</td><td>-0.586608845</td><td>train</td></tr>\n",
              "\t<tr><th scope=row>15...15</th><td>River Cracraft       </td><td>2018123013</td><td>2270</td><td>1</td><td>-0.345031769</td><td>train</td></tr>\n",
              "\t<tr><th scope=row>16...16</th><td>Justin Jackson       </td><td>2019122908</td><td>  36</td><td>1</td><td>-0.644095663</td><td>train</td></tr>\n",
              "\t<tr><th scope=row>17...17</th><td>Alex Erickson        </td><td>2018123009</td><td>1853</td><td>1</td><td> 0.550842786</td><td>train</td></tr>\n",
              "\t<tr><th scope=row>18...18</th><td>Austin Walter        </td><td>2021010315</td><td>3105</td><td>1</td><td>-0.130460538</td><td>train</td></tr>\n",
              "\t<tr><th scope=row>19...19</th><td>Andre Roberts        </td><td>2018122309</td><td>  36</td><td>2</td><td> 0.187827953</td><td>train</td></tr>\n",
              "\t<tr><th scope=row>20...20</th><td>Alex Erickson        </td><td>2019122903</td><td>1794</td><td>1</td><td>-0.681143589</td><td>train</td></tr>\n",
              "\t<tr><th scope=row>21...21</th><td>Kenyan Drake         </td><td>2018123001</td><td>3591</td><td>1</td><td>-0.115108640</td><td>train</td></tr>\n",
              "\t<tr><th scope=row>22...22</th><td>Jabrill Peppers      </td><td>2018123000</td><td>  36</td><td>2</td><td>-0.073580868</td><td>train</td></tr>\n",
              "\t<tr><th scope=row>23...23</th><td>Andre Roberts        </td><td>2018122309</td><td>4703</td><td>2</td><td> 1.186246771</td><td>train</td></tr>\n",
              "\t<tr><th scope=row>24...24</th><td>Rashad Fenton        </td><td>2021010306</td><td> 574</td><td>2</td><td> 0.003713552</td><td>train</td></tr>\n",
              "\t<tr><th scope=row>25...25</th><td>Cody Latimer         </td><td>2018123008</td><td>4538</td><td>2</td><td> 1.646267777</td><td>train</td></tr>\n",
              "\t<tr><th scope=row>26...26</th><td>Kerrith Whyte        </td><td>2019122209</td><td>2599</td><td>2</td><td>-0.465778238</td><td>train</td></tr>\n",
              "\t<tr><th scope=row>27...27</th><td>Andre Roberts        </td><td>2019122101</td><td>2159</td><td>1</td><td>-0.836219586</td><td>train</td></tr>\n",
              "\t<tr><th scope=row>28...28</th><td>Ray-Ray McCloud      </td><td>2021010304</td><td>1312</td><td>1</td><td>-0.213720210</td><td>train</td></tr>\n",
              "\t<tr><th scope=row>29...29</th><td>Darius Jennings      </td><td>2019122906</td><td> 413</td><td>2</td><td>-0.786682293</td><td>train</td></tr>\n",
              "\t<tr><th scope=row>30...30</th><td>Alex Erickson        </td><td>2018122305</td><td>2407</td><td>2</td><td>-0.931277339</td><td>train</td></tr>\n",
              "\t<tr><th scope=row>⋮</th><td>⋮</td><td>⋮</td><td>⋮</td><td>⋮</td><td>⋮</td><td>⋮</td></tr>\n",
              "\t<tr><th scope=row>57...314</th><td>Kenjon Barner  </td><td>2019122912</td><td>2309</td><td>1</td><td>-1.02187939</td><td>test</td></tr>\n",
              "\t<tr><th scope=row>58...315</th><td>Kenjon Barner  </td><td>2020122600</td><td>2601</td><td>2</td><td> 0.86580573</td><td>test</td></tr>\n",
              "\t<tr><th scope=row>59...316</th><td>Kenyan Drake   </td><td>2018122302</td><td> 704</td><td>1</td><td>-0.58066774</td><td>test</td></tr>\n",
              "\t<tr><th scope=row>60...317</th><td>Kenyan Drake   </td><td>2018122302</td><td>3325</td><td>1</td><td> 0.03944435</td><td>test</td></tr>\n",
              "\t<tr><th scope=row>61...318</th><td>Kenyan Drake   </td><td>2018123001</td><td> 525</td><td>1</td><td>-0.79069912</td><td>test</td></tr>\n",
              "\t<tr><th scope=row>62...319</th><td>Marvin Hall    </td><td>2018123010</td><td>2759</td><td>2</td><td>-0.16679848</td><td>test</td></tr>\n",
              "\t<tr><th scope=row>63...320</th><td>Mecole Hardman </td><td>2019122908</td><td>3355</td><td>1</td><td> 1.25800310</td><td>test</td></tr>\n",
              "\t<tr><th scope=row>64...321</th><td>Nasir Adderley </td><td>2020122702</td><td>3096</td><td>2</td><td>-0.27752701</td><td>test</td></tr>\n",
              "\t<tr><th scope=row>65...322</th><td>Nsimba Webster </td><td>2020122711</td><td>4034</td><td>1</td><td> 0.07494687</td><td>test</td></tr>\n",
              "\t<tr><th scope=row>66...323</th><td>Nyheim Hines   </td><td>2019122907</td><td>3576</td><td>1</td><td>-0.79256341</td><td>test</td></tr>\n",
              "\t<tr><th scope=row>67...324</th><td>Rashad Fenton  </td><td>2021010306</td><td>  39</td><td>2</td><td>-0.12259515</td><td>test</td></tr>\n",
              "\t<tr><th scope=row>68...325</th><td>Ray-Ray McCloud</td><td>2020122709</td><td>  40</td><td>1</td><td> 0.57015152</td><td>test</td></tr>\n",
              "\t<tr><th scope=row>69...326</th><td>Raymond Calais </td><td>2021010314</td><td>2102</td><td>2</td><td>-0.13887308</td><td>test</td></tr>\n",
              "\t<tr><th scope=row>70...327</th><td>Richie James   </td><td>2019122102</td><td> 253</td><td>2</td><td>-0.58660885</td><td>test</td></tr>\n",
              "\t<tr><th scope=row>71...328</th><td>Robby Anderson </td><td>2018122309</td><td>4022</td><td>1</td><td> 0.71288228</td><td>test</td></tr>\n",
              "\t<tr><th scope=row>72...329</th><td>Ryan Switzer   </td><td>2018123009</td><td>1525</td><td>2</td><td> 1.84774249</td><td>test</td></tr>\n",
              "\t<tr><th scope=row>73...330</th><td>Sony Michel    </td><td>2018122308</td><td>2454</td><td>1</td><td>-0.68553930</td><td>test</td></tr>\n",
              "\t<tr><th scope=row>74...331</th><td>Tony Pollard   </td><td>2021010308</td><td> 217</td><td>1</td><td>-0.31725050</td><td>test</td></tr>\n",
              "\t<tr><th scope=row>75...332</th><td>Tony Pollard   </td><td>2021010308</td><td>1539</td><td>2</td><td> 0.70894959</td><td>test</td></tr>\n",
              "\t<tr><th scope=row>76...333</th><td>Trenton Cannon </td><td>2018122309</td><td>2280</td><td>1</td><td> 0.01344322</td><td>test</td></tr>\n",
              "\t<tr><th scope=row>77...334</th><td>Trevor Davis   </td><td>2019122910</td><td>1702</td><td>1</td><td>-0.29942717</td><td>test</td></tr>\n",
              "\t<tr><th scope=row>78...335</th><td>Tyler Ervin    </td><td>2019122905</td><td>2230</td><td>2</td><td> 1.01002190</td><td>test</td></tr>\n",
              "\t<tr><th scope=row>79...336</th><td>Tyler Ervin    </td><td>2019122905</td><td>3587</td><td>1</td><td>-0.48747427</td><td>test</td></tr>\n",
              "\t<tr><th scope=row>80...337</th><td>Tyler Lockett  </td><td>2018123015</td><td>3287</td><td>1</td><td>-0.52326506</td><td>test</td></tr>\n",
              "\t<tr><th scope=row>81...338</th><td>Victor Bolden  </td><td>2018122308</td><td> 507</td><td>1</td><td>-0.52920617</td><td>test</td></tr>\n",
              "\t<tr><th scope=row>82...339</th><td>Victor Bolden  </td><td>2018122308</td><td>1398</td><td>2</td><td> 0.73650259</td><td>test</td></tr>\n",
              "\t<tr><th scope=row>83...340</th><td>Vyncint Smith  </td><td>2019122901</td><td>  45</td><td>1</td><td>-0.52920617</td><td>test</td></tr>\n",
              "\t<tr><th scope=row>84...341</th><td>Zach Pascal    </td><td>2018122300</td><td>2816</td><td>2</td><td>-0.44201380</td><td>test</td></tr>\n",
              "\t<tr><th scope=row>85...342</th><td>Zach Pascal    </td><td>2018123011</td><td>3170</td><td>2</td><td>-0.05523453</td><td>test</td></tr>\n",
              "\t<tr><th scope=row>86...343</th><td>Zach Pascal    </td><td>2021010313</td><td>2047</td><td>2</td><td>         NA</td><td>test</td></tr>\n",
              "</tbody>\n",
              "</table>\n"
            ],
            "text/markdown": "\nA data.frame: 343 × 6\n\n| <!--/--> | truth.displayName.x &lt;fct&gt; | truth.gameId &lt;dbl&gt; | truth.playId &lt;dbl&gt; | truth.YardResult_over25 &lt;dbl&gt; | Class1 &lt;dbl&gt; | type &lt;chr&gt; |\n|---|---|---|---|---|---|---|\n| 1...1 | Chris Herndon         | 2018123006 | 2312 | 2 |  2.424258393 | train |\n| 2...2 | Brandon Wilson        | 2020122706 | 2718 | 1 | -0.947032256 | train |\n| 3...3 | Boston Scott          | 2019122911 |   36 | 1 | -0.321183192 | train |\n| 4...4 | Ashton Dulin          | 2020122709 |  988 | 1 |  0.449320913 | train |\n| 5...5 | Corey Coleman         | 2018123008 | 2797 | 2 |  0.255188575 | train |\n| 6...6 | Michael Walker        | 2019122205 | 2081 | 1 | -1.012528595 | train |\n| 7...7 | Kalif Raymond         | 2019122210 | 3262 | 1 | -0.903580207 | train |\n| 8...8 | Rashard Higgins       | 2019122206 | 2220 | 1 |  1.231791375 | train |\n| 9...9 | D'Ernest Johnson      | 2021010304 | 2225 | 2 |  0.003569419 | train |\n| 10...10 | Pharoh Cooper         | 2019122914 | 1649 | 1 | -0.753044051 | train |\n| 11...11 | Cordarrelle Patterson | 2018122308 | 2010 | 1 | -0.796496101 | train |\n| 12...12 | J'Mon Moore           | 2018122309 | 2871 | 1 | -0.646104079 | train |\n| 13...13 | Darius Phillips       | 2019122208 | 3596 | 2 | -0.679598187 | train |\n| 14...14 | Troymaine Pope        | 2019122908 | 2439 | 1 | -0.586608845 | train |\n| 15...15 | River Cracraft        | 2018123013 | 2270 | 1 | -0.345031769 | train |\n| 16...16 | Justin Jackson        | 2019122908 |   36 | 1 | -0.644095663 | train |\n| 17...17 | Alex Erickson         | 2018123009 | 1853 | 1 |  0.550842786 | train |\n| 18...18 | Austin Walter         | 2021010315 | 3105 | 1 | -0.130460538 | train |\n| 19...19 | Andre Roberts         | 2018122309 |   36 | 2 |  0.187827953 | train |\n| 20...20 | Alex Erickson         | 2019122903 | 1794 | 1 | -0.681143589 | train |\n| 21...21 | Kenyan Drake          | 2018123001 | 3591 | 1 | -0.115108640 | train |\n| 22...22 | Jabrill Peppers       | 2018123000 |   36 | 2 | -0.073580868 | train |\n| 23...23 | Andre Roberts         | 2018122309 | 4703 | 2 |  1.186246771 | train |\n| 24...24 | Rashad Fenton         | 2021010306 |  574 | 2 |  0.003713552 | train |\n| 25...25 | Cody Latimer          | 2018123008 | 4538 | 2 |  1.646267777 | train |\n| 26...26 | Kerrith Whyte         | 2019122209 | 2599 | 2 | -0.465778238 | train |\n| 27...27 | Andre Roberts         | 2019122101 | 2159 | 1 | -0.836219586 | train |\n| 28...28 | Ray-Ray McCloud       | 2021010304 | 1312 | 1 | -0.213720210 | train |\n| 29...29 | Darius Jennings       | 2019122906 |  413 | 2 | -0.786682293 | train |\n| 30...30 | Alex Erickson         | 2018122305 | 2407 | 2 | -0.931277339 | train |\n| ⋮ | ⋮ | ⋮ | ⋮ | ⋮ | ⋮ | ⋮ |\n| 57...314 | Kenjon Barner   | 2019122912 | 2309 | 1 | -1.02187939 | test |\n| 58...315 | Kenjon Barner   | 2020122600 | 2601 | 2 |  0.86580573 | test |\n| 59...316 | Kenyan Drake    | 2018122302 |  704 | 1 | -0.58066774 | test |\n| 60...317 | Kenyan Drake    | 2018122302 | 3325 | 1 |  0.03944435 | test |\n| 61...318 | Kenyan Drake    | 2018123001 |  525 | 1 | -0.79069912 | test |\n| 62...319 | Marvin Hall     | 2018123010 | 2759 | 2 | -0.16679848 | test |\n| 63...320 | Mecole Hardman  | 2019122908 | 3355 | 1 |  1.25800310 | test |\n| 64...321 | Nasir Adderley  | 2020122702 | 3096 | 2 | -0.27752701 | test |\n| 65...322 | Nsimba Webster  | 2020122711 | 4034 | 1 |  0.07494687 | test |\n| 66...323 | Nyheim Hines    | 2019122907 | 3576 | 1 | -0.79256341 | test |\n| 67...324 | Rashad Fenton   | 2021010306 |   39 | 2 | -0.12259515 | test |\n| 68...325 | Ray-Ray McCloud | 2020122709 |   40 | 1 |  0.57015152 | test |\n| 69...326 | Raymond Calais  | 2021010314 | 2102 | 2 | -0.13887308 | test |\n| 70...327 | Richie James    | 2019122102 |  253 | 2 | -0.58660885 | test |\n| 71...328 | Robby Anderson  | 2018122309 | 4022 | 1 |  0.71288228 | test |\n| 72...329 | Ryan Switzer    | 2018123009 | 1525 | 2 |  1.84774249 | test |\n| 73...330 | Sony Michel     | 2018122308 | 2454 | 1 | -0.68553930 | test |\n| 74...331 | Tony Pollard    | 2021010308 |  217 | 1 | -0.31725050 | test |\n| 75...332 | Tony Pollard    | 2021010308 | 1539 | 2 |  0.70894959 | test |\n| 76...333 | Trenton Cannon  | 2018122309 | 2280 | 1 |  0.01344322 | test |\n| 77...334 | Trevor Davis    | 2019122910 | 1702 | 1 | -0.29942717 | test |\n| 78...335 | Tyler Ervin     | 2019122905 | 2230 | 2 |  1.01002190 | test |\n| 79...336 | Tyler Ervin     | 2019122905 | 3587 | 1 | -0.48747427 | test |\n| 80...337 | Tyler Lockett   | 2018123015 | 3287 | 1 | -0.52326506 | test |\n| 81...338 | Victor Bolden   | 2018122308 |  507 | 1 | -0.52920617 | test |\n| 82...339 | Victor Bolden   | 2018122308 | 1398 | 2 |  0.73650259 | test |\n| 83...340 | Vyncint Smith   | 2019122901 |   45 | 1 | -0.52920617 | test |\n| 84...341 | Zach Pascal     | 2018122300 | 2816 | 2 | -0.44201380 | test |\n| 85...342 | Zach Pascal     | 2018123011 | 3170 | 2 | -0.05523453 | test |\n| 86...343 | Zach Pascal     | 2021010313 | 2047 | 2 |          NA | test |\n\n",
            "text/latex": "A data.frame: 343 × 6\n\\begin{tabular}{r|llllll}\n  & truth.displayName.x & truth.gameId & truth.playId & truth.YardResult\\_over25 & Class1 & type\\\\\n  & <fct> & <dbl> & <dbl> & <dbl> & <dbl> & <chr>\\\\\n\\hline\n\t1...1 & Chris Herndon         & 2018123006 & 2312 & 2 &  2.424258393 & train\\\\\n\t2...2 & Brandon Wilson        & 2020122706 & 2718 & 1 & -0.947032256 & train\\\\\n\t3...3 & Boston Scott          & 2019122911 &   36 & 1 & -0.321183192 & train\\\\\n\t4...4 & Ashton Dulin          & 2020122709 &  988 & 1 &  0.449320913 & train\\\\\n\t5...5 & Corey Coleman         & 2018123008 & 2797 & 2 &  0.255188575 & train\\\\\n\t6...6 & Michael Walker        & 2019122205 & 2081 & 1 & -1.012528595 & train\\\\\n\t7...7 & Kalif Raymond         & 2019122210 & 3262 & 1 & -0.903580207 & train\\\\\n\t8...8 & Rashard Higgins       & 2019122206 & 2220 & 1 &  1.231791375 & train\\\\\n\t9...9 & D'Ernest Johnson      & 2021010304 & 2225 & 2 &  0.003569419 & train\\\\\n\t10...10 & Pharoh Cooper         & 2019122914 & 1649 & 1 & -0.753044051 & train\\\\\n\t11...11 & Cordarrelle Patterson & 2018122308 & 2010 & 1 & -0.796496101 & train\\\\\n\t12...12 & J'Mon Moore           & 2018122309 & 2871 & 1 & -0.646104079 & train\\\\\n\t13...13 & Darius Phillips       & 2019122208 & 3596 & 2 & -0.679598187 & train\\\\\n\t14...14 & Troymaine Pope        & 2019122908 & 2439 & 1 & -0.586608845 & train\\\\\n\t15...15 & River Cracraft        & 2018123013 & 2270 & 1 & -0.345031769 & train\\\\\n\t16...16 & Justin Jackson        & 2019122908 &   36 & 1 & -0.644095663 & train\\\\\n\t17...17 & Alex Erickson         & 2018123009 & 1853 & 1 &  0.550842786 & train\\\\\n\t18...18 & Austin Walter         & 2021010315 & 3105 & 1 & -0.130460538 & train\\\\\n\t19...19 & Andre Roberts         & 2018122309 &   36 & 2 &  0.187827953 & train\\\\\n\t20...20 & Alex Erickson         & 2019122903 & 1794 & 1 & -0.681143589 & train\\\\\n\t21...21 & Kenyan Drake          & 2018123001 & 3591 & 1 & -0.115108640 & train\\\\\n\t22...22 & Jabrill Peppers       & 2018123000 &   36 & 2 & -0.073580868 & train\\\\\n\t23...23 & Andre Roberts         & 2018122309 & 4703 & 2 &  1.186246771 & train\\\\\n\t24...24 & Rashad Fenton         & 2021010306 &  574 & 2 &  0.003713552 & train\\\\\n\t25...25 & Cody Latimer          & 2018123008 & 4538 & 2 &  1.646267777 & train\\\\\n\t26...26 & Kerrith Whyte         & 2019122209 & 2599 & 2 & -0.465778238 & train\\\\\n\t27...27 & Andre Roberts         & 2019122101 & 2159 & 1 & -0.836219586 & train\\\\\n\t28...28 & Ray-Ray McCloud       & 2021010304 & 1312 & 1 & -0.213720210 & train\\\\\n\t29...29 & Darius Jennings       & 2019122906 &  413 & 2 & -0.786682293 & train\\\\\n\t30...30 & Alex Erickson         & 2018122305 & 2407 & 2 & -0.931277339 & train\\\\\n\t⋮ & ⋮ & ⋮ & ⋮ & ⋮ & ⋮ & ⋮\\\\\n\t57...314 & Kenjon Barner   & 2019122912 & 2309 & 1 & -1.02187939 & test\\\\\n\t58...315 & Kenjon Barner   & 2020122600 & 2601 & 2 &  0.86580573 & test\\\\\n\t59...316 & Kenyan Drake    & 2018122302 &  704 & 1 & -0.58066774 & test\\\\\n\t60...317 & Kenyan Drake    & 2018122302 & 3325 & 1 &  0.03944435 & test\\\\\n\t61...318 & Kenyan Drake    & 2018123001 &  525 & 1 & -0.79069912 & test\\\\\n\t62...319 & Marvin Hall     & 2018123010 & 2759 & 2 & -0.16679848 & test\\\\\n\t63...320 & Mecole Hardman  & 2019122908 & 3355 & 1 &  1.25800310 & test\\\\\n\t64...321 & Nasir Adderley  & 2020122702 & 3096 & 2 & -0.27752701 & test\\\\\n\t65...322 & Nsimba Webster  & 2020122711 & 4034 & 1 &  0.07494687 & test\\\\\n\t66...323 & Nyheim Hines    & 2019122907 & 3576 & 1 & -0.79256341 & test\\\\\n\t67...324 & Rashad Fenton   & 2021010306 &   39 & 2 & -0.12259515 & test\\\\\n\t68...325 & Ray-Ray McCloud & 2020122709 &   40 & 1 &  0.57015152 & test\\\\\n\t69...326 & Raymond Calais  & 2021010314 & 2102 & 2 & -0.13887308 & test\\\\\n\t70...327 & Richie James    & 2019122102 &  253 & 2 & -0.58660885 & test\\\\\n\t71...328 & Robby Anderson  & 2018122309 & 4022 & 1 &  0.71288228 & test\\\\\n\t72...329 & Ryan Switzer    & 2018123009 & 1525 & 2 &  1.84774249 & test\\\\\n\t73...330 & Sony Michel     & 2018122308 & 2454 & 1 & -0.68553930 & test\\\\\n\t74...331 & Tony Pollard    & 2021010308 &  217 & 1 & -0.31725050 & test\\\\\n\t75...332 & Tony Pollard    & 2021010308 & 1539 & 2 &  0.70894959 & test\\\\\n\t76...333 & Trenton Cannon  & 2018122309 & 2280 & 1 &  0.01344322 & test\\\\\n\t77...334 & Trevor Davis    & 2019122910 & 1702 & 1 & -0.29942717 & test\\\\\n\t78...335 & Tyler Ervin     & 2019122905 & 2230 & 2 &  1.01002190 & test\\\\\n\t79...336 & Tyler Ervin     & 2019122905 & 3587 & 1 & -0.48747427 & test\\\\\n\t80...337 & Tyler Lockett   & 2018123015 & 3287 & 1 & -0.52326506 & test\\\\\n\t81...338 & Victor Bolden   & 2018122308 &  507 & 1 & -0.52920617 & test\\\\\n\t82...339 & Victor Bolden   & 2018122308 & 1398 & 2 &  0.73650259 & test\\\\\n\t83...340 & Vyncint Smith   & 2019122901 &   45 & 1 & -0.52920617 & test\\\\\n\t84...341 & Zach Pascal     & 2018122300 & 2816 & 2 & -0.44201380 & test\\\\\n\t85...342 & Zach Pascal     & 2018123011 & 3170 & 2 & -0.05523453 & test\\\\\n\t86...343 & Zach Pascal     & 2021010313 & 2047 & 2 &          NA & test\\\\\n\\end{tabular}\n",
            "text/plain": [
              "         truth.displayName.x   truth.gameId truth.playId\n",
              "1...1    Chris Herndon         2018123006   2312        \n",
              "2...2    Brandon Wilson        2020122706   2718        \n",
              "3...3    Boston Scott          2019122911     36        \n",
              "4...4    Ashton Dulin          2020122709    988        \n",
              "5...5    Corey Coleman         2018123008   2797        \n",
              "6...6    Michael Walker        2019122205   2081        \n",
              "7...7    Kalif Raymond         2019122210   3262        \n",
              "8...8    Rashard Higgins       2019122206   2220        \n",
              "9...9    D'Ernest Johnson      2021010304   2225        \n",
              "10...10  Pharoh Cooper         2019122914   1649        \n",
              "11...11  Cordarrelle Patterson 2018122308   2010        \n",
              "12...12  J'Mon Moore           2018122309   2871        \n",
              "13...13  Darius Phillips       2019122208   3596        \n",
              "14...14  Troymaine Pope        2019122908   2439        \n",
              "15...15  River Cracraft        2018123013   2270        \n",
              "16...16  Justin Jackson        2019122908     36        \n",
              "17...17  Alex Erickson         2018123009   1853        \n",
              "18...18  Austin Walter         2021010315   3105        \n",
              "19...19  Andre Roberts         2018122309     36        \n",
              "20...20  Alex Erickson         2019122903   1794        \n",
              "21...21  Kenyan Drake          2018123001   3591        \n",
              "22...22  Jabrill Peppers       2018123000     36        \n",
              "23...23  Andre Roberts         2018122309   4703        \n",
              "24...24  Rashad Fenton         2021010306    574        \n",
              "25...25  Cody Latimer          2018123008   4538        \n",
              "26...26  Kerrith Whyte         2019122209   2599        \n",
              "27...27  Andre Roberts         2019122101   2159        \n",
              "28...28  Ray-Ray McCloud       2021010304   1312        \n",
              "29...29  Darius Jennings       2019122906    413        \n",
              "30...30  Alex Erickson         2018122305   2407        \n",
              "⋮        ⋮                     ⋮            ⋮           \n",
              "57...314 Kenjon Barner         2019122912   2309        \n",
              "58...315 Kenjon Barner         2020122600   2601        \n",
              "59...316 Kenyan Drake          2018122302    704        \n",
              "60...317 Kenyan Drake          2018122302   3325        \n",
              "61...318 Kenyan Drake          2018123001    525        \n",
              "62...319 Marvin Hall           2018123010   2759        \n",
              "63...320 Mecole Hardman        2019122908   3355        \n",
              "64...321 Nasir Adderley        2020122702   3096        \n",
              "65...322 Nsimba Webster        2020122711   4034        \n",
              "66...323 Nyheim Hines          2019122907   3576        \n",
              "67...324 Rashad Fenton         2021010306     39        \n",
              "68...325 Ray-Ray McCloud       2020122709     40        \n",
              "69...326 Raymond Calais        2021010314   2102        \n",
              "70...327 Richie James          2019122102    253        \n",
              "71...328 Robby Anderson        2018122309   4022        \n",
              "72...329 Ryan Switzer          2018123009   1525        \n",
              "73...330 Sony Michel           2018122308   2454        \n",
              "74...331 Tony Pollard          2021010308    217        \n",
              "75...332 Tony Pollard          2021010308   1539        \n",
              "76...333 Trenton Cannon        2018122309   2280        \n",
              "77...334 Trevor Davis          2019122910   1702        \n",
              "78...335 Tyler Ervin           2019122905   2230        \n",
              "79...336 Tyler Ervin           2019122905   3587        \n",
              "80...337 Tyler Lockett         2018123015   3287        \n",
              "81...338 Victor Bolden         2018122308    507        \n",
              "82...339 Victor Bolden         2018122308   1398        \n",
              "83...340 Vyncint Smith         2019122901     45        \n",
              "84...341 Zach Pascal           2018122300   2816        \n",
              "85...342 Zach Pascal           2018123011   3170        \n",
              "86...343 Zach Pascal           2021010313   2047        \n",
              "         truth.YardResult_over25 Class1       type \n",
              "1...1    2                        2.424258393 train\n",
              "2...2    1                       -0.947032256 train\n",
              "3...3    1                       -0.321183192 train\n",
              "4...4    1                        0.449320913 train\n",
              "5...5    2                        0.255188575 train\n",
              "6...6    1                       -1.012528595 train\n",
              "7...7    1                       -0.903580207 train\n",
              "8...8    1                        1.231791375 train\n",
              "9...9    2                        0.003569419 train\n",
              "10...10  1                       -0.753044051 train\n",
              "11...11  1                       -0.796496101 train\n",
              "12...12  1                       -0.646104079 train\n",
              "13...13  2                       -0.679598187 train\n",
              "14...14  1                       -0.586608845 train\n",
              "15...15  1                       -0.345031769 train\n",
              "16...16  1                       -0.644095663 train\n",
              "17...17  1                        0.550842786 train\n",
              "18...18  1                       -0.130460538 train\n",
              "19...19  2                        0.187827953 train\n",
              "20...20  1                       -0.681143589 train\n",
              "21...21  1                       -0.115108640 train\n",
              "22...22  2                       -0.073580868 train\n",
              "23...23  2                        1.186246771 train\n",
              "24...24  2                        0.003713552 train\n",
              "25...25  2                        1.646267777 train\n",
              "26...26  2                       -0.465778238 train\n",
              "27...27  1                       -0.836219586 train\n",
              "28...28  1                       -0.213720210 train\n",
              "29...29  2                       -0.786682293 train\n",
              "30...30  2                       -0.931277339 train\n",
              "⋮        ⋮                       ⋮            ⋮    \n",
              "57...314 1                       -1.02187939  test \n",
              "58...315 2                        0.86580573  test \n",
              "59...316 1                       -0.58066774  test \n",
              "60...317 1                        0.03944435  test \n",
              "61...318 1                       -0.79069912  test \n",
              "62...319 2                       -0.16679848  test \n",
              "63...320 1                        1.25800310  test \n",
              "64...321 2                       -0.27752701  test \n",
              "65...322 1                        0.07494687  test \n",
              "66...323 1                       -0.79256341  test \n",
              "67...324 2                       -0.12259515  test \n",
              "68...325 1                        0.57015152  test \n",
              "69...326 2                       -0.13887308  test \n",
              "70...327 2                       -0.58660885  test \n",
              "71...328 1                        0.71288228  test \n",
              "72...329 2                        1.84774249  test \n",
              "73...330 1                       -0.68553930  test \n",
              "74...331 1                       -0.31725050  test \n",
              "75...332 2                        0.70894959  test \n",
              "76...333 1                        0.01344322  test \n",
              "77...334 1                       -0.29942717  test \n",
              "78...335 2                        1.01002190  test \n",
              "79...336 1                       -0.48747427  test \n",
              "80...337 1                       -0.52326506  test \n",
              "81...338 1                       -0.52920617  test \n",
              "82...339 2                        0.73650259  test \n",
              "83...340 1                       -0.52920617  test \n",
              "84...341 2                       -0.44201380  test \n",
              "85...342 2                       -0.05523453  test \n",
              "86...343 2                                NA  test "
            ]
          },
          "metadata": {}
        }
      ]
    },
    {
      "cell_type": "code",
      "source": [
        "# Generating ROC Plots for both training and test sets\n",
        "\n",
        "p_train <- ggplot(results_train,\n",
        "            aes(m=Class1, d = truth.YardResult_over25)) +\n",
        "    geom_roc(labelsize = 3.5, \n",
        "             cutoffs.at = c(0.99,0.9,0.7,0.5,0.3,0.1,0)) +\n",
        "  theme_minimal(base_size = 16)\n",
        "\n",
        "p_test <- ggplot(results_test,\n",
        "            aes(m=Class1, d = truth.YardResult_over25)) +\n",
        "    geom_roc(labelsize = 3.5, \n",
        "             cutoffs.at = c(0.99,0.9,0.7,0.5,0.3,0.1,0)) +\n",
        "  theme_minimal(base_size = 16)\n",
        "\n",
        "print(p_train)\n",
        "print(p_test)"
      ],
      "metadata": {
        "colab": {
          "base_uri": "https://localhost:8080/",
          "height": 926
        },
        "id": "v8f2YhXvxMyy",
        "outputId": "f21e222e-5ee8-4d34-d979-607fd07f8c6f"
      },
      "execution_count": 98,
      "outputs": [
        {
          "output_type": "stream",
          "name": "stderr",
          "text": [
            "Warning message in verify_d(data$d):\n",
            "“D not labeled 0/1, assuming 1 = 0 and 2 = 1!”\n",
            "Warning message in verify_d(data$d):\n",
            "“D not labeled 0/1, assuming 1 = 0 and 2 = 1!”\n"
          ]
        },
        {
          "output_type": "display_data",
          "data": {
            "text/plain": [
              "plot without title"
            ],
            "image/png": "[encoded data removed]"
          },
          "metadata": {
            "image/png": {
              "width": 420,
              "height": 420
            }
          }
        },
        {
          "output_type": "display_data",
          "data": {
            "text/plain": [
              "plot without title"
            ],
            "image/png": "[encoded data removed]"
          },
          "metadata": {
            "image/png": {
              "width": 420,
              "height": 420
            }
          }
        }
      ]
    },
    {
      "cell_type": "code",
      "source": [
        "# Calculating the Area Under the Curve (AUC)\n",
        "\n",
        "calc_auc(p_train)\n",
        "calc_auc(p_test) "
      ],
      "metadata": {
        "colab": {
          "base_uri": "https://localhost:8080/",
          "height": 311
        },
        "id": "T7y390-FxYEp",
        "outputId": "2cd1901e-9059-4354-9b37-1d7fc1e5a44d"
      },
      "execution_count": 99,
      "outputs": [
        {
          "output_type": "stream",
          "name": "stderr",
          "text": [
            "Warning message in verify_d(data$d):\n",
            "“D not labeled 0/1, assuming 1 = 0 and 2 = 1!”\n"
          ]
        },
        {
          "output_type": "display_data",
          "data": {
            "text/html": [
              "<table class=\"dataframe\">\n",
              "<caption>A data.frame: 1 × 3</caption>\n",
              "<thead>\n",
              "\t<tr><th scope=col>PANEL</th><th scope=col>group</th><th scope=col>AUC</th></tr>\n",
              "\t<tr><th scope=col>&lt;fct&gt;</th><th scope=col>&lt;int&gt;</th><th scope=col>&lt;dbl&gt;</th></tr>\n",
              "</thead>\n",
              "<tbody>\n",
              "\t<tr><td>1</td><td>-1</td><td>0.6343235</td></tr>\n",
              "</tbody>\n",
              "</table>\n"
            ],
            "text/markdown": "\nA data.frame: 1 × 3\n\n| PANEL &lt;fct&gt; | group &lt;int&gt; | AUC &lt;dbl&gt; |\n|---|---|---|\n| 1 | -1 | 0.6343235 |\n\n",
            "text/latex": "A data.frame: 1 × 3\n\\begin{tabular}{lll}\n PANEL & group & AUC\\\\\n <fct> & <int> & <dbl>\\\\\n\\hline\n\t 1 & -1 & 0.6343235\\\\\n\\end{tabular}\n",
            "text/plain": [
              "  PANEL group AUC      \n",
              "1 1     -1    0.6343235"
            ]
          },
          "metadata": {}
        },
        {
          "output_type": "stream",
          "name": "stderr",
          "text": [
            "Warning message in verify_d(data$d):\n",
            "“D not labeled 0/1, assuming 1 = 0 and 2 = 1!”\n"
          ]
        },
        {
          "output_type": "display_data",
          "data": {
            "text/html": [
              "<table class=\"dataframe\">\n",
              "<caption>A data.frame: 1 × 3</caption>\n",
              "<thead>\n",
              "\t<tr><th scope=col>PANEL</th><th scope=col>group</th><th scope=col>AUC</th></tr>\n",
              "\t<tr><th scope=col>&lt;fct&gt;</th><th scope=col>&lt;int&gt;</th><th scope=col>&lt;dbl&gt;</th></tr>\n",
              "</thead>\n",
              "<tbody>\n",
              "\t<tr><td>1</td><td>-1</td><td>0.6742381</td></tr>\n",
              "</tbody>\n",
              "</table>\n"
            ],
            "text/markdown": "\nA data.frame: 1 × 3\n\n| PANEL &lt;fct&gt; | group &lt;int&gt; | AUC &lt;dbl&gt; |\n|---|---|---|\n| 1 | -1 | 0.6742381 |\n\n",
            "text/latex": "A data.frame: 1 × 3\n\\begin{tabular}{lll}\n PANEL & group & AUC\\\\\n <fct> & <int> & <dbl>\\\\\n\\hline\n\t 1 & -1 & 0.6742381\\\\\n\\end{tabular}\n",
            "text/plain": [
              "  PANEL group AUC      \n",
              "1 1     -1    0.6742381"
            ]
          },
          "metadata": {}
        }
      ]
    }
  ]
}